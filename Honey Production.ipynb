{
 "cells": [
  {
   "cell_type": "markdown",
   "id": "768c1410-c33e-40a5-94dc-e20361a96f2c",
   "metadata": {},
   "source": [
    "# Honey Production in the US 1992-2012\n",
    "\n",
    "https://www.census.gov/data/tables/time-series/dec/popchange-data-text.html\n",
    "\n",
    "https://www.kaggle.com/datasets/jessicali9530/honey-production"
   ]
  }
 ],
 "metadata": {
  "kernelspec": {
   "display_name": "Dyalog APL",
   "language": "apl",
   "name": "dyalog-kernel"
  },
  "language_info": {
   "file_extension": ".apl",
   "mimetype": "text/apl",
   "name": "APL"
  }
 },
 "nbformat": 4,
 "nbformat_minor": 5
}
