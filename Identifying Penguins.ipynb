{
 "cells": [
  {
   "cell_type": "markdown",
   "id": "df52882b",
   "metadata": {},
   "source": [
    "# Identifying Penguins\n",
    "In this notebook we are going to write a simple model to identify species of penguin based on some measurements.\n",
    "\n",
    "We will base our model on the [Palmer Archipelago (Antarctica) penguin data from Kaggle](https://www.kaggle.com/datasets/parulpandey/palmer-archipelago-antarctica-penguin-data)."
   ]
  },
  {
   "cell_type": "code",
   "execution_count": 4,
   "id": "793de292",
   "metadata": {},
   "outputs": [
    {
     "data": {
      "text/html": [
       "<pre class=\"language-APL\">Was OFF -fold=3\n",
       "</pre>"
      ]
     },
     "execution_count": 4,
     "metadata": {},
     "output_type": "execute_result"
    },
    {
     "data": {
      "text/html": [
       "<pre class=\"language-APL\">Was ON -fns=on\n",
       "</pre>"
      ]
     },
     "execution_count": 4,
     "metadata": {},
     "output_type": "execute_result"
    }
   ],
   "source": [
    "]rows on -fold=3\n",
    "]box on -fns=on"
   ]
  },
  {
   "cell_type": "code",
   "execution_count": 2,
   "id": "52ec086b",
   "metadata": {},
   "outputs": [
    {
     "data": {
      "text/html": [
       "<pre class=\"language-APL\">#.penguins_lter\n",
       "</pre>"
      ]
     },
     "execution_count": 2,
     "metadata": {},
     "output_type": "execute_result"
    }
   ],
   "source": [
    "]get /tmp/penguin-data/penguins_lter.csv"
   ]
  },
  {
   "cell_type": "code",
   "execution_count": 5,
   "id": "1271b8a7",
   "metadata": {
    "scrolled": true
   },
   "outputs": [
    {
     "data": {
      "text/html": [
       "<pre class=\"language-APL\">┌─────────┬─────────────┬───────┬──────┬──────┬─────┬─────────────┬─────────────────┬────────┬──────────────────┬─────────────────┬───────────────────┬─────────────┬───┬─────────────────┬─────────────────┬────────┐\n",
       "│studyName│Sample Number│Species│Region│Island│Stage│Individual ID│Clutch Completion│Date Egg│Culmen Length (mm)│Culmen Depth (mm)│Flipper Length (mm)│Body Mass (g)│Sex│Delta 15 N (o/oo)│Delta 13 C (o/oo)│Comments│\n",
       "└─────────┴─────────────┴───────┴──────┴──────┴─────┴─────────────┴─────────────────┴────────┴──────────────────┴─────────────────┴───────────────────┴─────────────┴───┴─────────────────┴─────────────────┴────────┘\n",
       "</pre>"
      ]
     },
     "execution_count": 5,
     "metadata": {},
     "output_type": "execute_result"
    }
   ],
   "source": [
    "(head data)←(1∘⌷,⍥⊂1∘↓)penguins_lter\n",
    "head"
   ]
  },
  {
   "cell_type": "markdown",
   "id": "1a74789d",
   "metadata": {},
   "source": [
    "Our helper function `Cols` will let us select data by column name:"
   ]
  },
  {
   "cell_type": "code",
   "execution_count": 6,
   "id": "576d17d5",
   "metadata": {},
   "outputs": [],
   "source": [
    "Cols ← {data[;head⍳⊆⍵]}"
   ]
  },
  {
   "cell_type": "markdown",
   "id": "97f52f17",
   "metadata": {},
   "source": [
    "We can now see how many samples we have for each species of penguin:"
   ]
  },
  {
   "cell_type": "code",
   "execution_count": 7,
   "id": "d5458770",
   "metadata": {},
   "outputs": [
    {
     "data": {
      "text/html": [
       "<pre class=\"language-APL\">┌─────────────────────────────────────────┬───┐\n",
       "│Adelie Penguin (Pygoscelis adeliae)      │152│\n",
       "├─────────────────────────────────────────┼───┤\n",
       "│Chinstrap penguin (Pygoscelis antarctica)│68 │\n",
       "├─────────────────────────────────────────┼───┤\n",
       "│Gentoo penguin (Pygoscelis papua)        │124│\n",
       "└─────────────────────────────────────────┴───┘\n",
       "</pre>"
      ]
     },
     "execution_count": 7,
     "metadata": {},
     "output_type": "execute_result"
    }
   ],
   "source": [
    "{⍺,≢⍵}⌸Cols'Species'"
   ]
  },
  {
   "cell_type": "markdown",
   "id": "ffe79cc9",
   "metadata": {},
   "source": [
    "## Cleaning data\n",
    "Attempt to clean original data and see what the \"size\" data is"
   ]
  },
  {
   "cell_type": "code",
   "execution_count": 9,
   "id": "a7e2eea9",
   "metadata": {},
   "outputs": [
    {
     "data": {
      "text/html": [
       "<pre class=\"language-APL\">#.penguins_size\n",
       "</pre>"
      ]
     },
     "execution_count": 9,
     "metadata": {},
     "output_type": "execute_result"
    }
   ],
   "source": [
    "]get /tmp/penguin-data/penguins_size.csv"
   ]
  },
  {
   "cell_type": "code",
   "execution_count": 10,
   "id": "32e1be45",
   "metadata": {},
   "outputs": [
    {
     "data": {
      "text/html": [
       "<pre class=\"language-APL\">345\n",
       "</pre>"
      ]
     },
     "execution_count": 10,
     "metadata": {},
     "output_type": "execute_result"
    },
    {
     "data": {
      "text/html": [
       "<pre class=\"language-APL\">┌───────┬─────────┬────────────────┬───────────────┬─────────────────┬───────────┬──────┐\n",
       "│species│island   │culmen_length_mm│culmen_depth_mm│flipper_length_mm│body_mass_g│sex   │\n",
       "├───────┼─────────┼────────────────┼───────────────┼─────────────────┼───────────┼──────┤\n",
       "│Adelie │Torgersen│39.1            │18.7           │181              │3750       │MALE  │\n",
       "├───────┼─────────┼────────────────┼───────────────┼─────────────────┼───────────┼──────┤\n",
       "│Adelie │Torgersen│39.5            │17.4           │186              │3800       │FEMALE│\n",
       "└───────┴─────────┴────────────────┴───────────────┴─────────────────┴───────────┴──────┘\n",
       "</pre>"
      ]
     },
     "execution_count": 10,
     "metadata": {},
     "output_type": "execute_result"
    }
   ],
   "source": [
    "≢penguins_size\n",
    "3↑penguins_size"
   ]
  },
  {
   "cell_type": "code",
   "execution_count": 11,
   "id": "4dd4ccf6",
   "metadata": {},
   "outputs": [
    {
     "data": {
      "text/html": [
       "<pre class=\"language-APL\">344\n",
       "</pre>"
      ]
     },
     "execution_count": 11,
     "metadata": {},
     "output_type": "execute_result"
    }
   ],
   "source": [
    "≢data"
   ]
  }
 ],
 "metadata": {
  "kernelspec": {
   "display_name": "Dyalog APL",
   "language": "apl",
   "name": "dyalog-kernel"
  },
  "language_info": {
   "file_extension": ".apl",
   "mimetype": "text/apl",
   "name": "APL"
  }
 },
 "nbformat": 4,
 "nbformat_minor": 5
}
