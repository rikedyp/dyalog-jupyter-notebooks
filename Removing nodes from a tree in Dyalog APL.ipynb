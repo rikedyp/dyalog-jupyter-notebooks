{
 "cells": [
  {
   "cell_type": "markdown",
   "id": "d40d1eba",
   "metadata": {},
   "source": [
    "# How to remove nodes from a tree structure in Dyalog APL"
   ]
  },
  {
   "cell_type": "markdown",
   "id": "9cd96967",
   "metadata": {},
   "source": [
    "Let us take a simple example of some XHTML. We are going to remove tags with `class=\"remove\"` but keep their children, lifting all descendants one level in the tree.\n",
    "\n",
    "The following is stored in a character vector `xhtml`:"
   ]
  },
  {
   "cell_type": "code",
   "execution_count": 1,
   "id": "fa0f75d3",
   "metadata": {},
   "outputs": [],
   "source": [
    "nl←⎕UCS 10\n",
    "xhtml ← '<div class=\"remove\">',nl\n",
    "xhtml,← '  <h1>Title</h1>',nl\n",
    "xhtml,← '  <div>',nl\n",
    "xhtml,← '    <p>nested p in nested div</p>',nl\n",
    "xhtml,← '  </div>',nl\n",
    "xhtml,← '  <p>Some text</p>',nl\n",
    "xhtml,← '</div>',nl\n",
    "xhtml,← nl\n",
    "xhtml,← '<div>',nl\n",
    "xhtml,← '  <p class=\"remove\">',nl\n",
    "xhtml,← '    Here is text with <strong>bold</strong> tag inside.',nl\n",
    "xhtml,← '  </p>',nl\n",
    "xhtml,← '</div>',nl"
   ]
  },
  {
   "cell_type": "code",
   "execution_count": 2,
   "id": "15778466",
   "metadata": {},
   "outputs": [
    {
     "data": {
      "text/html": [
       "<pre class=\"language-APL\">&lt;div class=\"remove\"&gt;\n",
       "  &lt;h1&gt;Title&lt;/h1&gt;\n",
       "  &lt;div&gt;\n",
       "    &lt;p&gt;nested p in nested div&lt;/p&gt;\n",
       "  &lt;/div&gt;\n",
       "  &lt;p&gt;Some text&lt;/p&gt;\n",
       "&lt;/div&gt;\n",
       "\n",
       "&lt;div&gt;\n",
       "  &lt;p class=\"remove\"&gt;\n",
       "    Here is text with &lt;strong&gt;bold&lt;/strong&gt; tag inside.\n",
       "  &lt;/p&gt;\n",
       "&lt;/div&gt;\n",
       "\n",
       "</pre>"
      ]
     },
     "execution_count": 2,
     "metadata": {},
     "output_type": "execute_result"
    }
   ],
   "source": [
    "xhtml"
   ]
  },
  {
   "cell_type": "markdown",
   "id": "d7c447d7",
   "metadata": {},
   "source": [
    "First we use `⎕XML` to parse the tree structure into a depth-vector representation.\n",
    "\n",
    "The result of `⎕XML` is a matrix with columns:\n",
    "- depth `d` integer vector of node depth in order of a depth-first pre-order traversal.\n",
    "- XML tag `t` nested vector of character vectors\n",
    "- value `v` nested vector of character vectors\n",
    "- attributes `a` nested vector of nested matrices, each with 2-element rows of the attribute key and value\n",
    "- kind `k` is a numeric vector which indicates whether the row contains an element, child element, character data etc. according to the table in [the `⎕XML` documentation](https://help.dyalog.com/latest/#Language/System%20Functions/xml.htm)\n",
    "\n",
    "We extract these columns into a vector variable for each column using split-transpose `↓⍉`:"
   ]
  },
  {
   "cell_type": "code",
   "execution_count": 4,
   "id": "58d28a12",
   "metadata": {},
   "outputs": [],
   "source": [
    "(d t v a k) ← ↓⍉ ⎕XML xhtml"
   ]
  },
  {
   "cell_type": "markdown",
   "id": "ce986d78",
   "metadata": {},
   "source": [
    "Now we identify the tags to remove.\n",
    "\n",
    "We want to find nodes with a row in their attributes matrix `'class' 'remove'`. The high-rank version of the *membership* function uses index-of to see whether a cell `⍺` is present as a major cell in `⍵`."
   ]
  },
  {
   "cell_type": "code",
   "execution_count": 5,
   "id": "a1c04222",
   "metadata": {},
   "outputs": [],
   "source": [
    "E←{(≢⍵)≥⍵⍳⍺}"
   ]
  },
  {
   "cell_type": "code",
   "execution_count": 6,
   "id": "dd362d0e",
   "metadata": {},
   "outputs": [
    {
     "data": {
      "text/html": [
       "<pre class=\"language-APL\">1 0 0 0 0 0 1 0 0 0\n",
       "</pre>"
      ]
     },
     "execution_count": 6,
     "metadata": {},
     "output_type": "execute_result"
    }
   ],
   "source": [
    "⎕←remove←'class' 'remove'∘E¨a"
   ]
  },
  {
   "cell_type": "markdown",
   "id": "9364b269",
   "metadata": {},
   "source": [
    "Note on faster lookups. The nested array representation returned by `⎕XML` is inefficient. With some overhead at conversion time, we can have a flat representation of each column - also known as an inverted table."
   ]
  },
  {
   "cell_type": "code",
   "execution_count": 19,
   "id": "00377fe6",
   "metadata": {},
   "outputs": [
    {
     "data": {
      "text/html": [
       "<pre class=\"language-APL\">┌──────┬──────────────────────┬──────────────┐\n",
       "│div   │                      │┌─────┬──────┐│\n",
       "│h1    │Title                 ││class│remove││\n",
       "│div   │                      │└─────┴──────┘│\n",
       "│p     │nested p in nested div│┌─────┬──────┐│\n",
       "│p     │Some text             ││     │      ││\n",
       "│div   │                      │└─────┴──────┘│\n",
       "│p     │                      │┌─────┬──────┐│\n",
       "│      │Here is text with     ││     │      ││\n",
       "│strong│bold                  │└─────┴──────┘│\n",
       "│      │tag inside.           │┌─────┬──────┐│\n",
       "│      │                      ││     │      ││\n",
       "│      │                      │└─────┴──────┘│\n",
       "│      │                      │┌─────┬──────┐│\n",
       "│      │                      ││     │      ││\n",
       "│      │                      │└─────┴──────┘│\n",
       "│      │                      │┌─────┬──────┐│\n",
       "│      │                      ││     │      ││\n",
       "│      │                      │└─────┴──────┘│\n",
       "│      │                      │┌─────┬──────┐│\n",
       "│      │                      ││class│remove││\n",
       "│      │                      │└─────┴──────┘│\n",
       "│      │                      │┌─────┬──────┐│\n",
       "│      │                      ││     │      ││\n",
       "│      │                      │└─────┴──────┘│\n",
       "│      │                      │┌─────┬──────┐│\n",
       "│      │                      ││     │      ││\n",
       "│      │                      │└─────┴──────┘│\n",
       "│      │                      │┌─────┬──────┐│\n",
       "│      │                      ││     │      ││\n",
       "│      │                      │└─────┴──────┘│\n",
       "└──────┴──────────────────────┴──────────────┘\n",
       "</pre>"
      ]
     },
     "execution_count": 19,
     "metadata": {},
     "output_type": "execute_result"
    }
   ],
   "source": [
    "↑¨t v a"
   ]
  },
  {
   "cell_type": "markdown",
   "id": "8941df62",
   "metadata": {},
   "source": [
    "The easiest way to identify descendants is using the parent vector `p`, defined from `d` with the following idiom:"
   ]
  },
  {
   "cell_type": "code",
   "execution_count": 7,
   "id": "03a7d823",
   "metadata": {},
   "outputs": [],
   "source": [
    "{}2{p[⍵]←⍺[⍺⍸⍵]}⌿⊢∘⊂⌸d⊣p←⍳≢d"
   ]
  },
  {
   "cell_type": "markdown",
   "id": "b502e0ee",
   "metadata": {},
   "source": [
    "The leading `{}` is to ensure that data from the reduction is discarded."
   ]
  },
  {
   "cell_type": "markdown",
   "id": "96caa9f8",
   "metadata": {},
   "source": [
    "Any top-level node is its own parent."
   ]
  },
  {
   "cell_type": "code",
   "execution_count": 8,
   "id": "2d87acdb",
   "metadata": {},
   "outputs": [
    {
     "data": {
      "text/html": [
       "<pre class=\"language-APL\">┌───┬─────┬───┬──────────────────────┬─────────┬───┬─┬─────────────────┬──────┬───────────┐\n",
       "│1  │2    │3  │4                     │5        │6  │7│8                │9     │10         │\n",
       "├───┼─────┼───┼──────────────────────┼─────────┼───┼─┼─────────────────┼──────┼───────────┤\n",
       "│0  │1    │1  │2                     │1        │0  │1│2                │2     │2          │\n",
       "├───┼─────┼───┼──────────────────────┼─────────┼───┼─┼─────────────────┼──────┼───────────┤\n",
       "│1  │1    │1  │3                     │1        │6  │6│7                │7     │7          │\n",
       "├───┼─────┼───┼──────────────────────┼─────────┼───┼─┼─────────────────┼──────┼───────────┤\n",
       "│div│h1   │div│p                     │p        │div│p│                 │strong│           │\n",
       "├───┼─────┼───┼──────────────────────┼─────────┼───┼─┼─────────────────┼──────┼───────────┤\n",
       "│   │Title│   │nested p in nested div│Some text│   │ │Here is text with│bold  │tag inside.│\n",
       "└───┴─────┴───┴──────────────────────┴─────────┴───┴─┴─────────────────┴──────┴───────────┘\n",
       "</pre>"
      ]
     },
     "execution_count": 8,
     "metadata": {},
     "output_type": "execute_result"
    }
   ],
   "source": [
    "i←⍳≢d\n",
    "↑i d p t v"
   ]
  },
  {
   "cell_type": "markdown",
   "id": "71596be4",
   "metadata": {},
   "source": [
    "We can now identify nodes whose parent we are going to remove. `remove[p]` says whether our parent is marked for removal. That is, if we are the children of a tag to be removed."
   ]
  },
  {
   "cell_type": "code",
   "execution_count": 14,
   "id": "e331868f",
   "metadata": {
    "scrolled": true
   },
   "outputs": [
    {
     "data": {
      "text/html": [
       "<pre class=\"language-APL\">1 1 1 0 1 0 0 1 1 1\n",
       "</pre>"
      ]
     },
     "execution_count": 14,
     "metadata": {},
     "output_type": "execute_result"
    }
   ],
   "source": [
    "remove[p]"
   ]
  },
  {
   "cell_type": "markdown",
   "id": "0af9e5be",
   "metadata": {},
   "source": [
    "`remove∨remove[p]` asks if we or our parents are marked for removal:"
   ]
  },
  {
   "cell_type": "code",
   "execution_count": 16,
   "id": "53e41d66",
   "metadata": {},
   "outputs": [
    {
     "data": {
      "text/html": [
       "<pre class=\"language-APL\">1 1 1 0 1 0 1 1 1 1\n",
       "</pre>"
      ]
     },
     "execution_count": 16,
     "metadata": {},
     "output_type": "execute_result"
    }
   ],
   "source": [
    "remove∨remove[p]"
   ]
  },
  {
   "cell_type": "markdown",
   "id": "3e7d7786",
   "metadata": {},
   "source": [
    "To get all descendants, we iterate on this expression until no more children are found."
   ]
  },
  {
   "cell_type": "code",
   "execution_count": 15,
   "id": "b9ecb569",
   "metadata": {},
   "outputs": [
    {
     "data": {
      "text/html": [
       "<pre class=\"language-APL\">1 1 1 1 1 0 1 1 1 1\n",
       "</pre>"
      ]
     },
     "execution_count": 15,
     "metadata": {},
     "output_type": "execute_result"
    }
   ],
   "source": [
    "⎕←desc←{⍵∨⍵[p]}⍣≡remove"
   ]
  },
  {
   "cell_type": "markdown",
   "id": "b1b9c285",
   "metadata": {},
   "source": [
    "At this point we could remove the nodes and all their descendants with the *compress* function:"
   ]
  },
  {
   "cell_type": "code",
   "execution_count": 10,
   "id": "41cea859",
   "metadata": {},
   "outputs": [
    {
     "data": {
      "text/html": [
       "<pre class=\"language-APL\">&lt;div&gt;&lt;/div&gt;\n",
       "</pre>"
      ]
     },
     "execution_count": 10,
     "metadata": {},
     "output_type": "execute_result"
    }
   ],
   "source": [
    "⎕XML ⍉↑(d t v a)⌿¨⍨⊂~desc"
   ]
  },
  {
   "cell_type": "markdown",
   "id": "b1d21811",
   "metadata": {},
   "source": [
    "But instead we want to keep the descendants and lift them one level in the hierarchy. To do this, we simply take one from the depths of the descendants. Then we remove only those nodes we originally intended to remove."
   ]
  },
  {
   "cell_type": "code",
   "execution_count": 11,
   "id": "9d8138d0",
   "metadata": {},
   "outputs": [
    {
     "data": {
      "text/html": [
       "<pre class=\"language-APL\">&lt;h1&gt;Title&lt;/h1&gt;\n",
       "&lt;div&gt;\n",
       "  &lt;p&gt;nested p in nested div&lt;/p&gt;\n",
       "&lt;/div&gt;\n",
       "&lt;p&gt;Some text&lt;/p&gt;\n",
       "&lt;div&gt;\n",
       "  Here is text with\n",
       "  &lt;strong&gt;bold&lt;/strong&gt;\n",
       "  tag inside.\n",
       "&lt;/div&gt;\n",
       "</pre>"
      ]
     },
     "execution_count": 11,
     "metadata": {},
     "output_type": "execute_result"
    }
   ],
   "source": [
    "((desc)⌿d) -← 1\n",
    "⎕XML ⍉↑(d t v a)⌿¨⍨⊂~remove"
   ]
  },
  {
   "cell_type": "markdown",
   "id": "5d77c419",
   "metadata": {},
   "source": [
    "We have removed tags with `class=\"remove\"` and lifted their descendants in the tree structure."
   ]
  },
  {
   "cell_type": "code",
   "execution_count": 20,
   "id": "30e2e755",
   "metadata": {
    "scrolled": true
   },
   "outputs": [
    {
     "name": "stderr",
     "output_type": "stream",
     "text": [
      "DOMAIN ERROR: Left argument must be sorted ascending\n",
      "      d(⊢-1+⍸)p\n",
      "       ∧\n"
     ]
    }
   ],
   "source": [
    "d(⊢-1+⍸)p"
   ]
  },
  {
   "cell_type": "markdown",
   "id": "0eccc1af",
   "metadata": {},
   "source": [
    "## Garbage collection\n"
   ]
  },
  {
   "cell_type": "markdown",
   "id": "3586626d",
   "metadata": {},
   "source": [
    "## Aaron's notes\n",
    "- The E function strikes me as somewhat inefficient and probably wouldn't scale well for larger systems.\n",
    "- When using the D2P idiom on its own, I prefer to put something like {} in front of it or the like to ensure that I am discarding the data from the reduction\n",
    "- The use of membership to check descendants is quite expensive. There's no need to do this, and the combination of ∊ with ⍸ is even worse. You can instead use the fact that ⍵[p] gives you the Boolean mask of whether your parent is marked for removal or not. Thus, ⍵∨⍵[p] is a more intuitive way to check for removal, and can be read as, \"Either we or our parents are marked for removal.\" \n",
    "- You're working in both \"depth\" and \"parent\", which is fine to illustrate things, but it might be worth putting some \"engineering notes\" here that talk about how you wouldn't want to maintain both the depth vector and the parent vector at the same time. I prefer to \"go into parent mode\" and then do work, and then when I am done with all of that work, go back into \"depth mode\". \n",
    "- You're ending does the removal and the update of the depth vector, but this gives the impression that you don't need to worry about your parent vector. This would lead people down the path of recreating the parent vector on each iteration, which I don't think is warranted. Instead, you might consider introducing the \"garbage collection idiom\" dm(⊢-1+⍸)pv to show how to update the parent vector appropriately. \n",
    "- You also don't show how you might nicely update the columns of the tree, and instead just go straight back into a serialized ⎕XML format. Again, perfectly fine, but if you often want to do more than one thing to a tree, I prefer to use something like d t v a⌿⍨←⊂msk←... as an idiom for filtering things out and updating the columns. This then allows you to chain that together with the collection idiom.\n",
    "\n"
   ]
  }
 ],
 "metadata": {
  "kernelspec": {
   "display_name": "Dyalog APL",
   "language": "apl",
   "name": "dyalog-kernel"
  },
  "language_info": {
   "file_extension": ".apl",
   "mimetype": "text/apl",
   "name": "APL"
  }
 },
 "nbformat": 4,
 "nbformat_minor": 5
}
