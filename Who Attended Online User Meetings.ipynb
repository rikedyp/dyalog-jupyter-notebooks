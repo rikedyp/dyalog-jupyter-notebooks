{
 "cells": [
  {
   "cell_type": "markdown",
   "id": "1ac55f0b-2f14-4fcf-ad0d-8aa5941c549a",
   "metadata": {},
   "source": [
    "# Who Attended Online User Meetings\n",
    "This notebook is a supplement to the talk [The Heart of The Algorithm](https://dyalog.tv/APLSeeds23/?v=O73HYH0p8eo) given by Rich Park at the APL Seeds '23 online user meeting. In that talk, he introduces the basic syntax of APL before explaining the core algorithm used to solve this problem.\n",
    "\n",
    "In this notebook, we outline the problem and show how its solution can be used to gain insights from data. Then, we will build up the solution piece by piece, explaining every part in detail."
   ]
  },
  {
   "cell_type": "markdown",
   "id": "46d268a3-568e-4649-be47-86208a872d3c",
   "metadata": {},
   "source": [
    "## The problem\n",
    "This problem comes from the 2022 [APL Problem Solving Competition](https://www.dyalog.com/student-competition.htm). We will be solving the first task in problem 3 titled \"Meeting of the Minds\".\n",
    "\n",
    "Each year, Dyalog hosts a meeting of staff and users during which we give presentations and share ideas. For 2020 and 2021, these meetings were held online.\n",
    "\n",
    "Afterwards, we obtained the attendance data from Zoom. It has been simplified and anonymised for the purpose of this problem.\n",
    "\n",
    "**attendees.csv** is a table with columns:\n",
    "- Attendee: name of each attendee (fake, anonymous and unique for each attendee)\n",
    "- Join Time: date and time in `MM/DD/YYYY hh:mm` format when a user joined the meeting\n",
    "- Leave Time: date and time the user disconnected from the meeting\n",
    "\n",
    "The same user may join and leave the meeting multiple times.\n",
    "\n",
    "**schedule.csv** is a table with columns:\n",
    "- Session: unique text ID for each session\n",
    "- Title: presentation title or session type (e.g. break)\n",
    "- Start Time: date time when session started (same format as in attendees.csv)\n",
    "- End Time: date and time that session ended"
   ]
  },
  {
   "cell_type": "markdown",
   "id": "45bd6c83-1048-40e9-b0e8-21e6de6ae34f",
   "metadata": {},
   "source": [
    "I renamed the files to lowercase so that the `]Get` user command brings them in as arrays with the same names used in the problem description. Note that user commands are not valid APL syntax and can only be used in the interactive session (or in notebooks like this) - they cannot be used inside functions."
   ]
  },
  {
   "cell_type": "code",
   "execution_count": 1,
   "id": "a40db7ed-d2f0-450c-b799-abc8263c22ac",
   "metadata": {},
   "outputs": [
    {
     "data": {
      "text/html": [
       "<pre class=\"language-APL\">#.attendees\n",
       "</pre>"
      ]
     },
     "execution_count": 1,
     "metadata": {},
     "output_type": "execute_result"
    },
    {
     "data": {
      "text/html": [
       "<pre class=\"language-APL\">┌──────────────┬───────────────┬───────────────┬─────────┐\n",
       "│Attendee      │Join Time      │Leave Time     │Date     │\n",
       "├──────────────┼───────────────┼───────────────┼─────────┤\n",
       "│Jaslyn Chapman│11/9/2020 15:18│11/9/2020 18:04│11/9/2020│\n",
       "├──────────────┼───────────────┼───────────────┼─────────┤\n",
       "│Jaslyn Chapman│11/9/2020 13:57│11/9/2020 15:18│11/9/2020│\n",
       "├──────────────┼───────────────┼───────────────┼─────────┤\n",
       "│Dalia Gentry  │11/9/2020 13:59│11/9/2020 19:03│11/9/2020│\n",
       "├──────────────┼───────────────┼───────────────┼─────────┤\n",
       "│Mark Cannon   │11/9/2020 15:42│11/9/2020 16:16│11/9/2020│\n",
       "└──────────────┴───────────────┴───────────────┴─────────┘\n",
       "</pre>"
      ]
     },
     "execution_count": 1,
     "metadata": {},
     "output_type": "execute_result"
    }
   ],
   "source": [
    "]Get /d/Presentations/APLSeeds23/attendees.csv\n",
    "5↑attendees"
   ]
  },
  {
   "cell_type": "code",
   "execution_count": 2,
   "id": "934e745e-f889-4537-a8e1-6de98910022a",
   "metadata": {},
   "outputs": [
    {
     "data": {
      "text/html": [
       "<pre class=\"language-APL\">#.schedule\n",
       "</pre>"
      ]
     },
     "execution_count": 2,
     "metadata": {},
     "output_type": "execute_result"
    },
    {
     "data": {
      "text/html": [
       "<pre class=\"language-APL\">┌────────────┬──────────────────────────────┬───────────────┬───────────────┐\n",
       "│Session     │Title                         │Start Time     │End Time       │\n",
       "├────────────┼──────────────────────────────┼───────────────┼───────────────┤\n",
       "│2020-D01    │Welcome to Dyalog '20         │11/9/2020 14:00│11/9/2020 14:15│\n",
       "├────────────┼──────────────────────────────┼───────────────┼───────────────┤\n",
       "│2020-D02    │The Road Ahead                │11/9/2020 14:15│11/9/2020 15:00│\n",
       "├────────────┼──────────────────────────────┼───────────────┼───────────────┤\n",
       "│2020-break-1│break                         │11/9/2020 15:00│11/9/2020 15:15│\n",
       "├────────────┼──────────────────────────────┼───────────────┼───────────────┤\n",
       "│2020-D03    │Multi-line Input and Scripting│11/9/2020 15:15│11/9/2020 15:45│\n",
       "└────────────┴──────────────────────────────┴───────────────┴───────────────┘\n",
       "</pre>"
      ]
     },
     "execution_count": 2,
     "metadata": {},
     "output_type": "execute_result"
    }
   ],
   "source": [
    "]Get /d/Presentations/APLSeeds23/schedule.csv\n",
    "5↑schedule"
   ]
  },
  {
   "cell_type": "markdown",
   "id": "995fde86-cdc8-4f56-91b1-9508b197f1f7",
   "metadata": {},
   "source": [
    "## The solution\n",
    "Here we will define the `Attended` function in order to show a few applications of the result. No code will be explained yet."
   ]
  },
  {
   "cell_type": "code",
   "execution_count": 3,
   "id": "2ed71b8c-231c-49b7-a7d8-923a8a1f3cfe",
   "metadata": {},
   "outputs": [],
   "source": [
    "∇  Attended←{\n",
    "     a_cols←1⌷⍺ ⋄ a_data←1↓⍺\n",
    "     s_cols←1⌷⍵ ⋄ s_data←1↓⍵\n",
    "     Attendees←{a_data[;a_cols⍳⊆⍵]}\n",
    "     Schedule←{s_data[;s_cols⍳⊆⍵]}\n",
    "     Timestamp2Unix←{20 ⎕DT ¯1(⌽@1 2 3)¨2⊃¨': /'∘⎕VFI¨⊆⍵}\n",
    "\n",
    "     connections←Attendees'Join Time' 'Leave Time'\n",
    "     connected←'--'∘≢¨connections[;1]\n",
    "\n",
    "     (join leave)←↓⍉Timestamp2Unix connected⌿connections\n",
    "     (start end)←↓⍉Timestamp2Unix Schedule'Start Time' 'End Time'\n",
    "\n",
    "     names←Attendees'Attendee'\n",
    "     overlap←(connected⌿names){+⌿⍵}⌸⍉0⌈(end∘.⌊leave)-(start∘.⌈join)\n",
    "     0.5≤(names{∨⌿⍵}⌸connected)⍀overlap÷[2](end-start)\n",
    " }\n",
    "∇"
   ]
  },
  {
   "cell_type": "markdown",
   "id": "116a5e32-1849-44b9-bfec-2791d8ff2042",
   "metadata": {},
   "source": [
    "The result is a Boolean matrix of shape $435 \\times 48$. This corresponds to $435$ people and $48$ sessions."
   ]
  },
  {
   "cell_type": "code",
   "execution_count": 4,
   "id": "24b46b09-9f14-4718-9a87-8720e41dd0a9",
   "metadata": {},
   "outputs": [
    {
     "data": {
      "text/html": [
       "<pre class=\"language-APL\">435 48\n",
       "</pre>"
      ]
     },
     "execution_count": 4,
     "metadata": {},
     "output_type": "execute_result"
    }
   ],
   "source": [
    "⍴att←attendees Attended schedule"
   ]
  },
  {
   "cell_type": "markdown",
   "id": "a9ac239c-3b24-4cdd-b0f3-ec0a37bf67c4",
   "metadata": {},
   "source": [
    "From the result `att`, we can compute:"
   ]
  },
  {
   "cell_type": "markdown",
   "id": "1ffe878a-01f4-4351-b263-8f0357ddd7fe",
   "metadata": {},
   "source": [
    "The number of sessions attended by each person:"
   ]
  },
  {
   "cell_type": "code",
   "execution_count": 5,
   "id": "5e7c1a95-6eb4-4abd-9aac-a8cb637a8de8",
   "metadata": {},
   "outputs": [
    {
     "data": {
      "text/html": [
       "<pre class=\"language-APL\">21 23 1 16 0 30 0 0 45 38 39 16 0 0 28 47 4 33 3 19 0 0 0 22 0 0 0 23 0 36 41 8 0 2 23 0 0 0 22 37 23 0 33 4 0 21 26 12 23 47 16 15 11 2 8 23 0 14 48 0 43 23 0 19 22 0 12 37 45 29 10 0 22 1 14 6 6 32 0 0 26 22 9 25 23 34 31 8 8 23 37 0 23 0 18 30 0 16 10 0 36 14 6 23 1 23 4 43 9 22 0 5 24 22 21 26 5 45 0 0 0 0 12 40 42 11 20 0 23 0 23 25 24 19 47 4 47 32 46 7 14 9 21 3 12 0 19 5 23 0 2 0 3 32 14 15 3 32 22 20 0 12 46 8 16 20 46 17 22 21 2 48 0 18 6 14 22 3 10 41 1 22 4 22 0 41 41 16 0 0 23 6 2 10 18 10 14 0 41 16 42 0 35 18 46 0 3 15 9 0 2 2 0 32 0 13 0 44 0 7 0 47 0 0 35 27 15 19 36 18 15 40 16 47 47 2 41 7 30 17 40 18 11 0 21 0 27 23 11 0 23 23 3 12 0 23 47 5 21 48 48 22 17 34 0 0 0 18 16 47 11 0 10 0 10 10 2 6 7 0 0 0 5 7 5 4 4 1 11 7 24 0 0 15 0 12 25 0 17 0 0 1 5 17 2 1 3 5 1 0 2 0 24 4 0 3 5 0 1 24 24 2 5 0 0 1 8 24 0 0 22 0 12 20 0 24 24 9 23 4 0 0 9 0 24 0 7 8 0 11 2 0 1 0 10 3 0 6 1 7 20 0 8 9 0 9 0 0 0 24 0 0 19 25 3 0 7 0 11 12 0 20 25 24 0 13 23 0 14 2 24 24 0 0 10 15 20 0 12 6 7 7 12 6 1 0 15 0 0 24 0 4 14 23 0 18 23 0 0 8 24 16 9 5 22 3 5 1 7 1 12 12 5 0 1\n",
       "</pre>"
      ]
     },
     "execution_count": 5,
     "metadata": {},
     "output_type": "execute_result"
    }
   ],
   "source": [
    "+/att"
   ]
  },
  {
   "cell_type": "markdown",
   "id": "96904b7e-d499-4edb-8537-0c640be4727f",
   "metadata": {},
   "source": [
    "The number of attendees for each session:"
   ]
  },
  {
   "cell_type": "code",
   "execution_count": 6,
   "id": "34d426ba-720a-4ca9-91af-5dacacd9756b",
   "metadata": {},
   "outputs": [
    {
     "data": {
      "text/html": [
       "<pre class=\"language-APL\">160 178 162 169 164 150 157 151 131 134 103 76 160 159 143 143 146 128 128 127 114 114 113 118 129 131 120 120 122 111 112 108 94 95 96 26 112 115 104 109 107 104 102 101 83 84 73 71\n",
       "</pre>"
      ]
     },
     "execution_count": 6,
     "metadata": {},
     "output_type": "execute_result"
    }
   ],
   "source": [
    "+⌿att"
   ]
  },
  {
   "cell_type": "markdown",
   "id": "50611d05-a39d-4bf9-91c2-f74f07a189f7",
   "metadata": {},
   "source": [
    "If the maximum sessions is equal to the total number of sessions, then that means that some people attended every session:"
   ]
  },
  {
   "cell_type": "code",
   "execution_count": 7,
   "id": "16f06eea-719c-4ec1-8a42-8cadd93cf698",
   "metadata": {},
   "outputs": [
    {
     "data": {
      "text/html": [
       "<pre class=\"language-APL\">48\n",
       "</pre>"
      ]
     },
     "execution_count": 7,
     "metadata": {},
     "output_type": "execute_result"
    }
   ],
   "source": [
    "⌈/+/att   ⍝ Some people attended all 48 sessions"
   ]
  },
  {
   "cell_type": "markdown",
   "id": "f3572ba4-2ae7-412f-aef5-4aa69f885948",
   "metadata": {},
   "source": [
    "If the maximum attendance is equal to the total number of attendees, then some sessions were attended by everyone:"
   ]
  },
  {
   "cell_type": "code",
   "execution_count": 8,
   "id": "1b2aa6f4-64a3-40d3-9b6a-656d36141705",
   "metadata": {},
   "outputs": [
    {
     "data": {
      "text/html": [
       "<pre class=\"language-APL\">178\n",
       "</pre>"
      ]
     },
     "execution_count": 8,
     "metadata": {},
     "output_type": "execute_result"
    }
   ],
   "source": [
    "⌈/+⌿att   ⍝ No session was attended by all people"
   ]
  },
  {
   "cell_type": "markdown",
   "id": "a4f5de36-3371-4e9e-860d-7fa8e666c42c",
   "metadata": {},
   "source": [
    "Names of attendees who attended all sessions:"
   ]
  },
  {
   "cell_type": "code",
   "execution_count": 9,
   "id": "67b2a0d5-f33a-4c3f-9352-850a963cdd6d",
   "metadata": {},
   "outputs": [
    {
     "data": {
      "text/html": [
       "<pre class=\"language-APL\">┌──────────────┬─────────────┬─────────────────┬──────────────┐\n",
       "│Jessie Raymond│Judith Phelps│Sharon Stephenson│Garrett Gibson│\n",
       "└──────────────┴─────────────┴─────────────────┴──────────────┘\n",
       "</pre>"
      ]
     },
     "execution_count": 9,
     "metadata": {},
     "output_type": "execute_result"
    }
   ],
   "source": [
    "(∪1↓attendees[;1])⌿⍨(⊢=⌈/)+/att"
   ]
  },
  {
   "cell_type": "markdown",
   "id": "ef3460f9-2ba9-42b5-a2de-b0f1c07cec4e",
   "metadata": {},
   "source": [
    "Top ten most attended sessions in descending order:"
   ]
  },
  {
   "cell_type": "code",
   "execution_count": 10,
   "id": "f354d707-c30a-4e35-a827-d41fb0a0f9f8",
   "metadata": {},
   "outputs": [
    {
     "data": {
      "text/html": [
       "<pre class=\"language-APL\">┌────────────┬───────────────────────────────────────────────────┬───┐\n",
       "│2020-D02    │The Road Ahead                                     │178│\n",
       "├────────────┼───────────────────────────────────────────────────┼───┤\n",
       "│2020-D03    │Multi-line Input and Scripting                     │169│\n",
       "├────────────┼───────────────────────────────────────────────────┼───┤\n",
       "│2020-D04    │The .NET Core Bridge                               │164│\n",
       "├────────────┼───────────────────────────────────────────────────┼───┤\n",
       "│2020-break-1│break                                              │162│\n",
       "├────────────┼───────────────────────────────────────────────────┼───┤\n",
       "│2020-D01    │Welcome to Dyalog '20                              │160│\n",
       "├────────────┼───────────────────────────────────────────────────┼───┤\n",
       "│2020-D08    │Dyalog's Docker Containers                         │160│\n",
       "├────────────┼───────────────────────────────────────────────────┼───┤\n",
       "│2020-D09    │Array Notation RC1                                 │159│\n",
       "├────────────┼───────────────────────────────────────────────────┼───┤\n",
       "│2020-D05    │Time Travel Debugging and Statistical Distributions│157│\n",
       "├────────────┼───────────────────────────────────────────────────┼───┤\n",
       "│2020-D06    │Reworking Mastering Dyalog APL                     │151│\n",
       "├────────────┼───────────────────────────────────────────────────┼───┤\n",
       "│2020-break-2│break                                              │150│\n",
       "└────────────┴───────────────────────────────────────────────────┴───┘\n",
       "</pre>"
      ]
     },
     "execution_count": 10,
     "metadata": {},
     "output_type": "execute_result"
    }
   ],
   "source": [
    "total←+⌿att\n",
    "order←10↑⍒total\n",
    "(1↓schedule)[order ; 1 2] , total[order]"
   ]
  },
  {
   "cell_type": "markdown",
   "id": "0d4e1d3f-8ad3-44c7-96e9-87aed30e9afd",
   "metadata": {},
   "source": [
    "Now that we've seen some insights we can gain with our attendance matrix, let's look at how we can actually compute it."
   ]
  },
  {
   "cell_type": "markdown",
   "id": "567df001-22c8-4d04-848f-e6bd920d5d91",
   "metadata": {},
   "source": [
    "## Selecting data\n",
    "We can select elements from arrays with square brackets. This is a special syntax in APL, but quite convenient."
   ]
  },
  {
   "cell_type": "code",
   "execution_count": 11,
   "id": "80d46897-6f7f-49ee-bbe3-33ef8e5642de",
   "metadata": {},
   "outputs": [
    {
     "data": {
      "text/html": [
       "<pre class=\"language-APL\">┌──────────────┐\n",
       "│The Road Ahead│\n",
       "└──────────────┘\n",
       "</pre>"
      ]
     },
     "execution_count": 11,
     "metadata": {},
     "output_type": "execute_result"
    }
   ],
   "source": [
    "schedule[3;2]   ⍝ 3rd row, 2nd column"
   ]
  },
  {
   "cell_type": "markdown",
   "id": "b0404a37-c00c-4241-937a-dfd6358f77f2",
   "metadata": {},
   "source": [
    "Omitting an index returns all data along that dimension of the array:"
   ]
  },
  {
   "cell_type": "code",
   "execution_count": 12,
   "id": "424f30d4-2f02-4777-bc9f-8d6c2776c4e6",
   "metadata": {},
   "outputs": [
    {
     "data": {
      "text/html": [
       "<pre class=\"language-APL\">┌───────┬─────┬──────────┬────────┐\n",
       "│Session│Title│Start Time│End Time│\n",
       "└───────┴─────┴──────────┴────────┘\n",
       "</pre>"
      ]
     },
     "execution_count": 12,
     "metadata": {},
     "output_type": "execute_result"
    }
   ],
   "source": [
    "schedule[1;]   ⍝ Header row is the first row"
   ]
  },
  {
   "cell_type": "markdown",
   "id": "b3e9b244-f21f-4457-95da-e11c3e251a94",
   "metadata": {},
   "source": [
    "It may be preferred to select data from specific columns according to the name of the column from the header row.\n",
    "\n",
    "To do this, we will to look up the position of our desired column in the header using the **index-of** `⍺⍳⍵` primitive:"
   ]
  },
  {
   "cell_type": "code",
   "execution_count": 13,
   "id": "1b806386-c157-4f9c-9a73-0d4a4c167e84",
   "metadata": {},
   "outputs": [
    {
     "data": {
      "text/html": [
       "<pre class=\"language-APL\">5 5 5 5 5 5 5 5 5 5\n",
       "</pre>"
      ]
     },
     "execution_count": 13,
     "metadata": {},
     "output_type": "execute_result"
    }
   ],
   "source": [
    "schedule[1;]⍳'Start Time'"
   ]
  },
  {
   "cell_type": "markdown",
   "id": "9387efe3-ca98-4049-a587-652ebe9a2d8f",
   "metadata": {},
   "source": [
    "Index-of returns one greater than the length of the left argument (`1+≢⍺`) where elements in the right argument `⍵` are not found. In this case, none of the individual characters in `'Start Time'` were found in our header.\n",
    "\n",
    "This is because `'Start Time'` has a different structure to our header. `'Start Time'` is a list of characters, whereas our header is a list of lists of characters. It is a nested list of character vectors.\n",
    "\n",
    "We can see the difference by comparing the `]Box`-ed display:"
   ]
  },
  {
   "cell_type": "code",
   "execution_count": 14,
   "id": "8307248f-7456-46b0-880f-e4c89f6cbc8e",
   "metadata": {},
   "outputs": [
    {
     "data": {
      "text/html": [
       "<pre class=\"language-APL\">┌───────┬─────┬──────────┬────────┐\n",
       "│Session│Title│Start Time│End Time│\n",
       "└───────┴─────┴──────────┴────────┘\n",
       "</pre>"
      ]
     },
     "execution_count": 14,
     "metadata": {},
     "output_type": "execute_result"
    },
    {
     "data": {
      "text/html": [
       "<pre class=\"language-APL\">Start Time\n",
       "</pre>"
      ]
     },
     "execution_count": 14,
     "metadata": {},
     "output_type": "execute_result"
    },
    {
     "data": {
      "text/html": [
       "<pre class=\"language-APL\">┌──────────┐\n",
       "│Start Time│\n",
       "└──────────┘\n",
       "</pre>"
      ]
     },
     "execution_count": 14,
     "metadata": {},
     "output_type": "execute_result"
    }
   ],
   "source": [
    "schedule[1;]    ⍝ nested vector of character vectors\n",
    "'Start Time'    ⍝ simple character vector\n",
    "⊂'Start Time'   ⍝ nested scalar containing a character vector"
   ]
  },
  {
   "cell_type": "markdown",
   "id": "e0570850-7fd3-4069-bedb-5f618335f8fc",
   "metadata": {},
   "source": [
    "Or more formally, using the **depth** `≡⍵` function."
   ]
  },
  {
   "cell_type": "code",
   "execution_count": 15,
   "id": "c5bfb28b-c467-4575-a9df-bb38c7a5cfa3",
   "metadata": {},
   "outputs": [
    {
     "data": {
      "text/html": [
       "<pre class=\"language-APL\">2\n",
       "</pre>"
      ]
     },
     "execution_count": 15,
     "metadata": {},
     "output_type": "execute_result"
    },
    {
     "data": {
      "text/html": [
       "<pre class=\"language-APL\">1\n",
       "</pre>"
      ]
     },
     "execution_count": 15,
     "metadata": {},
     "output_type": "execute_result"
    },
    {
     "data": {
      "text/html": [
       "<pre class=\"language-APL\">2\n",
       "</pre>"
      ]
     },
     "execution_count": 15,
     "metadata": {},
     "output_type": "execute_result"
    }
   ],
   "source": [
    "≡schedule[1;]   ⍝ nested vector of character vectors\n",
    "≡'Start Time'   ⍝ a simple array has depth ≤ 1\n",
    "≡⊂'Start Time'"
   ]
  },
  {
   "cell_type": "markdown",
   "id": "43b63787-5fda-4cfb-ad21-81fea5d29bac",
   "metadata": {},
   "source": [
    "The **nest** primitive only encloses its argument if it is simple, which is convenient for cases like this where we may want to supply a single list or a list of lists."
   ]
  },
  {
   "cell_type": "markdown",
   "id": "c2ce55f4-9864-4ef5-95c9-6bf32dacaa3d",
   "metadata": {},
   "source": [
    "Stranding (juxtaposing arrays with spaces) forms a list of lists:"
   ]
  },
  {
   "cell_type": "code",
   "execution_count": 16,
   "id": "cf4d620d-d0fc-48ef-905b-7004e70cdf85",
   "metadata": {},
   "outputs": [
    {
     "data": {
      "text/html": [
       "<pre class=\"language-APL\">┌───┬───┬─────┐\n",
       "│one│two│three│\n",
       "└───┴───┴─────┘\n",
       "</pre>"
      ]
     },
     "execution_count": 16,
     "metadata": {},
     "output_type": "execute_result"
    }
   ],
   "source": [
    "'one' 'two' 'three'"
   ]
  },
  {
   "cell_type": "markdown",
   "id": "56b83c37-52fd-4dea-a168-e72a1a2c5188",
   "metadata": {},
   "source": [
    "Enclosing adds a level of nesting:"
   ]
  },
  {
   "cell_type": "code",
   "execution_count": 17,
   "id": "d6c41d74-f8ea-4409-9a4d-cf8bf3b8105f",
   "metadata": {},
   "outputs": [
    {
     "data": {
      "text/html": [
       "<pre class=\"language-APL\">┌───────────────┐\n",
       "│┌───┬───┬─────┐│\n",
       "││one│two│three││\n",
       "│└───┴───┴─────┘│\n",
       "└───────────────┘\n",
       "</pre>"
      ]
     },
     "execution_count": 17,
     "metadata": {},
     "output_type": "execute_result"
    }
   ],
   "source": [
    "⊂'one' 'two' 'three'"
   ]
  },
  {
   "cell_type": "markdown",
   "id": "e27b3b10-0dec-4bf4-9cd1-a032ecb64dd9",
   "metadata": {},
   "source": [
    "Enclose-if-simple nests a simple array:"
   ]
  },
  {
   "cell_type": "code",
   "execution_count": 18,
   "id": "8790e043-0a6a-4fcf-9cf5-20ada44e0622",
   "metadata": {},
   "outputs": [
    {
     "data": {
      "text/html": [
       "<pre class=\"language-APL\">┌───┐\n",
       "│one│\n",
       "└───┘\n",
       "</pre>"
      ]
     },
     "execution_count": 18,
     "metadata": {},
     "output_type": "execute_result"
    }
   ],
   "source": [
    "⊆'one'"
   ]
  },
  {
   "cell_type": "markdown",
   "id": "d5706e4a-8a25-4dfc-b804-42309cb3652b",
   "metadata": {},
   "source": [
    "But adds no extra nesting to an already nested array:"
   ]
  },
  {
   "cell_type": "code",
   "execution_count": 19,
   "id": "e1d228eb-eeb0-43ee-8f91-ebcd1e811c02",
   "metadata": {},
   "outputs": [
    {
     "data": {
      "text/html": [
       "<pre class=\"language-APL\">┌───┬───┬─────┐\n",
       "│one│two│three│\n",
       "└───┴───┴─────┘\n",
       "</pre>"
      ]
     },
     "execution_count": 19,
     "metadata": {},
     "output_type": "execute_result"
    }
   ],
   "source": [
    "⊆'one' 'two' 'three'"
   ]
  },
  {
   "cell_type": "markdown",
   "id": "c1b0860f-1bab-41f9-a85d-db1bbe51b0ef",
   "metadata": {},
   "source": [
    "We can now use text column names to select columns from our data. We want the data without the header, so we will drop the first row."
   ]
  },
  {
   "cell_type": "code",
   "execution_count": 20,
   "id": "11d8cd1e-8005-49a2-a65e-f9e5457ff3b1",
   "metadata": {},
   "outputs": [
    {
     "data": {
      "text/html": [
       "<pre class=\"language-APL\">┌───────────────┬──────────────────────────────┐\n",
       "│11/9/2020 14:00│Welcome to Dyalog '20         │\n",
       "├───────────────┼──────────────────────────────┤\n",
       "│11/9/2020 14:15│The Road Ahead                │\n",
       "├───────────────┼──────────────────────────────┤\n",
       "│11/9/2020 15:00│break                         │\n",
       "├───────────────┼──────────────────────────────┤\n",
       "│11/9/2020 15:15│Multi-line Input and Scripting│\n",
       "├───────────────┼──────────────────────────────┤\n",
       "│11/9/2020 15:45│The .NET Core Bridge          │\n",
       "└───────────────┴──────────────────────────────┘\n",
       "</pre>"
      ]
     },
     "execution_count": 20,
     "metadata": {},
     "output_type": "execute_result"
    }
   ],
   "source": [
    "5↑ (1↓schedule)[;schedule[1;]⍳⊆'Start Time' 'Title']"
   ]
  },
  {
   "cell_type": "markdown",
   "id": "c13043cf-04ca-4fdd-81c0-33fe9813ca8d",
   "metadata": {},
   "source": [
    "We can factor this out as a function:"
   ]
  },
  {
   "cell_type": "code",
   "execution_count": 21,
   "id": "ccb0bcb6-6816-4b86-a16b-c72caffa045f",
   "metadata": {},
   "outputs": [
    {
     "data": {
      "text/html": [
       "<pre class=\"language-APL\">┌───────────────┬──────────────────────────────┐\n",
       "│11/9/2020 14:00│Welcome to Dyalog '20         │\n",
       "├───────────────┼──────────────────────────────┤\n",
       "│11/9/2020 14:15│The Road Ahead                │\n",
       "├───────────────┼──────────────────────────────┤\n",
       "│11/9/2020 15:00│break                         │\n",
       "├───────────────┼──────────────────────────────┤\n",
       "│11/9/2020 15:15│Multi-line Input and Scripting│\n",
       "├───────────────┼──────────────────────────────┤\n",
       "│11/9/2020 15:45│The .NET Core Bridge          │\n",
       "└───────────────┴──────────────────────────────┘\n",
       "</pre>"
      ]
     },
     "execution_count": 21,
     "metadata": {},
     "output_type": "execute_result"
    }
   ],
   "source": [
    "Get←{(1↓⍺)[;⍺[1;]⍳⊆⍵]}\n",
    "5↑ schedule Get 'Start Time' 'Title'"
   ]
  },
  {
   "cell_type": "markdown",
   "id": "2f7ea130-de2f-4ca9-9224-b6c5bc818aa7",
   "metadata": {},
   "source": [
    "This is very convenient, but `1↓⍺` every time we want some data is a bit expensive. Instead, we will separate the header row on import and refer to the header directly. As an aside, the `⎕CSV` system function can do this while reading the data from file, by giving a `1` as the 4th element of its argument."
   ]
  },
  {
   "cell_type": "code",
   "execution_count": 22,
   "id": "342214b9-091d-4d5d-9771-fbd15064c7eb",
   "metadata": {},
   "outputs": [],
   "source": [
    "path←'/d/Presentations/APLSeeds23/attendees.csv'\n",
    "(a_data a_cols)←⎕CSV path ⍬ 1 1\n",
    "Attendees←{a_data[;a_cols⍳⊆⍵]}\n",
    "\n",
    "path←'/d/Presentations/APLSeeds23/schedule.csv'\n",
    "(s_data s_cols)←⎕CSV path ⍬ 1 1\n",
    "Schedule←{s_data[;s_cols⍳⊆⍵]}"
   ]
  },
  {
   "cell_type": "markdown",
   "id": "bfb6c90b-bf35-463b-8899-b3ab9ba085d0",
   "metadata": {},
   "source": [
    "## Using datetimes\n",
    "Our data has datetimes represented as lists of characters. In order to do comparison efficiently, we will convert these into numbers. We will use the Unix time number, which is the number of seconds since 1st January 1970, so that we get 1 second precision."
   ]
  },
  {
   "cell_type": "markdown",
   "id": "fe8f76ba-55f4-47a1-84c7-caf448df1127",
   "metadata": {},
   "source": [
    "The system function `⎕VFI` is used to safely convert character data into numbers. The **execute** primitive `⍎⍵` can be used to convert characters into numbers, but because it executes any APL expression it can be dangerous to use with data from external sources.\n",
    "\n",
    "In the monadic case, `⎕VFI` checks space-separated tokens to see if they are valid APL numeric literals."
   ]
  },
  {
   "cell_type": "code",
   "execution_count": 23,
   "id": "d58af3e8-bac4-4efe-9223-aefb99f8e061",
   "metadata": {},
   "outputs": [
    {
     "data": {
      "text/html": [
       "<pre class=\"language-APL\">┌───────────────┬─────────────────────────┐\n",
       "│1 0 1 1 1 0 0 1│42 0 1.5 1000 2J¯4 0 0 ¯6│\n",
       "└───────────────┴─────────────────────────┘\n",
       "</pre>"
      ]
     },
     "execution_count": 23,
     "metadata": {},
     "output_type": "execute_result"
    }
   ],
   "source": [
    "⎕VFI'42 1,4 1.5   1e3 2J¯4 2J-4 -6 ¯6'"
   ]
  },
  {
   "cell_type": "markdown",
   "id": "6f5171ea-52c2-4512-a4e1-4ed05c86a90c",
   "metadata": {},
   "source": [
    "It returns a two-element vector. The 1st element is a Boolean mask, a `1` indicates which numbers in the 2nd element were converted from valid literal numbers in the argument. The Boolean mask can be used with **compress** `⍺/⍵` to extract numbers."
   ]
  },
  {
   "cell_type": "markdown",
   "id": "4d9ab1c6-965e-4d21-becc-9bdab8731b2f",
   "metadata": {},
   "source": [
    "The function `⍺/⍵` will replicate elements of `⍵` a number of times specified in `⍺`."
   ]
  },
  {
   "cell_type": "code",
   "execution_count": 24,
   "id": "14948af6-8faa-48c4-a610-79a95caee353",
   "metadata": {},
   "outputs": [
    {
     "data": {
      "text/html": [
       "<pre class=\"language-APL\">ACCCDD\n",
       "</pre>"
      ]
     },
     "execution_count": 24,
     "metadata": {},
     "output_type": "execute_result"
    }
   ],
   "source": [
    "1 0 3 2 / 'ABCD'"
   ]
  },
  {
   "cell_type": "markdown",
   "id": "d2fe7d12-6d2d-4e1e-a716-a8c8c0130d85",
   "metadata": {},
   "source": [
    "When used with a Boolean `⍺`, it is called *compress* and is often used to select parts of an array."
   ]
  },
  {
   "cell_type": "code",
   "execution_count": 25,
   "id": "9118b6c6-e2d4-413b-bcbb-0c09fcfa938f",
   "metadata": {},
   "outputs": [
    {
     "data": {
      "text/html": [
       "<pre class=\"language-APL\">42 1.5 1000 2J¯4 ¯6\n",
       "</pre>"
      ]
     },
     "execution_count": 25,
     "metadata": {},
     "output_type": "execute_result"
    }
   ],
   "source": [
    "⊃(//⎕VFI)'42 1,4 1.5   1e3 2J¯4 2J-4 -6 ¯6'"
   ]
  },
  {
   "cell_type": "markdown",
   "id": "8c2ff5d7-189b-4d52-8ff4-234c1907e7ad",
   "metadata": {},
   "source": [
    "We can provide a left argument to specify other separator characters:"
   ]
  },
  {
   "cell_type": "code",
   "execution_count": 26,
   "id": "0f7efcca-7332-4a0c-a607-70eb94e30b9c",
   "metadata": {},
   "outputs": [
    {
     "data": {
      "text/html": [
       "<pre class=\"language-APL\">┌─────────┬──────────────┐\n",
       "│1 1 1 1 1│11 9 2020 14 0│\n",
       "└─────────┴──────────────┘\n",
       "</pre>"
      ]
     },
     "execution_count": 26,
     "metadata": {},
     "output_type": "execute_result"
    }
   ],
   "source": [
    "'/ :'⎕VFI'11/9/2020 14:00'"
   ]
  },
  {
   "cell_type": "markdown",
   "id": "4b17e61a-93cb-4c9a-b1c6-9cc2c5aba195",
   "metadata": {},
   "source": [
    "We know our datetimes should be all numbers, so we'll pick the 2nd element instead of using compress."
   ]
  },
  {
   "cell_type": "code",
   "execution_count": 27,
   "id": "6c380302-069d-4e7e-a216-3640edf42aca",
   "metadata": {},
   "outputs": [
    {
     "data": {
      "text/html": [
       "<pre class=\"language-APL\">11 9 2020 14 0\n",
       "</pre>"
      ]
     },
     "execution_count": 27,
     "metadata": {},
     "output_type": "execute_result"
    }
   ],
   "source": [
    "2⊃'/ :'⎕VFI'11/9/2020 14:00'"
   ]
  },
  {
   "cell_type": "markdown",
   "id": "d16deeaa-c02d-4056-8d09-12cf4fcbf304",
   "metadata": {},
   "source": [
    "The system function `⎕DT` can convert between many datetime formats. We will convert from `⎕TS`-style time stamps to Unix time numbers.\n",
    "\n",
    "But first, remember that our timestamps have the months first. `⎕TS`-style time stamps are `year month day hour minute second millisecond`. We can omit the milliseconds, but we must rotate our dates to be in the correct order."
   ]
  },
  {
   "cell_type": "code",
   "execution_count": 28,
   "id": "64d36786-56f1-4d0b-aabc-1816d9094f17",
   "metadata": {},
   "outputs": [
    {
     "data": {
      "text/html": [
       "<pre class=\"language-APL\">2020 11 9\n",
       "</pre>"
      ]
     },
     "execution_count": 28,
     "metadata": {},
     "output_type": "execute_result"
    }
   ],
   "source": [
    "¯1⌽11 9 2020"
   ]
  },
  {
   "cell_type": "markdown",
   "id": "ba28cf85-21f6-4b75-97e9-de17632812c5",
   "metadata": {},
   "source": [
    "In a full time stamp, we only want to rotate the first three elements."
   ]
  },
  {
   "cell_type": "code",
   "execution_count": 29,
   "id": "ea565166-5f73-45cf-b0bc-b3857e12826d",
   "metadata": {},
   "outputs": [
    {
     "data": {
      "text/html": [
       "<pre class=\"language-APL\">2020 11 9 14 0\n",
       "</pre>"
      ]
     },
     "execution_count": 29,
     "metadata": {},
     "output_type": "execute_result"
    }
   ],
   "source": [
    "¯1(⌽@1 2 3)11 9 2020 14 0"
   ]
  },
  {
   "cell_type": "markdown",
   "id": "634627f8-f71c-4ad5-86ad-ba2f01ec3f6a",
   "metadata": {},
   "source": [
    "We can then turn this into our Unix time number:"
   ]
  },
  {
   "cell_type": "code",
   "execution_count": 30,
   "id": "dfb87087-6889-44cf-b7c5-ebfa212e9b48",
   "metadata": {},
   "outputs": [
    {
     "data": {
      "text/html": [
       "<pre class=\"language-APL\">1604930400\n",
       "</pre>"
      ]
     },
     "execution_count": 30,
     "metadata": {},
     "output_type": "execute_result"
    }
   ],
   "source": [
    "20⎕DT⊆2020 11 9 14 0"
   ]
  },
  {
   "cell_type": "markdown",
   "id": "bfcdfbf7-0840-4688-b37e-0b976b109765",
   "metadata": {},
   "source": [
    "`⎕TS`-style time stamps are numeric lists. `⎕DT` accepts lists of numeric lists, so it can convert many time stamps with a single call. But then we need to enclose a single time stamp so it has the same structure."
   ]
  },
  {
   "cell_type": "code",
   "execution_count": 31,
   "id": "63df8bf5-dc7c-46db-9ee0-1a746d78734a",
   "metadata": {},
   "outputs": [
    {
     "data": {
      "text/html": [
       "<pre class=\"language-APL\">2020 11 9 14 0\n",
       "</pre>"
      ]
     },
     "execution_count": 31,
     "metadata": {},
     "output_type": "execute_result"
    },
    {
     "data": {
      "text/html": [
       "<pre class=\"language-APL\">┌──────────────┬──────────────┬──────────────┐\n",
       "│2020 11 9 14 0│2020 11 9 14 0│2020 11 9 14 0│\n",
       "└──────────────┴──────────────┴──────────────┘\n",
       "</pre>"
      ]
     },
     "execution_count": 31,
     "metadata": {},
     "output_type": "execute_result"
    },
    {
     "data": {
      "text/html": [
       "<pre class=\"language-APL\">┌──────────────┐\n",
       "│2020 11 9 14 0│\n",
       "└──────────────┘\n",
       "</pre>"
      ]
     },
     "execution_count": 31,
     "metadata": {},
     "output_type": "execute_result"
    }
   ],
   "source": [
    "2020 11 9 14 0                                     ⍝ A single time stamp\n",
    "(2020 11 9 14 0)(2020 11 9 14 0)(2020 11 9 14 0)   ⍝ A list of time stamps\n",
    "⊆2020 11 9 14 0                                    ⍝ A single enclosed timestamp"
   ]
  },
  {
   "cell_type": "markdown",
   "id": "f61a85be-c52b-467c-b9c5-9991a9eff3cd",
   "metadata": {},
   "source": [
    "We can put these pieces together to form our datetime conversion function:"
   ]
  },
  {
   "cell_type": "code",
   "execution_count": 32,
   "id": "fa22865f-9563-43a6-866c-dfc2d84d97e4",
   "metadata": {},
   "outputs": [],
   "source": [
    "∇ Timestamp2Unix←{\n",
    "  ⍺←⊢   ⍝ Amount to rotate date. Default is to reverse.\n",
    " ⍝ ⍵: character date times \n",
    "  20 ⎕DT ⍺∘(⌽@1 2 3)¨2⊃¨'/ :'∘⎕VFI¨⊆⍵\n",
    "  }\n",
    "∇"
   ]
  },
  {
   "cell_type": "code",
   "execution_count": 33,
   "id": "4002c616-107e-4cca-84e7-608016762f16",
   "metadata": {},
   "outputs": [
    {
     "data": {
      "text/html": [
       "<pre class=\"language-APL\">┌───────────────┬───────────────┐\n",
       "│11/9/2020 14:00│11/9/2020 14:15│\n",
       "├───────────────┼───────────────┤\n",
       "│11/9/2020 14:15│11/9/2020 15:00│\n",
       "├───────────────┼───────────────┤\n",
       "│11/9/2020 15:00│11/9/2020 15:15│\n",
       "└───────────────┴───────────────┘\n",
       "</pre>"
      ]
     },
     "execution_count": 33,
     "metadata": {},
     "output_type": "execute_result"
    },
    {
     "data": {
      "text/html": [
       "<pre class=\"language-APL\">1604930400 1604931300\n",
       "1604931300 1604934000\n",
       "1604934000 1604934900\n",
       "1604934900 1604936700\n",
       "1604936700 1604938500\n",
       "1604938500 1604939400\n",
       "1604939400 1604940900\n",
       "</pre>"
      ]
     },
     "execution_count": 33,
     "metadata": {},
     "output_type": "execute_result"
    }
   ],
   "source": [
    "3↑schedule Get 'Start Time' 'End Time'\n",
    "7↑¯1 Timestamp2Unix schedule Get 'Start Time' 'End Time'"
   ]
  },
  {
   "cell_type": "markdown",
   "id": "0377f738-0c44-4628-9c28-c1bd42001631",
   "metadata": {},
   "source": [
    "## Comparing date times\n",
    "As explained in [the presentation at APL Seeds '23](https://dyalog.tv/APLSeeds23/?v=O73HYH0p8eo), we will define a *connection* using a `join` and a `leave` time, while a *session* will be defined by its `start` and `end` time.\n",
    "\n",
    "To make our notation more clear, we will assign the vectors of times to variables.\n",
    "\n",
    "The **split** function `↓⍵` will break up an array into a more nested array by enclosing every row. This is a convenient way to split a matrix of two rows into a 2-element vector of vectors. We can then use **strand assignment** to assign multiple names at once."
   ]
  },
  {
   "cell_type": "code",
   "execution_count": 34,
   "id": "a2c2d8be-c7ed-4bb5-b650-1964a3b90531",
   "metadata": {
    "tags": []
   },
   "outputs": [],
   "source": [
    "(start end) ← ↓⍉ Timestamp2Unix Schedule 'Start Time' 'End Time'"
   ]
  },
  {
   "cell_type": "markdown",
   "id": "734d7046-6919-4063-b668-0764ef4afe54",
   "metadata": {},
   "source": [
    "Note the use of **transpose** `⍉⍵`. `Schedule` returned two columns, but `↓⍵` splits rows. Split-transpose `↓⍉⍵` is a commonly-used pattern for taking columns in a matrix and getting a collection of individually named vectors."
   ]
  },
  {
   "cell_type": "markdown",
   "id": "660fea72-0103-41cc-9289-a0abb7956e85",
   "metadata": {},
   "source": [
    "If we try the same for `join` and `leave`, we hit an `ERROR`."
   ]
  },
  {
   "cell_type": "code",
   "execution_count": 35,
   "id": "db60ad7a-35da-4aae-acc7-d6109bf2650c",
   "metadata": {},
   "outputs": [
    {
     "name": "stderr",
     "output_type": "stream",
     "text": [
      "INDEX ERROR\n",
      "Timestamp2Unix[3] 20 ⎕DT ⍺∘(⌽@1 2 3)¨2⊃¨'/ :'∘⎕VFI¨⊆⍵\n",
      "                              ∧\n"
     ]
    }
   ],
   "source": [
    "(join leave) ← ↓⍉ Timestamp2Unix Attendees 'Join Time' 'Leave Time'"
   ]
  },
  {
   "cell_type": "markdown",
   "id": "4a031333-9c0b-499c-90b4-4620b60ece50",
   "metadata": {},
   "source": [
    "Let's looks at rows 6 to 10 of our attendees join and leave times. Here we are using **take** `⍺↑⍵` and **drop** `⍺↓⍵` to quickly select the rows we want to see:"
   ]
  },
  {
   "cell_type": "code",
   "execution_count": 36,
   "id": "1aa493a8-ddc5-445c-92f9-b261529d702c",
   "metadata": {},
   "outputs": [
    {
     "data": {
      "text/html": [
       "<pre class=\"language-APL\">┌───────────────┬───────────────┐\n",
       "│11/9/2020 13:58│11/9/2020 15:16│\n",
       "├───────────────┼───────────────┤\n",
       "│--             │--             │\n",
       "├───────────────┼───────────────┤\n",
       "│11/9/2020 14:26│11/9/2020 18:09│\n",
       "├───────────────┼───────────────┤\n",
       "│--             │--             │\n",
       "├───────────────┼───────────────┤\n",
       "│--             │--             │\n",
       "└───────────────┴───────────────┘\n",
       "</pre>"
      ]
     },
     "execution_count": 36,
     "metadata": {},
     "output_type": "execute_result"
    }
   ],
   "source": [
    "5↑5↓Attendees 'Join Time' 'Leave Time'"
   ]
  },
  {
   "cell_type": "markdown",
   "id": "9813e3eb-c2da-4a78-b98c-674b456c7207",
   "metadata": {},
   "source": [
    "Some rows contain two dashes `'--'` to indicate that a person had registered but not connected that day. We can filter out these rows and replace them after converting date times.\n",
    "\n",
    "First, use comparison to get a Boolean vector where a `1` indicates a connection (and therefore valid date time to convert):"
   ]
  },
  {
   "cell_type": "code",
   "execution_count": 37,
   "id": "921e0730-6bd8-4313-8191-cf704ecd0799",
   "metadata": {},
   "outputs": [],
   "source": [
    "connections←Attendees 'Join Time' 'Leave Time'\n",
    "connected←'--'∘≢¨connections[;1]"
   ]
  },
  {
   "cell_type": "markdown",
   "id": "e4a7157a-21ba-4da7-b66b-44bade8da691",
   "metadata": {},
   "source": [
    "While equality `⍺=⍵` and inequality `⍺≠⍵` compare simple scalars within two arrays, match `⍺≡⍵` and not match `⍺≢⍵` compare both the contents and the shapes of two arrays to see if they are identical."
   ]
  },
  {
   "cell_type": "code",
   "execution_count": 38,
   "id": "a70be2d0-3bab-4d68-b84c-24e39eb44c16",
   "metadata": {},
   "outputs": [
    {
     "data": {
      "text/html": [
       "<pre class=\"language-APL\">┌─────┬─┬───┬─────┐\n",
       "│1 1 0│1│0 1│0 1 1│\n",
       "└─────┴─┴───┴─────┘\n",
       "</pre>"
      ]
     },
     "execution_count": 38,
     "metadata": {},
     "output_type": "execute_result"
    },
    {
     "data": {
      "text/html": [
       "<pre class=\"language-APL\">0\n",
       "</pre>"
      ]
     },
     "execution_count": 38,
     "metadata": {},
     "output_type": "execute_result"
    }
   ],
   "source": [
    "((1 2 3) 4 ('ab') 'def') = (1 2 5) 4 ('cb') 'kef'   ⍝ Some items are equal\n",
    "((1 2 3) 4 ('ab') 'def') ≡ (1 2 5) 4 ('cb') 'kef'   ⍝ Arrays are not identical"
   ]
  },
  {
   "cell_type": "markdown",
   "id": "6787ae89-83a8-48d3-b937-b4cd01a59561",
   "metadata": {},
   "source": [
    "Because we are only looking for a single match, we use the **bind** operator `∘` to \"fill\" the left slot of the **not match** function `⍺≢⍵`. This forms a monadic function \"doesn't match `'--'`\". We then apply this function to every element in our `connections` matrix, looping over it with the **each** `¨` operator."
   ]
  },
  {
   "cell_type": "markdown",
   "id": "4c40ffa1-80ff-4e0f-a145-45ce8965d0e0",
   "metadata": {},
   "source": [
    "Note that `⎕←` (*quad gets*) is like a *print* statement in some other languages, and lets us assign to a name and see the value in the same line."
   ]
  },
  {
   "cell_type": "code",
   "execution_count": 39,
   "id": "1bb94b0b-a852-4c1d-a90f-0cc263901589",
   "metadata": {},
   "outputs": [
    {
     "data": {
      "text/html": [
       "<pre class=\"language-APL\">1 1 1 1 1 1 0 1 0 0 1 1 1 1 1 1 0 1 1 1 1 1 1 1 0 0 0 1 0 1 0 1 0 1 1 1 1 0 0 1 1 1 0 0 0 1 1 1 1 1 1 1 0 1 1 0 1 1 1 1 1 1 0 1 1 1 1 1 1 1 0 0 0 1 0 1 1 0 1 1 1 1 1 0 1 1 1 1 1 1 1 1 1 1 1 1 1 1 1 1 1 1 0 0 1 1 1 1 1 1 1 1 1 1 0 1 1 0 1 1 1 1 1 1 1 1 1 1 1 0 1 1 1 1 1 1 1 1 1 1 0 1 1 0 1 1 1 1 0 0 1 1 1 1 1 1 1 1 1 1 1 1 1 1 1 1 0 0 1 1 1 1 1 1 1 1 0 0 0 0 1 1 1 1 1 1 1 1 0 1 0 1 1 1 1 1 1 1 1 1 1 1 1 1 1 1 1 1 1 1 1 1 1 1 0 1 0 1 1 1 1 1 1 1 1 1 1 1 1 1 1 1 1 0 1 1 1 0 1 1 1 1 1 1 1 1 1 1 1 1 1 1 1 0 1 1 1 1 1 1 1 1 1 1 1 1 1 1 1 1 1 1 0 1 1 1 0 1 1 1 1 1 0 0 1 1 1 1 1 1 1 1 1 1 0 1 1 1 1 1 0 1 1 1 1 0 1 0 1 0 1 1 1 1 1 0 0 1 1 0 1 0 1 0 1 0 1 0 0 1 1 1 1 1 1 1 1 1 1 1 1 1 1 1 1 1 1 1 1 1 1 1 1 1 1 1 1 0 1 1 1 1 0 1 1 1 0 1 0 1 1 1 1 1 1 1 1 0 1 1 1 1 1 0 1 1 1 1 1 1 1 1 1 1 0 0 0 0 0 1 1 1 1 1 1 1 1 0 1 1 0 1 1 1 1 1 1 0 0 1 1 1 1 1 1 1 1 1 1 1 1 0 0 1 0 1 1 1 1 0 1 1 1 1 1 0 1 0 0 1 1 1 1 0 1 1 1 1 0 1 1 1 1 1 1 0 0 0 1 1 1 0 0 0 0 1 0 0 0 1 1 1 0 0 0 0 1 1 1 0 1 1 0 0 1 1 1 1 1 1 1 1 1 1 1 1 1 1 1 1 1 1 1 0 1 1 0 1 1 1 1 0 1 1 0 1 1 1 1 1 1 0 0 1 1 1 1 1 1 1 1 1 1 0 1 0 1 1 1 0 1 1 1 1 0 1 1 1 0 1 1 0 1 1 1 1 1 1 0 0 1 1 1 1 1 1 0 1 1 1 1 0 1 1 1 1 1 1 0 1 1 0 0 0 0 1 1 1 0 1 0 1 0 0 1 0 1 1 1 1 1 1 1 1 1 1 1 1 1 1 1 1 1 1 1 1 1 0 1 1 1 0 1 0 0 0 1 1 1 1 0 1 0 0 1 0 0 1 1 1 1 0 1 1 1 1 1 0 0 1 1 1 1 1 1 1 1 1 1 1 1 1 1 1 1 0 0 1 1 0 0 0 1 1 1 1 1 1 1 1 1 1 0 1 0 1 1 1 1 0 1 1 1 1 1 1 0 1 1 1 0 1 1 1 0 1 0 0 0 1 0 1 1 1 0 1 1 0 0 1 0 1 1 1 0 1 1 1 1 1 0 0 1 1 1 1 1 1 1 1 1 1 1 0 1 0 1 1 1 1 0 1 1 1 1 0 0 1 1 0 1 1 1 1 0 1 0 0 0 1 1 0 1 1 0 1 0 1 1 1 0 0 1 1 0 0 1 0 1 1 1 1 1 1 1 1 1 1 1 0 0 1 0 1 1 1 0 1 1 1 1 1 1 0 1 1 1 1 1 1 1 1 0 1 1 1 1 1 0 0 1 1 1 1 0 1 1 1 1 1 1 1 1 1 0 1 0 1 1 1 1 1 1 1 1 1 1 1 1 1 1 0 0 1 0 1 0 1 0 1 1 1 0 0 1 1 0 1 0 1 1 1 1 1 1 1 0 0 1 1 1 0 1 1 1 1 1 1 1 1 1 1 1 1 1 1 1 1 1 1 1 1 1 1 1 1 1 1 1 1 1 1 1 1 1 1 0 1 1 0 1 1 1 1 1 0 0 1 1 0 1 1 1 0 0 1 1 1 0 1 1 1 1 1 1 1 1 1 1 1 1 1 1 0 0 1 1 1 1 0 1 1 0 0 0 0 0 1 1 1 1 1 1 1 1 0 0 1 1 1 1 1 1 1 1 0 1 1 0 1 1 1 1 0 1 1 1 1 1 0 0 1 1 0 1 1 1 1 1 1 1 1 1 1 1 1 1 0 1 0 1 0 1 1 0 1 1 1 1 1 1 0 1 1 1 1 1 1 1 1 1 1 1 1 1 0 1 1 1 1 1 1 1 1 1 1 1 1 1 0 1 0 0 1 1 1 1 0 0 1 1 1 1 1 1 1 0 1 0 1 0 0 1 1 0 1 1 1 0 1 1 1 1 1 1 1 1 1 1 1 1 1 1 1 1 1 1 1 1 1 1 1 1 1 1 1 1 1 1 1 1 1 1 1 0 0 1 1 1 1 1 1 1 1 0 1 1 1 1 1 1 0 1 1 1 0 0 1 1 0 0 0 1 1 1 1 1 0 1 1 0 1 1 1 1 1 1 1 0 0 0 1 1 1 0 1 0 0 1 1 1 1 1 1 0 0 1 1 1 1 0 1 0 1 0 0 0 1 0 1 0 1 1 0 1 1 1 1 1 1 1 1 1 1 1 1 1 1 1 1 1 1 1 1 1 1 0 1 1 1 1 1 1 1 1 0 1 1 1 0 1 1 1 0 0 0 1 1 1 1 0 1 1 1 0 0 1 1 1 1 1 0 1 1 0 1 1 1 1 0 1 0 1 1 1 0 1 0 0 0 0 1 0 0 1 1 1 0 0 1 1 1 1 1 1 1 0 1 1 1 1 1 1 1 0 1 1 1 1 1 1 1 1 1 1 0 1 1 1 0 1 1 0 1 1 0 0 1 1 1 1 1 1 1 1 1 1 1 1 1 1 0 1 0 1 0 1 1 0 1 1 0 0 1 1 1 1 1 1 1 1 1 1 0 1 1 1 1 1 1 1 0 0 1 1 0 0 0 1 1 1 0 0 1 1 1 0 0 0 1 1 0 1 1 0 1 1 0 1 1 1 1 1 1 1 1 1 1 1 1 1 0 1 1 1 1 1 1 1 1 0 1 1 1 1 0\n",
       "</pre>"
      ]
     },
     "execution_count": 39,
     "metadata": {},
     "output_type": "execute_result"
    }
   ],
   "source": [
    "⎕←connected←'--'∘≢¨connections[;1]"
   ]
  },
  {
   "cell_type": "markdown",
   "id": "624fbcf6-f63a-4c2f-bbad-a68ec7b3c0c4",
   "metadata": {},
   "source": [
    "We can now use our `connected` Boolean vector to filter out dash `'--'` rows so that we only convert valid date times.\n",
    "\n",
    "The **replicate-first** `⍺⌿⍵` returns rows of `⍵` duplicated `⍺` times."
   ]
  },
  {
   "cell_type": "code",
   "execution_count": 40,
   "id": "28e1c2d1-edef-48e8-8760-6ad571543cd1",
   "metadata": {},
   "outputs": [
    {
     "data": {
      "text/html": [
       "<pre class=\"language-APL\">ABCD\n",
       "EFGH\n",
       "IJKL\n",
       "</pre>"
      ]
     },
     "execution_count": 40,
     "metadata": {},
     "output_type": "execute_result"
    },
    {
     "data": {
      "text/html": [
       "<pre class=\"language-APL\">ACCCDD\n",
       "EGGGHH\n",
       "IKKKLL\n",
       "</pre>"
      ]
     },
     "execution_count": 40,
     "metadata": {},
     "output_type": "execute_result"
    },
    {
     "data": {
      "text/html": [
       "<pre class=\"language-APL\">ABCD\n",
       "IJKL\n",
       "IJKL\n",
       "IJKL\n",
       "</pre>"
      ]
     },
     "execution_count": 40,
     "metadata": {},
     "output_type": "execute_result"
    }
   ],
   "source": [
    "⎕←a←3 4⍴⎕A   ⍝ ⎕A is a variable with uppercase alphabet characters\n",
    "1 0 3 2/a    ⍝ Replicate applies across rows\n",
    "1 0 3⌿a      ⍝ Replicate-first applies down columns"
   ]
  },
  {
   "cell_type": "markdown",
   "id": "4bb0abbe-7844-4a52-a993-0e38141b17aa",
   "metadata": {},
   "source": [
    "With a Boolean left argument `⍺`, replicate is called **compress**. Its cousin, **expand** `⍺⍀⍵` can be used to add fill data where there are `0`s in `⍺`."
   ]
  },
  {
   "cell_type": "code",
   "execution_count": 41,
   "id": "6c31deb1-43ac-4751-8ab8-c16990a04e85",
   "metadata": {},
   "outputs": [
    {
     "data": {
      "text/html": [
       "<pre class=\"language-APL\">AB C\n",
       "</pre>"
      ]
     },
     "execution_count": 41,
     "metadata": {},
     "output_type": "execute_result"
    }
   ],
   "source": [
    "1 1 0 1 ⍀ 'ABC'   ⍝ Put a blank between B and C"
   ]
  },
  {
   "cell_type": "markdown",
   "id": "5e5078ae-ca8a-4a4f-abdd-8386522c2cba",
   "metadata": {},
   "source": [
    "So now we filter out bad datetimes and convert valid datetimes to Unix time numbers.\n",
    "\n",
    "We will use `connected` later to add blanks to our computed overlaps. If we expand before computing overlaps, our solution would be invalid if there were times around 1st January 1970 in our data."
   ]
  },
  {
   "cell_type": "code",
   "execution_count": 42,
   "id": "c0388be4-210b-47a1-a76b-0e414c27e343",
   "metadata": {},
   "outputs": [],
   "source": [
    "(join leave)←↓⍉Timestamp2Unix connected⌿connections"
   ]
  },
  {
   "cell_type": "markdown",
   "id": "8e753b4e-c82b-4b34-b4cb-cc384ecf75f1",
   "metadata": {},
   "source": [
    "Next we define the **overlap** between a particular connection and a particular session. The overlap begins at the *later* of the session `start` and the person `join` times, and ends at the *earlier* time between the session `end` and the person `leave` times."
   ]
  },
  {
   "cell_type": "code",
   "execution_count": 43,
   "id": "55d20ee5-9226-4e49-b614-f221e18c6874",
   "metadata": {},
   "outputs": [
    {
     "data": {
      "text/html": [
       "<pre class=\"language-APL\">900\n",
       "</pre>"
      ]
     },
     "execution_count": 43,
     "metadata": {},
     "output_type": "execute_result"
    }
   ],
   "source": [
    "(end[3] ⌊ leave[7]) - (start[3] ⌈ join[7])"
   ]
  },
  {
   "cell_type": "markdown",
   "id": "bccaf231-889a-462c-b085-4255f8bb8719",
   "metadata": {},
   "source": [
    "We use an outer product `∘.` to compare all `start`, `end`, `join` and `leave` times. We will inspect the top-left 10 by 10 corner."
   ]
  },
  {
   "cell_type": "code",
   "execution_count": 44,
   "id": "2bcf0973-8254-4b9f-878b-b7ee7d77011c",
   "metadata": {},
   "outputs": [
    {
     "data": {
      "text/html": [
       "<pre class=\"language-APL\">¯3780   900  900 ¯5220 ¯3720   900 ¯660  900  840    180\n",
       "¯1080  2700 2700 ¯2520 ¯1020  2700 2040 2700 2700   ¯720\n",
       " ¯180   900  900 ¯1620  ¯120   900  900  900  900  ¯3420\n",
       " 1620   180 1800   180  1680    60 1800 1800 1800  ¯4320\n",
       " 1800 ¯1620 1800  1800  1800 ¯1740 1800 1800 1800  ¯6120\n",
       "  900 ¯3420  900    60   900 ¯3540  900  900  900  ¯7920\n",
       " 1500 ¯4320 1500  ¯840  1500 ¯4440 1500 1500 1500  ¯8820\n",
       " 1200 ¯5820 1200 ¯2340  1200 ¯5940 1200 1200 1200 ¯10320\n",
       "  900 ¯7020  900 ¯3540   240 ¯7140  900  900  900 ¯11520\n",
       " 1800 ¯7920 1800 ¯4440  ¯660 ¯8040 1800 1800 1800 ¯12420\n",
       "</pre>"
      ]
     },
     "execution_count": 44,
     "metadata": {},
     "output_type": "execute_result"
    }
   ],
   "source": [
    "10 10↑(end∘.⌊leave) - (start∘.⌈join)"
   ]
  },
  {
   "cell_type": "markdown",
   "id": "a186d055-5b8c-46b9-b9d5-5ec6ef772cfb",
   "metadata": {},
   "source": [
    "Here, a positive number indicates an overlap between a connection and a session. A negative overlap indicates that a connection was entirely separate in time from a session.\n",
    "\n",
    "A person may join and leave multiple times, even during a session. There is an edge case where someone may join, watch part of a session, be disconnected and reconnect to watch the rest of the session. Therefore, we must sum positive overlaps to find the total overlap between a person's connections and each of the sessions.\n",
    "\n",
    "We will enforce a lower bound of $0$ for overlaps using the **ceiling** (max) function `⍺⌈⍵`, so that we are only adding positive contributions to the overlaps.\n",
    "\n",
    "We then need to sum overlaps grouped by attendee."
   ]
  },
  {
   "cell_type": "markdown",
   "id": "dadbc03d-1b62-4ac6-8a4f-6d25ca6dec7c",
   "metadata": {},
   "source": [
    "The **key** operator `⍺ F⌸ ⍵` will apply its operand function `F` to parts of its right argument `⍵` grouped according to keys in its left argument `⍺`.\n",
    "\n",
    "For example, if we have apples held by 5 people in 3 groups labelled A, B and C:"
   ]
  },
  {
   "cell_type": "code",
   "execution_count": 45,
   "id": "0d476314-9f37-4603-9b0c-da1847f062e7",
   "metadata": {},
   "outputs": [],
   "source": [
    "apples←2 0 1 3 6\n",
    "groups←'ABBCA'"
   ]
  },
  {
   "cell_type": "markdown",
   "id": "16bbda2b-69fc-486c-bd2c-f5922dca42a0",
   "metadata": {},
   "source": [
    "Then the number of people in each group is given by:"
   ]
  },
  {
   "cell_type": "code",
   "execution_count": 46,
   "id": "b406ccdf-db10-470b-911a-fcfaab4bf4ff",
   "metadata": {},
   "outputs": [
    {
     "data": {
      "text/html": [
       "<pre class=\"language-APL\">A 2\n",
       "B 2\n",
       "C 1\n",
       "</pre>"
      ]
     },
     "execution_count": 46,
     "metadata": {},
     "output_type": "execute_result"
    }
   ],
   "source": [
    "groups {⍺,≢⍵}⌸ apples"
   ]
  },
  {
   "cell_type": "markdown",
   "id": "f3d19c71-8e30-496e-8a2c-047d03969704",
   "metadata": {},
   "source": [
    "This is the same as the monadic case applied to just groups:"
   ]
  },
  {
   "cell_type": "code",
   "execution_count": 47,
   "id": "c09fa859-c60d-4ff8-b9fd-939ac06e79c3",
   "metadata": {},
   "outputs": [
    {
     "data": {
      "text/html": [
       "<pre class=\"language-APL\">A 2\n",
       "B 2\n",
       "C 1\n",
       "</pre>"
      ]
     },
     "execution_count": 47,
     "metadata": {},
     "output_type": "execute_result"
    }
   ],
   "source": [
    "{⍺,≢⍵}⌸groups"
   ]
  },
  {
   "cell_type": "markdown",
   "id": "ac921011-30e1-45e6-a083-d06cb0515a95",
   "metadata": {},
   "source": [
    "The total number of apples held by people in each group is:"
   ]
  },
  {
   "cell_type": "code",
   "execution_count": 48,
   "id": "fb92cd0a-49cb-4db1-8b4c-f72b110f023b",
   "metadata": {},
   "outputs": [
    {
     "data": {
      "text/html": [
       "<pre class=\"language-APL\">A 8\n",
       "B 1\n",
       "C 3\n",
       "</pre>"
      ]
     },
     "execution_count": 48,
     "metadata": {},
     "output_type": "execute_result"
    }
   ],
   "source": [
    "groups {⍺,+/⍵}⌸ apples"
   ]
  },
  {
   "cell_type": "markdown",
   "id": "c6342957-a5c3-4a11-8564-c0b5d1640d6e",
   "metadata": {},
   "source": [
    "We will use this to add up the session-connection overlaps for each attendee."
   ]
  },
  {
   "cell_type": "code",
   "execution_count": 49,
   "id": "33a367aa-380b-4416-be52-e69a4ac6e303",
   "metadata": {},
   "outputs": [
    {
     "data": {
      "text/html": [
       "<pre class=\"language-APL\">900 2700 900 1800 1800 900 1500 1200 900 1800\n",
       "900 2700 900 1800 1800 900 1500 1200 900 1800\n",
       "  0    0   0  180 1800  60    0    0   0    0\n",
       "900 2700 900 1740 1800 900 1500 1200 240    0\n",
       "  0 2040 900 1800 1800 900 1500 1200 900 1800\n",
       "900 2700 900 1800 1800 900 1500 1200 900 1800\n",
       "840 2700 900 1800 1800 900 1500 1200 900 1800\n",
       "960 2700 900 1800 1800 900 1500 1200 900 1800\n",
       "900 2700 900 1800 1800 900 1500 1200 180    0\n",
       "  0   60   0    0    0   0    0    0   0    0\n",
       "</pre>"
      ]
     },
     "execution_count": 49,
     "metadata": {},
     "output_type": "execute_result"
    }
   ],
   "source": [
    "names ← Attendees 'Attendee'\n",
    "10 10↑ overlap ← (connected⌿names) {+⌿⍵}⌸ 0 ⌈ (leave∘.⌊end) - (join∘.⌈start)"
   ]
  },
  {
   "cell_type": "markdown",
   "id": "855a7c88-da45-42b4-92df-945f736e6c3c",
   "metadata": {},
   "source": [
    "According to our problem specification, a person attended a session if they were present at a session for *at least half* of the duration of that session.\n",
    "\n",
    "The duration of a session is just the difference between its start and end times."
   ]
  },
  {
   "cell_type": "code",
   "execution_count": 50,
   "id": "7ffa4bbb-d0ea-4388-bb87-e06d268a293f",
   "metadata": {},
   "outputs": [
    {
     "data": {
      "text/html": [
       "<pre class=\"language-APL\">900 2700 900 1800 1800 900 1500 1200 900 1800 600 3000 2700 1800 900 600 2100 900 1800 1800 900 900 300 900 1800 1800 900 1800 1800 900 1200 1800 600 1800 1800 300 1800 1800 900 600 2100 900 1800 1800 900 1800 2700 300\n",
       "</pre>"
      ]
     },
     "execution_count": 50,
     "metadata": {},
     "output_type": "execute_result"
    }
   ],
   "source": [
    "end-start"
   ]
  },
  {
   "cell_type": "markdown",
   "id": "d88650bb-b360-42c0-b6da-16ca545df921",
   "metadata": {},
   "source": [
    "To find the attendance ratio, we need to compare each session duration (single number) with each row of overlaps. We will match these up using the **bracket axis** operator. This special syntax allows us to specify a particular axis on which to apply a function."
   ]
  },
  {
   "cell_type": "code",
   "execution_count": 51,
   "id": "c742836a-e241-4ede-9bc0-6375d670a87e",
   "metadata": {},
   "outputs": [
    {
     "data": {
      "text/html": [
       "<pre class=\"language-APL\">333 48\n",
       "</pre>"
      ]
     },
     "execution_count": 51,
     "metadata": {},
     "output_type": "execute_result"
    },
    {
     "data": {
      "text/html": [
       "<pre class=\"language-APL\">48\n",
       "</pre>"
      ]
     },
     "execution_count": 51,
     "metadata": {},
     "output_type": "execute_result"
    }
   ],
   "source": [
    "⍴overlap\n",
    "⍴end-start"
   ]
  },
  {
   "cell_type": "markdown",
   "id": "30f5432a-08e9-4cf6-9bb7-06388cdcb945",
   "metadata": {},
   "source": [
    "There are 48 sessions, so we will specify the 2nd axis which corresponds to the number of columns (number of sessions) and has length 48."
   ]
  },
  {
   "cell_type": "code",
   "execution_count": 52,
   "id": "2c270778-070e-44df-9fae-37a03d4039c5",
   "metadata": {},
   "outputs": [
    {
     "data": {
      "text/html": [
       "<pre class=\"language-APL\">1            1             1 1            1 1             1 1 1            1\n",
       "1            1             1 1            1 1             1 1 1            1\n",
       "0            0             0 0.1          1 0.06666666667 0 0 0            0\n",
       "1            1             1 0.9666666667 1 1             1 1 0.2666666667 0\n",
       "0            0.7555555556  1 1            1 1             1 1 1            1\n",
       "1            1             1 1            1 1             1 1 1            1\n",
       "0.9333333333 1             1 1            1 1             1 1 1            1\n",
       "1.066666667  1             1 1            1 1             1 1 1            1\n",
       "1            1             1 1            1 1             1 1 0.2          0\n",
       "0            0.02222222222 0 0            0 0             0 0 0            0\n",
       "</pre>"
      ]
     },
     "execution_count": 52,
     "metadata": {},
     "output_type": "execute_result"
    }
   ],
   "source": [
    "10 10↑ overlap ÷[2] end-start"
   ]
  },
  {
   "cell_type": "markdown",
   "id": "572d0eb1-1a01-44e5-a570-77e5cdf957c1",
   "metadata": {},
   "source": [
    "Our final result is where those overlaps are greater than or equal to 0.5. However, we also want to expand our result for those people who registered but did not attend."
   ]
  },
  {
   "cell_type": "code",
   "execution_count": 53,
   "id": "c3a4aae2-40fd-424f-aae1-44c4d69eb2aa",
   "metadata": {},
   "outputs": [
    {
     "data": {
      "text/html": [
       "<pre class=\"language-APL\">333 48\n",
       "</pre>"
      ]
     },
     "execution_count": 53,
     "metadata": {},
     "output_type": "execute_result"
    },
    {
     "data": {
      "text/html": [
       "<pre class=\"language-APL\">435 48\n",
       "</pre>"
      ]
     },
     "execution_count": 53,
     "metadata": {},
     "output_type": "execute_result"
    }
   ],
   "source": [
    "⍴overlap\n",
    "⍴(names{∨⌿⍵}⌸connected) ⍀ 0.5 ≤ overlap ÷[2] end-start"
   ]
  },
  {
   "cell_type": "markdown",
   "id": "6bf3b605-23e3-442d-82bd-592d48e5c5c7",
   "metadata": {},
   "source": [
    "It would be cheaper if we could avoid using key `⌸` a 2nd time for grouping the `connected` vector. We could avoid this by using expand on the `connections` matrix which makes our `join` and `leave` vectors, but our solution would be incorrect if there were sessions around 1st January 1970."
   ]
  },
  {
   "cell_type": "code",
   "execution_count": 54,
   "id": "7eb7b1ec-f6de-4c9b-bca4-468b1eb5a43a",
   "metadata": {},
   "outputs": [
    {
     "data": {
      "text/html": [
       "<pre class=\"language-APL\">┌────────────────┐\n",
       "│1970 1 1 0 0 0 0│\n",
       "└────────────────┘\n",
       "</pre>"
      ]
     },
     "execution_count": 54,
     "metadata": {},
     "output_type": "execute_result"
    }
   ],
   "source": [
    "20 ¯1⎕DT 0"
   ]
  },
  {
   "cell_type": "markdown",
   "id": "3b7ad916-816c-4a0b-9abd-d80e426ede39",
   "metadata": {},
   "source": [
    "Let's put all the pieces together and see our final solution once again:"
   ]
  },
  {
   "cell_type": "code",
   "execution_count": 55,
   "id": "1bb12f32-3eed-4101-a476-0d7dff527ddf",
   "metadata": {},
   "outputs": [],
   "source": [
    "∇  Attended←{\n",
    "     a_cols←1⌷⍺ ⋄ a_data←1↓⍺\n",
    "     s_cols←1⌷⍵ ⋄ s_data←1↓⍵\n",
    "     Attendees←{a_data[;a_cols⍳⊆⍵]}\n",
    "     Schedule←{s_data[;s_cols⍳⊆⍵]}\n",
    "     Timestamp2Unix←{20 ⎕DT ¯1(⌽@1 2 3)¨2⊃¨': /'∘⎕VFI¨⊆⍵}\n",
    "\n",
    "     connections←Attendees'Join Time' 'Leave Time'\n",
    "     connected←'--'∘≢¨connections[;1]\n",
    "\n",
    "     (join leave)←↓⍉Timestamp2Unix connected⌿connections\n",
    "     (start end)←↓⍉Timestamp2Unix Sch'Start Time' 'End Time'\n",
    "\n",
    "     names←Att'Attendee'\n",
    "     overlap←names{+⌿⍵}⌸⍉0⌈(end∘.⌊leave)-(start∘.⌈join)\n",
    "     0.5≤(names{∨⌿⍵}⌸connected)⍀overlap÷[2](end-start)\n",
    " }\n",
    "∇"
   ]
  }
 ],
 "metadata": {
  "kernelspec": {
   "display_name": "Dyalog APL",
   "language": "apl",
   "name": "dyalog-kernel"
  },
  "language_info": {
   "file_extension": ".apl",
   "mimetype": "text/apl",
   "name": "APL"
  }
 },
 "nbformat": 4,
 "nbformat_minor": 5
}
