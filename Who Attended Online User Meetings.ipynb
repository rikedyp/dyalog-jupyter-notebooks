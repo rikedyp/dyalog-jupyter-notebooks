{
 "cells": [
  {
   "cell_type": "markdown",
   "id": "1ac55f0b-2f14-4fcf-ad0d-8aa5941c549a",
   "metadata": {},
   "source": [
    "# Who Attended Online User Meetings\n",
    "This notebook is a supplement to the talk [The Heart of The Algorithm]() given by Rich Park at the APL Seeds '23 online user meeting. In that talk, he introduces the basic syntax of APL before explaining the core algorithm used to solve this problem.\n",
    "\n",
    "In this notebook, we outline the problem and show how its solution can be used to gain insights from data. Then, we will build up the solution piece by piece, explaining every part in detail."
   ]
  },
  {
   "cell_type": "markdown",
   "id": "46d268a3-568e-4649-be47-86208a872d3c",
   "metadata": {},
   "source": [
    "## The problem\n",
    "Each year, Dyalog hosts a meeting of staff and users during which we give presentations and share ideas. For 2020 and 2021, these meetings were held online.\n",
    "\n",
    "Afterwards, we obtained the attendance data from Zoom. It has been simplified and anonymised for the purpose of this problem.\n",
    "\n",
    "**attendees.csv** is a table with columns:\n",
    "- Attendee: the name of each attendee (fake, anonymous and unique for each attendee)\n",
    "- Join Time: the date and time in `MM/DD/YYYY hh:mm` format when a user joined the meeting\n",
    "- Leave Time: the date and time the user disconnected from the meeting\n",
    "\n",
    "The same user may join and leave the meeting multiple times.\n",
    "\n",
    "**Schedule.csv** is a table with columns:\n",
    "- Session: A unique text ID for each session\n",
    "- Title: Presentation title or session type (e.g. break)\n",
    "- Start Time: Character date time when session started (same format as in Attendees.csv)\n",
    "- End Time: Date and time that session ended"
   ]
  },
  {
   "cell_type": "markdown",
   "id": "45bd6c83-1048-40e9-b0e8-21e6de6ae34f",
   "metadata": {},
   "source": [
    "> Note that I have renamed these files to keep a convention that functions begin with capital letters and values are all lowercase."
   ]
  },
  {
   "cell_type": "code",
   "execution_count": 56,
   "id": "a40db7ed-d2f0-450c-b799-abc8263c22ac",
   "metadata": {},
   "outputs": [
    {
     "data": {
      "text/html": [
       "<pre class=\"language-APL\">#.Attendees\n",
       "</pre>"
      ]
     },
     "execution_count": 56,
     "metadata": {},
     "output_type": "execute_result"
    },
    {
     "data": {
      "text/html": [
       "<pre class=\"language-APL\">┌──────────────┬───────────────┬───────────────┬─────────┐\n",
       "│Attendee      │Join Time      │Leave Time     │Date     │\n",
       "├──────────────┼───────────────┼───────────────┼─────────┤\n",
       "│Jaslyn Chapman│11/9/2020 15:18│11/9/2020 18:04│11/9/2020│\n",
       "├──────────────┼───────────────┼───────────────┼─────────┤\n",
       "│Jaslyn Chapman│11/9/2020 13:57│11/9/2020 15:18│11/9/2020│\n",
       "├──────────────┼───────────────┼───────────────┼─────────┤\n",
       "│Dalia Gentry  │11/9/2020 13:59│11/9/2020 19:03│11/9/2020│\n",
       "├──────────────┼───────────────┼───────────────┼─────────┤\n",
       "│Mark Cannon   │11/9/2020 15:42│11/9/2020 16:16│11/9/2020│\n",
       "└──────────────┴───────────────┴───────────────┴─────────┘\n",
       "</pre>"
      ]
     },
     "execution_count": 56,
     "metadata": {},
     "output_type": "execute_result"
    }
   ],
   "source": [
    "]Get /d/Presentations/APLSeeds23/attendees.csv\n",
    "5↑Attendees"
   ]
  },
  {
   "cell_type": "code",
   "execution_count": 58,
   "id": "934e745e-f889-4537-a8e1-6de98910022a",
   "metadata": {},
   "outputs": [
    {
     "data": {
      "text/html": [
       "<pre class=\"language-APL\">#.schedule\n",
       "</pre>"
      ]
     },
     "execution_count": 58,
     "metadata": {},
     "output_type": "execute_result"
    },
    {
     "data": {
      "text/html": [
       "<pre class=\"language-APL\">┌────────────┬──────────────────────────────┬───────────────┬───────────────┐\n",
       "│Session     │Title                         │Start Time     │End Time       │\n",
       "├────────────┼──────────────────────────────┼───────────────┼───────────────┤\n",
       "│2020-D01    │Welcome to Dyalog '20         │11/9/2020 14:00│11/9/2020 14:15│\n",
       "├────────────┼──────────────────────────────┼───────────────┼───────────────┤\n",
       "│2020-D02    │The Road Ahead                │11/9/2020 14:15│11/9/2020 15:00│\n",
       "├────────────┼──────────────────────────────┼───────────────┼───────────────┤\n",
       "│2020-break-1│break                         │11/9/2020 15:00│11/9/2020 15:15│\n",
       "├────────────┼──────────────────────────────┼───────────────┼───────────────┤\n",
       "│2020-D03    │Multi-line Input and Scripting│11/9/2020 15:15│11/9/2020 15:45│\n",
       "└────────────┴──────────────────────────────┴───────────────┴───────────────┘\n",
       "</pre>"
      ]
     },
     "execution_count": 58,
     "metadata": {},
     "output_type": "execute_result"
    }
   ],
   "source": [
    "]Get /d/Presentations/APLSeeds23/schedule.csv\n",
    "5↑schedule"
   ]
  },
  {
   "cell_type": "markdown",
   "id": "567df001-22c8-4d04-848f-e6bd920d5d91",
   "metadata": {},
   "source": [
    "## Selecting data\n",
    "We can select elements from arrays with square brackets. This is a special syntax in APL, but quite convenient."
   ]
  },
  {
   "cell_type": "code",
   "execution_count": 59,
   "id": "80d46897-6f7f-49ee-bbe3-33ef8e5642de",
   "metadata": {},
   "outputs": [
    {
     "data": {
      "text/html": [
       "<pre class=\"language-APL\">┌──────────────┐\n",
       "│The Road Ahead│\n",
       "└──────────────┘\n",
       "</pre>"
      ]
     },
     "execution_count": 59,
     "metadata": {},
     "output_type": "execute_result"
    }
   ],
   "source": [
    "schedule[3;2]   ⍝ 3rd row, 2nd column"
   ]
  },
  {
   "cell_type": "markdown",
   "id": "b0404a37-c00c-4241-937a-dfd6358f77f2",
   "metadata": {},
   "source": [
    "Omitting an index returns all data along that dimension of the array:"
   ]
  },
  {
   "cell_type": "code",
   "execution_count": 27,
   "id": "424f30d4-2f02-4777-bc9f-8d6c2776c4e6",
   "metadata": {},
   "outputs": [
    {
     "data": {
      "text/html": [
       "<pre class=\"language-APL\">┌───────┬─────┬──────────┬────────┐\n",
       "│Session│Title│Start Time│End Time│\n",
       "└───────┴─────┴──────────┴────────┘\n",
       "</pre>"
      ]
     },
     "execution_count": 27,
     "metadata": {},
     "output_type": "execute_result"
    }
   ],
   "source": [
    "schedule[1;]   ⍝ Header row is the first row"
   ]
  },
  {
   "cell_type": "markdown",
   "id": "b3e9b244-f21f-4457-95da-e11c3e251a94",
   "metadata": {},
   "source": [
    "It may be preferred to select data from specific columns according to the name of the column from the header row.\n",
    "\n",
    "To do this, we will to look up the position of our desired column in the header using the **index-of** `⍺⍳⍵` primitive:"
   ]
  },
  {
   "cell_type": "code",
   "execution_count": 28,
   "id": "1b806386-c157-4f9c-9a73-0d4a4c167e84",
   "metadata": {},
   "outputs": [
    {
     "data": {
      "text/html": [
       "<pre class=\"language-APL\">5 5 5 5 5 5 5 5 5 5\n",
       "</pre>"
      ]
     },
     "execution_count": 28,
     "metadata": {},
     "output_type": "execute_result"
    }
   ],
   "source": [
    "schedule[1;]⍳'Start Time'"
   ]
  },
  {
   "cell_type": "markdown",
   "id": "9387efe3-ca98-4049-a587-652ebe9a2d8f",
   "metadata": {},
   "source": [
    "Index-of returns one greater than the length of the left argument (`1+≢⍺`) where elements in the right argument `⍵` are not found. In this case, none of the individual characters in `'Start Time'` were found in our header.\n",
    "\n",
    "This is because `'Start Time'` has a different structure to our header. `'Start Time'` is a list of characters, whereas our header is a list of lists of characters. It is a nested list of character vectors.\n",
    "\n",
    "We can see the difference by comparing the `]Box`-ed display:"
   ]
  },
  {
   "cell_type": "code",
   "execution_count": 29,
   "id": "8307248f-7456-46b0-880f-e4c89f6cbc8e",
   "metadata": {},
   "outputs": [
    {
     "data": {
      "text/html": [
       "<pre class=\"language-APL\">┌───────┬─────┬──────────┬────────┐\n",
       "│Session│Title│Start Time│End Time│\n",
       "└───────┴─────┴──────────┴────────┘\n",
       "</pre>"
      ]
     },
     "execution_count": 29,
     "metadata": {},
     "output_type": "execute_result"
    },
    {
     "data": {
      "text/html": [
       "<pre class=\"language-APL\">Start Time\n",
       "</pre>"
      ]
     },
     "execution_count": 29,
     "metadata": {},
     "output_type": "execute_result"
    },
    {
     "data": {
      "text/html": [
       "<pre class=\"language-APL\">┌──────────┐\n",
       "│Start Time│\n",
       "└──────────┘\n",
       "</pre>"
      ]
     },
     "execution_count": 29,
     "metadata": {},
     "output_type": "execute_result"
    }
   ],
   "source": [
    "schedule[1;]    ⍝ nested vector of character vectors\n",
    "'Start Time'    ⍝ simple character vector\n",
    "⊂'Start Time'   ⍝ nested scalar containing a character vector"
   ]
  },
  {
   "cell_type": "markdown",
   "id": "43b63787-5fda-4cfb-ad21-81fea5d29bac",
   "metadata": {},
   "source": [
    "The **nest** primitive only encloses its argument if it is simple, which is convenient for cases like this where we may want to supply a single list or a list of lists."
   ]
  },
  {
   "cell_type": "markdown",
   "id": "c2ce55f4-9864-4ef5-95c9-6bf32dacaa3d",
   "metadata": {},
   "source": [
    "Stranding (juxtaposing arrays with spaces) forms a list of lists:"
   ]
  },
  {
   "cell_type": "code",
   "execution_count": 31,
   "id": "cf4d620d-d0fc-48ef-905b-7004e70cdf85",
   "metadata": {},
   "outputs": [
    {
     "data": {
      "text/html": [
       "<pre class=\"language-APL\">┌───┬───┬─────┐\n",
       "│one│two│three│\n",
       "└───┴───┴─────┘\n",
       "</pre>"
      ]
     },
     "execution_count": 31,
     "metadata": {},
     "output_type": "execute_result"
    }
   ],
   "source": [
    "'one' 'two' 'three'"
   ]
  },
  {
   "cell_type": "markdown",
   "id": "56b83c37-52fd-4dea-a168-e72a1a2c5188",
   "metadata": {},
   "source": [
    "Enclosing adds a level of nesting:"
   ]
  },
  {
   "cell_type": "code",
   "execution_count": 32,
   "id": "d6c41d74-f8ea-4409-9a4d-cf8bf3b8105f",
   "metadata": {},
   "outputs": [
    {
     "data": {
      "text/html": [
       "<pre class=\"language-APL\">┌───────────────┐\n",
       "│┌───┬───┬─────┐│\n",
       "││one│two│three││\n",
       "│└───┴───┴─────┘│\n",
       "└───────────────┘\n",
       "</pre>"
      ]
     },
     "execution_count": 32,
     "metadata": {},
     "output_type": "execute_result"
    }
   ],
   "source": [
    "⊂'one' 'two' 'three'"
   ]
  },
  {
   "cell_type": "markdown",
   "id": "e27b3b10-0dec-4bf4-9cd1-a032ecb64dd9",
   "metadata": {},
   "source": [
    "Enclose-if-simple nests a simple array:"
   ]
  },
  {
   "cell_type": "code",
   "execution_count": 33,
   "id": "8790e043-0a6a-4fcf-9cf5-20ada44e0622",
   "metadata": {},
   "outputs": [
    {
     "data": {
      "text/html": [
       "<pre class=\"language-APL\">┌───┐\n",
       "│one│\n",
       "└───┘\n",
       "</pre>"
      ]
     },
     "execution_count": 33,
     "metadata": {},
     "output_type": "execute_result"
    }
   ],
   "source": [
    "⊆'one'"
   ]
  },
  {
   "cell_type": "markdown",
   "id": "d5706e4a-8a25-4dfc-b804-42309cb3652b",
   "metadata": {},
   "source": [
    "But adds no extra nesting to an already nested array:"
   ]
  },
  {
   "cell_type": "code",
   "execution_count": 34,
   "id": "e1d228eb-eeb0-43ee-8f91-ebcd1e811c02",
   "metadata": {},
   "outputs": [
    {
     "data": {
      "text/html": [
       "<pre class=\"language-APL\">┌───┬───┬─────┐\n",
       "│one│two│three│\n",
       "└───┴───┴─────┘\n",
       "</pre>"
      ]
     },
     "execution_count": 34,
     "metadata": {},
     "output_type": "execute_result"
    }
   ],
   "source": [
    "⊆'one' 'two' 'three'"
   ]
  },
  {
   "cell_type": "markdown",
   "id": "c1b0860f-1bab-41f9-a85d-db1bbe51b0ef",
   "metadata": {},
   "source": [
    "We can now use text column names to select columns from our data. We want the data without the header, so we will drop the first row."
   ]
  },
  {
   "cell_type": "code",
   "execution_count": 53,
   "id": "11d8cd1e-8005-49a2-a65e-f9e5457ff3b1",
   "metadata": {},
   "outputs": [
    {
     "data": {
      "text/html": [
       "<pre class=\"language-APL\">┌───────────────┬──────────────────────────────┐\n",
       "│11/9/2020 14:00│Welcome to Dyalog '20         │\n",
       "├───────────────┼──────────────────────────────┤\n",
       "│11/9/2020 14:15│The Road Ahead                │\n",
       "├───────────────┼──────────────────────────────┤\n",
       "│11/9/2020 15:00│break                         │\n",
       "├───────────────┼──────────────────────────────┤\n",
       "│11/9/2020 15:15│Multi-line Input and Scripting│\n",
       "├───────────────┼──────────────────────────────┤\n",
       "│11/9/2020 15:45│The .NET Core Bridge          │\n",
       "└───────────────┴──────────────────────────────┘\n",
       "</pre>"
      ]
     },
     "execution_count": 53,
     "metadata": {},
     "output_type": "execute_result"
    }
   ],
   "source": [
    "5↑ (1↓schedule)[;schedule[1;]⍳⊆'Start Time' 'Title']"
   ]
  },
  {
   "cell_type": "markdown",
   "id": "c13043cf-04ca-4fdd-81c0-33fe9813ca8d",
   "metadata": {},
   "source": [
    "We can factor this out as a function:"
   ]
  },
  {
   "cell_type": "code",
   "execution_count": 54,
   "id": "ccb0bcb6-6816-4b86-a16b-c72caffa045f",
   "metadata": {},
   "outputs": [
    {
     "data": {
      "text/html": [
       "<pre class=\"language-APL\">┌───────────────┬──────────────────────────────┐\n",
       "│11/9/2020 14:00│Welcome to Dyalog '20         │\n",
       "├───────────────┼──────────────────────────────┤\n",
       "│11/9/2020 14:15│The Road Ahead                │\n",
       "├───────────────┼──────────────────────────────┤\n",
       "│11/9/2020 15:00│break                         │\n",
       "├───────────────┼──────────────────────────────┤\n",
       "│11/9/2020 15:15│Multi-line Input and Scripting│\n",
       "├───────────────┼──────────────────────────────┤\n",
       "│11/9/2020 15:45│The .NET Core Bridge          │\n",
       "└───────────────┴──────────────────────────────┘\n",
       "</pre>"
      ]
     },
     "execution_count": 54,
     "metadata": {},
     "output_type": "execute_result"
    }
   ],
   "source": [
    "Get←{(1↓⍺)[;⍺[1;]⍳⊆⍵]}\n",
    "5↑ schedule Get 'Start Time' 'Title'"
   ]
  },
  {
   "cell_type": "markdown",
   "id": "2f7ea130-de2f-4ca9-9224-b6c5bc818aa7",
   "metadata": {},
   "source": [
    "This is very convenient, but `1↓⍺` every time we want some data is a bit expensive. Instead, we will use `⎕CSV` to separate the header row on import and refer to the header directly.\n",
    "\n",
    "```\n",
    "path←'/d/Presentations/APLSeeds23/schedule.csv'\n",
    "(s_data s_cols)←⎕CSV path ⍬ 1 1\n",
    "Schedule←{s_data[;s_cols⍳⊆⍵]}\n",
    "```"
   ]
  },
  {
   "cell_type": "markdown",
   "id": "bfb6c90b-bf35-463b-8899-b3ab9ba085d0",
   "metadata": {},
   "source": [
    "## Using datetimes\n",
    "Our data has datetimes represented as lists of characters. In order to do comparison efficiently, we will convert these into scalar number. We will use the Unix time number, which is the number of seconds since 1st January 1970, so that we get 1 second precision."
   ]
  },
  {
   "cell_type": "markdown",
   "id": "fe8f76ba-55f4-47a1-84c7-caf448df1127",
   "metadata": {},
   "source": [
    "The system function `⎕VFI` is used to safely convert character data into numbers. The **execute** primitive `⍎⍵` can be used to convert characters into number, but because it executes any APL expression it can be dangerous to use with data from external sources.\n",
    "\n",
    "In the monadic case, `⎕VFI` checks space-separated tokens to see if they are valid APL numeric literals."
   ]
  },
  {
   "cell_type": "code",
   "execution_count": 5,
   "id": "d58af3e8-bac4-4efe-9223-aefb99f8e061",
   "metadata": {},
   "outputs": [
    {
     "data": {
      "text/html": [
       "<pre class=\"language-APL\">┌───────────────┬─────────────────────────┐\n",
       "│1 0 1 1 1 0 0 1│42 0 1.5 1000 2J¯4 0 0 ¯6│\n",
       "└───────────────┴─────────────────────────┘\n",
       "</pre>"
      ]
     },
     "execution_count": 5,
     "metadata": {},
     "output_type": "execute_result"
    }
   ],
   "source": [
    "⎕VFI'42 1,4 1.5   1e3 2J¯4 2J-4 -6 ¯6'"
   ]
  },
  {
   "cell_type": "markdown",
   "id": "6f5171ea-52c2-4512-a4e1-4ed05c86a90c",
   "metadata": {},
   "source": [
    "It returns a two-element vector. The 1st element is a Boolean mask, a `1` indicates which numbers in the 2nd element were converted from valid literal numbers in the argument. The Boolean mask can be used with **compress** `⍺/⍵` to extract numbers."
   ]
  },
  {
   "cell_type": "code",
   "execution_count": 6,
   "id": "9118b6c6-e2d4-413b-bcbb-0c09fcfa938f",
   "metadata": {},
   "outputs": [
    {
     "data": {
      "text/html": [
       "<pre class=\"language-APL\">42 1.5 1000 2J¯4 ¯6\n",
       "</pre>"
      ]
     },
     "execution_count": 6,
     "metadata": {},
     "output_type": "execute_result"
    }
   ],
   "source": [
    "⊃(//⎕VFI)'42 1,4 1.5   1e3 2J¯4 2J-4 -6 ¯6'"
   ]
  },
  {
   "cell_type": "markdown",
   "id": "8c2ff5d7-189b-4d52-8ff4-234c1907e7ad",
   "metadata": {},
   "source": [
    "We can provide a left argument to specify other separator characters:"
   ]
  },
  {
   "cell_type": "code",
   "execution_count": 8,
   "id": "0f7efcca-7332-4a0c-a607-70eb94e30b9c",
   "metadata": {},
   "outputs": [
    {
     "data": {
      "text/html": [
       "<pre class=\"language-APL\">┌─────────┬──────────────┐\n",
       "│1 1 1 1 1│11 9 2020 14 0│\n",
       "└─────────┴──────────────┘\n",
       "</pre>"
      ]
     },
     "execution_count": 8,
     "metadata": {},
     "output_type": "execute_result"
    }
   ],
   "source": [
    "'/ :'⎕VFI'11/9/2020 14:00'"
   ]
  },
  {
   "cell_type": "markdown",
   "id": "4b17e61a-93cb-4c9a-b1c6-9cc2c5aba195",
   "metadata": {},
   "source": [
    "We know our datetimes should be all numbers, so we'll pick the 2nd element instead of using compress."
   ]
  },
  {
   "cell_type": "code",
   "execution_count": 9,
   "id": "6c380302-069d-4e7e-a216-3640edf42aca",
   "metadata": {},
   "outputs": [
    {
     "data": {
      "text/html": [
       "<pre class=\"language-APL\">11 9 2020 14 0\n",
       "</pre>"
      ]
     },
     "execution_count": 9,
     "metadata": {},
     "output_type": "execute_result"
    }
   ],
   "source": [
    "2⊃'/ :'⎕VFI'11/9/2020 14:00'"
   ]
  },
  {
   "cell_type": "markdown",
   "id": "d16deeaa-c02d-4056-8d09-12cf4fcbf304",
   "metadata": {},
   "source": [
    "The system function `⎕DT` can convert between many datetime formats. We will convert from `⎕TS`-style time stamps to Unix time numbers.\n",
    "\n",
    "But first, remember that our timestamps have the months first. `⎕TS`-style time stamps are `year month day hour minute second millisecond`. We can omit the milliseconds, but we must rotate our dates to be in the correct order."
   ]
  },
  {
   "cell_type": "code",
   "execution_count": 10,
   "id": "64d36786-56f1-4d0b-aabc-1816d9094f17",
   "metadata": {},
   "outputs": [
    {
     "data": {
      "text/html": [
       "<pre class=\"language-APL\">2020 11 9\n",
       "</pre>"
      ]
     },
     "execution_count": 10,
     "metadata": {},
     "output_type": "execute_result"
    }
   ],
   "source": [
    "¯1⌽11 9 2020"
   ]
  },
  {
   "cell_type": "markdown",
   "id": "ba28cf85-21f6-4b75-97e9-de17632812c5",
   "metadata": {},
   "source": [
    "In a full time stamp, we only want to rotate the first three elements."
   ]
  },
  {
   "cell_type": "code",
   "execution_count": 11,
   "id": "ea565166-5f73-45cf-b0bc-b3857e12826d",
   "metadata": {},
   "outputs": [
    {
     "data": {
      "text/html": [
       "<pre class=\"language-APL\">2020 11 9 14 0\n",
       "</pre>"
      ]
     },
     "execution_count": 11,
     "metadata": {},
     "output_type": "execute_result"
    }
   ],
   "source": [
    "¯1(⌽@1 2 3)11 9 2020 14 0"
   ]
  },
  {
   "cell_type": "markdown",
   "id": "634627f8-f71c-4ad5-86ad-ba2f01ec3f6a",
   "metadata": {},
   "source": [
    "We can then turn this into our Unix time number:"
   ]
  },
  {
   "cell_type": "code",
   "execution_count": 15,
   "id": "dfb87087-6889-44cf-b7c5-ebfa212e9b48",
   "metadata": {},
   "outputs": [
    {
     "data": {
      "text/html": [
       "<pre class=\"language-APL\">1604930400\n",
       "</pre>"
      ]
     },
     "execution_count": 15,
     "metadata": {},
     "output_type": "execute_result"
    }
   ],
   "source": [
    "20⎕DT⊂2020 11 9 14 0"
   ]
  },
  {
   "cell_type": "markdown",
   "id": "bfcdfbf7-0840-4688-b37e-0b976b109765",
   "metadata": {},
   "source": [
    "`⎕TS`-style time stamps are numeric lists. `⎕DT` accepts lists of numeric lists, so it can convert many time stamps with a single call. But then we need to enclose a single time stamp so it has the same structure."
   ]
  },
  {
   "cell_type": "code",
   "execution_count": 14,
   "id": "63df8bf5-dc7c-46db-9ee0-1a746d78734a",
   "metadata": {},
   "outputs": [
    {
     "data": {
      "text/html": [
       "<pre class=\"language-APL\">2020 11 9 14 0\n",
       "</pre>"
      ]
     },
     "execution_count": 14,
     "metadata": {},
     "output_type": "execute_result"
    },
    {
     "data": {
      "text/html": [
       "<pre class=\"language-APL\">┌──────────────┬──────────────┬──────────────┐\n",
       "│2020 11 9 14 0│2020 11 9 14 0│2020 11 9 14 0│\n",
       "└──────────────┴──────────────┴──────────────┘\n",
       "</pre>"
      ]
     },
     "execution_count": 14,
     "metadata": {},
     "output_type": "execute_result"
    },
    {
     "data": {
      "text/html": [
       "<pre class=\"language-APL\">┌──────────────┐\n",
       "│2020 11 9 14 0│\n",
       "└──────────────┘\n",
       "</pre>"
      ]
     },
     "execution_count": 14,
     "metadata": {},
     "output_type": "execute_result"
    }
   ],
   "source": [
    "2020 11 9 14 0                                     ⍝ A single time stamp\n",
    "(2020 11 9 14 0)(2020 11 9 14 0)(2020 11 9 14 0)   ⍝ A list of time stamps\n",
    "⊂2020 11 9 14 0                                    ⍝ A single enclosed timestamp"
   ]
  },
  {
   "cell_type": "markdown",
   "id": "f61a85be-c52b-467c-b9c5-9991a9eff3cd",
   "metadata": {},
   "source": [
    "We can put these pieces together to form our datetime conversion function:"
   ]
  },
  {
   "cell_type": "code",
   "execution_count": 49,
   "id": "fa22865f-9563-43a6-866c-dfc2d84d97e4",
   "metadata": {},
   "outputs": [],
   "source": [
    "∇ Timestamp2Unix←{\n",
    "  ⍺←⊢   ⍝ Amount to rotate date. Default is to reverse.\n",
    " ⍝ ⍵: character date times \n",
    "  20 ⎕DT ⍺∘(⌽@1 2 3)¨2⊃¨'/ :'∘⎕VFI¨⊆⍵\n",
    "  }\n",
    "∇"
   ]
  },
  {
   "cell_type": "code",
   "execution_count": 52,
   "id": "4002c616-107e-4cca-84e7-608016762f16",
   "metadata": {},
   "outputs": [
    {
     "data": {
      "text/html": [
       "<pre class=\"language-APL\">1604930400 1604931300\n",
       "1604931300 1604934000\n",
       "1604934000 1604934900\n",
       "1604934900 1604936700\n",
       "1604936700 1604938500\n",
       "1604938500 1604939400\n",
       "1604939400 1604940900\n",
       "</pre>"
      ]
     },
     "execution_count": 52,
     "metadata": {},
     "output_type": "execute_result"
    }
   ],
   "source": [
    "7↑¯1 Timestamp2Unix schedule Get 'Start Time' 'End Time'"
   ]
  },
  {
   "cell_type": "markdown",
   "id": "0377f738-0c44-4628-9c28-c1bd42001631",
   "metadata": {},
   "source": [
    "## Comparing date times\n",
    "As explained in [the presentation at APL Seeds '23](#), "
   ]
  },
  {
   "cell_type": "markdown",
   "id": "228698a2-b056-4851-9b7d-81d31e08ad64",
   "metadata": {},
   "source": [
    "While the nested table is very convenient, we are going to use an \"inverted table\" format for this problem. An inverted table takes less memory and is faster to process.\n",
    "\n",
    "While the default import of CSV is a matrix of character vectors, the inverted table is a vector of character matrices. The nested matrix is similar to a spreadsheet, whereas an inverted table is like a columnar (column store) database."
   ]
  },
  {
   "cell_type": "code",
   "execution_count": 1,
   "id": "6f24cb0f-678a-4631-87c3-f11edb547041",
   "metadata": {},
   "outputs": [],
   "source": [
    "∇ ReadCSV←{\n",
    "⍝ Convert CSV from source ⍵\n",
    "⍝ ⍬ means ⍵ is a file path\n",
    "⍝ 1 means all columns should be imported as character data\n",
    "⍝ 1 means the first row should be read in separately as a header row\n",
    "⍝ The result is a 2-element vector. First element is a nested \n",
    "  ⎕CSV ⍵ ⍬ 1 1 \n",
    "}\n",
    "∇"
   ]
  }
 ],
 "metadata": {
  "kernelspec": {
   "display_name": "Dyalog APL",
   "language": "apl",
   "name": "dyalog-kernel"
  },
  "language_info": {
   "file_extension": ".apl",
   "mimetype": "text/apl",
   "name": "APL"
  }
 },
 "nbformat": 4,
 "nbformat_minor": 5
}
