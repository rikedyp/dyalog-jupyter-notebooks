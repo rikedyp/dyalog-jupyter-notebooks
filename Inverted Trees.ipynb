{
 "cells": [
  {
   "cell_type": "markdown",
   "id": "99f5d7c5",
   "metadata": {},
   "source": [
    "# Exploration of flat tree representations in APL\n",
    "The namespace representation of hierarchical structures in Dyalog APL is relatively intuitive, but can suffer from drawbacks.\n",
    "- the node names are restricted to valid APL names, unless some special translation scheme is used as in `⎕JSON`\n",
    "- extracting data or manipulating the tree involves heavy recursion, and creating new nodes can involve the need to set variable names dynamically\n",
    "\n",
    "The most recent significant publications about handling tree structures in APL comes from Hsu. It is relatively accessible as PhD theses go, but still many find it difficult to map between the vocabulary of generic tree transformations and specific compiler passes and the kind of tree handling they may need to do in day-to-day business.\n",
    "\n",
    "Two examples of commonly found tree structures in today's computing landscape are HTML documents and JSON objects. The system functions `⎕XML` and `⎕JSON` are both able to parse text representations into depth-vector representations of their respective tree structures. However, the data is returned in a nested structure which is inefficient to query and manipulate.\n",
    "\n",
    "In this notebook, I compare several approaches to extracting data from trees for ergonomics and performance."
   ]
  },
  {
   "cell_type": "markdown",
   "id": "ee5d499f",
   "metadata": {},
   "source": [
    "1. Extract the same node from what is basically a table in JSON - a list of objects all with the same structure\n",
    "1. Removing nodes from a tree"
   ]
  },
  {
   "cell_type": "code",
   "execution_count": 1,
   "id": "8d7e557b",
   "metadata": {},
   "outputs": [],
   "source": [
    "nl←⎕UCS 10\n",
    "xhtml ← '<div class=\"remove\">',nl\n",
    "xhtml,← '  <h1>Title</h1>',nl\n",
    "xhtml,← '  <div>',nl\n",
    "xhtml,← '    <p>nested p in nested div</p>',nl\n",
    "xhtml,← '  </div>',nl\n",
    "xhtml,← '  <p>Some text</p>',nl\n",
    "xhtml,← '</div>',nl\n",
    "xhtml,← nl\n",
    "xhtml,← '<div>',nl\n",
    "xhtml,← '  <p class=\"remove\">',nl\n",
    "xhtml,← '    Here is text with <strong>bold</strong> tag inside.',nl\n",
    "xhtml,← '  </p>',nl\n",
    "xhtml,← '</div>',nl"
   ]
  },
  {
   "cell_type": "code",
   "execution_count": 2,
   "id": "60ff1c05",
   "metadata": {},
   "outputs": [],
   "source": [
    "(d t v a k)←↓⍉⎕XML xhtml"
   ]
  },
  {
   "cell_type": "code",
   "execution_count": 3,
   "id": "696bf665",
   "metadata": {},
   "outputs": [
    {
     "data": {
      "text/html": [
       "<pre class=\"language-APL\">┌───────────────────────────────┬───────────────────────────────────────────────────────────────────────────────┬───────────────────────────────────────────────────────────────┐\n",
       "│┌───┬──┬───┬─┬─┬───┬─┬┬──────┬┐│┌┬─────┬┬──────────────────────┬─────────┬┬┬─────────────────┬────┬───────────┐│┌──────────────┬───┬───┬───┬───┬───┬──────────────┬───┬───┬───┐│\n",
       "││div│h1│div│p│p│div│p││strong│││││Title││nested p in nested div│Some text│││Here is text with│bold│tag inside.│││┌─────┬──────┐│   │   │   │   │   │┌─────┬──────┐│   │   │   ││\n",
       "│└───┴──┴───┴─┴─┴───┴─┴┴──────┴┘│└┴─────┴┴──────────────────────┴─────────┴┴┴─────────────────┴────┴───────────┘│││class│remove││   │   │   │   │   ││class│remove││   │   │   ││\n",
       "│                               │                                                                               ││└─────┴──────┘│   │   │   │   │   │└─────┴──────┘│   │   │   ││\n",
       "│                               │                                                                               │└──────────────┴───┴───┴───┴───┴───┴──────────────┴───┴───┴───┘│\n",
       "└───────────────────────────────┴───────────────────────────────────────────────────────────────────────────────┴───────────────────────────────────────────────────────────────┘\n",
       "</pre>"
      ]
     },
     "execution_count": 3,
     "metadata": {},
     "output_type": "execute_result"
    }
   ],
   "source": [
    "t v a"
   ]
  },
  {
   "cell_type": "code",
   "execution_count": 6,
   "id": "de2e60e8",
   "metadata": {},
   "outputs": [],
   "source": [
    "(it iv ia)←↑⍣≡¨t v a"
   ]
  },
  {
   "cell_type": "code",
   "execution_count": 7,
   "id": "1b775ae5",
   "metadata": {},
   "outputs": [
    {
     "data": {
      "text/html": [
       "<pre class=\"language-APL\">┌────┬─────┬────────┐\n",
       "│10 6│10 22│10 1 2 6│\n",
       "└────┴─────┴────────┘\n",
       "</pre>"
      ]
     },
     "execution_count": 7,
     "metadata": {},
     "output_type": "execute_result"
    }
   ],
   "source": [
    "⍴¨it iv ia"
   ]
  },
  {
   "cell_type": "markdown",
   "id": "98384285",
   "metadata": {},
   "source": [
    "Character matrices for tags and values is not too bad (unless the length of values is very uneven), but the 4D array for attributes is likely to have a lot of empty data."
   ]
  },
  {
   "cell_type": "markdown",
   "id": "a2ea0f24",
   "metadata": {},
   "source": [
    "Another thing is to maintain a lengths list for values. Tags and attributes have no leading or trailing blanks."
   ]
  },
  {
   "cell_type": "code",
   "execution_count": 8,
   "id": "b667fce5",
   "metadata": {},
   "outputs": [],
   "source": [
    "lv←≢¨v"
   ]
  },
  {
   "cell_type": "code",
   "execution_count": 9,
   "id": "84fe6a9c",
   "metadata": {},
   "outputs": [
    {
     "data": {
      "text/html": [
       "<pre class=\"language-APL\">0 5 0 22 9 0 0 17 4 11\n",
       "</pre>"
      ]
     },
     "execution_count": 9,
     "metadata": {},
     "output_type": "execute_result"
    }
   ],
   "source": [
    "lv"
   ]
  }
 ],
 "metadata": {
  "kernelspec": {
   "display_name": "Dyalog APL",
   "language": "apl",
   "name": "dyalog-kernel"
  },
  "language_info": {
   "file_extension": ".apl",
   "mimetype": "text/apl",
   "name": "APL"
  }
 },
 "nbformat": 4,
 "nbformat_minor": 5
}
