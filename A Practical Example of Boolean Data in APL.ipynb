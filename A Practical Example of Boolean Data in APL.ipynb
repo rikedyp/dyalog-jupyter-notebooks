{
 "cells": [
  {
   "cell_type": "markdown",
   "id": "14458b9d",
   "metadata": {},
   "source": [
    "# Data-driven logic with Boolean data in Dyalog APL\n",
    "Here are some basic Boolean array techniques followed by two practical examples of their use."
   ]
  },
  {
   "cell_type": "markdown",
   "id": "6719754e",
   "metadata": {},
   "source": [
    "APL in general does not have typed data. Boolean data is not different. It is just like any other numeric data. It is just found to be Boolean if the values are only 0 or 1. Boolean data usually comes from comparisons like: "
   ]
  },
  {
   "cell_type": "code",
   "execution_count": 1,
   "id": "c1d0fd6b",
   "metadata": {},
   "outputs": [
    {
     "data": {
      "text/html": [
       "<span style=\"white-space:pre; font-family: monospace\">0 1 0 0 1\n",
       "</span>"
      ]
     },
     "execution_count": 1,
     "metadata": {},
     "output_type": "execute_result"
    }
   ],
   "source": [
    "'abcde'∊'be'"
   ]
  },
  {
   "cell_type": "markdown",
   "id": "8a37a208",
   "metadata": {},
   "source": [
    "or"
   ]
  },
  {
   "cell_type": "code",
   "execution_count": 2,
   "id": "072b912f",
   "metadata": {},
   "outputs": [
    {
     "data": {
      "text/html": [
       "<span style=\"white-space:pre; font-family: monospace\">1 1 0 0 0\n",
       "</span>"
      ]
     },
     "execution_count": 2,
     "metadata": {},
     "output_type": "execute_result"
    }
   ],
   "source": [
    "5>3 4 5 6 7"
   ]
  },
  {
   "cell_type": "markdown",
   "id": "402020d0",
   "metadata": {},
   "source": [
    "It can, of course, be used in Boolean logical operations:"
   ]
  },
  {
   "cell_type": "code",
   "execution_count": 3,
   "id": "4193754f",
   "metadata": {},
   "outputs": [
    {
     "data": {
      "text/html": [
       "<span style=\"white-space:pre; font-family: monospace\">1 0 0\n",
       "</span>"
      ]
     },
     "execution_count": 3,
     "metadata": {},
     "output_type": "execute_result"
    }
   ],
   "source": [
    "1 0 1 ∧ 1 1 0   ⍝ Logical AND"
   ]
  },
  {
   "cell_type": "code",
   "execution_count": 4,
   "id": "98ad9450",
   "metadata": {},
   "outputs": [
    {
     "data": {
      "text/html": [
       "<span style=\"white-space:pre; font-family: monospace\">1 1 1\n",
       "</span>"
      ]
     },
     "execution_count": 4,
     "metadata": {},
     "output_type": "execute_result"
    }
   ],
   "source": [
    "1 0 1 ∨ 1 1 0   ⍝ Logical OR"
   ]
  },
  {
   "cell_type": "markdown",
   "id": "eb1d9607",
   "metadata": {},
   "source": [
    "But then it is also useful for counting occurances of a true statement:"
   ]
  },
  {
   "cell_type": "code",
   "execution_count": 5,
   "id": "c6f690e6",
   "metadata": {},
   "outputs": [
    {
     "data": {
      "text/html": [
       "<span style=\"white-space:pre; font-family: monospace\">7\n",
       "</span>"
      ]
     },
     "execution_count": 5,
     "metadata": {},
     "output_type": "execute_result"
    }
   ],
   "source": [
    "+⌿'happy array programming'∊'apl'   ⍝ How many occurances of a, p or l?"
   ]
  },
  {
   "cell_type": "markdown",
   "id": "ad0840be",
   "metadata": {},
   "source": [
    "or selecting pieces of an array corrensponding to the 1s:"
   ]
  },
  {
   "cell_type": "code",
   "execution_count": 6,
   "id": "ed4fa9e8",
   "metadata": {},
   "outputs": [
    {
     "data": {
      "text/html": [
       "<span style=\"white-space:pre; font-family: monospace\">0 0 1 1 0 0 1 0 1\n",
       "A B C D E F G H I\n",
       "</span>"
      ]
     },
     "execution_count": 6,
     "metadata": {},
     "output_type": "execute_result"
    }
   ],
   "source": [
    "bool ← 0 0 1 1 0 0 1 0 1\n",
    "↑bool'ABCDEFGHI'"
   ]
  },
  {
   "cell_type": "code",
   "execution_count": 7,
   "id": "be044468",
   "metadata": {},
   "outputs": [
    {
     "data": {
      "text/html": [
       "<span style=\"white-space:pre; font-family: monospace\">CDGI\n",
       "</span>"
      ]
     },
     "execution_count": 7,
     "metadata": {},
     "output_type": "execute_result"
    }
   ],
   "source": [
    "bool⌿'ABCDEFGHI'   ⍝ Select letters corresponding to 1s in bool"
   ]
  },
  {
   "cell_type": "markdown",
   "id": "a17dc7a2",
   "metadata": {},
   "source": [
    "For a 2-dimensional array, or **matrix**, a Boolean vector (list) can be used to select **rows** of the matrix:"
   ]
  },
  {
   "cell_type": "code",
   "execution_count": 8,
   "id": "2c1109d7",
   "metadata": {},
   "outputs": [
    {
     "data": {
      "text/html": [
       "<span style=\"white-space:pre; font-family: monospace\">Adam  \n",
       "Bertil\n",
       "Cesar \n",
       "David \n",
       "Erik  \n",
       "Filip \n",
       "Gustav\n",
       "Helge \n",
       "Ivar  \n",
       "</span>"
      ]
     },
     "execution_count": 8,
     "metadata": {},
     "output_type": "execute_result"
    }
   ],
   "source": [
    "⎕ ← names ← 9 6⍴'Adam  BertilCesar David Erik  Filip GustavHelge Ivar  '"
   ]
  },
  {
   "cell_type": "code",
   "execution_count": 9,
   "id": "f00ce1bd",
   "metadata": {},
   "outputs": [
    {
     "data": {
      "text/html": [
       "<span style=\"white-space:pre; font-family: monospace\">Cesar \n",
       "David \n",
       "Gustav\n",
       "Ivar  \n",
       "</span>"
      ]
     },
     "execution_count": 9,
     "metadata": {},
     "output_type": "execute_result"
    }
   ],
   "source": [
    "bool⌿names"
   ]
  },
  {
   "cell_type": "markdown",
   "id": "868119d3",
   "metadata": {},
   "source": [
    "Indices, or locations of `1`s in the vector can be easily found:"
   ]
  },
  {
   "cell_type": "code",
   "execution_count": 10,
   "id": "14d1d78c",
   "metadata": {},
   "outputs": [
    {
     "data": {
      "text/html": [
       "<span style=\"white-space:pre; font-family: monospace\">3 4 7 9\n",
       "</span>"
      ]
     },
     "execution_count": 10,
     "metadata": {},
     "output_type": "execute_result"
    }
   ],
   "source": [
    "bool⌿⍳≢bool"
   ]
  },
  {
   "cell_type": "markdown",
   "id": "0c9f151e",
   "metadata": {},
   "source": [
    "This pattern is so common that it is the monadic form of *iota-underbar*, called **where**:"
   ]
  },
  {
   "cell_type": "code",
   "execution_count": 11,
   "id": "c9931f2f",
   "metadata": {},
   "outputs": [
    {
     "data": {
      "text/html": [
       "<span style=\"white-space:pre; font-family: monospace\">3 4 7 9\n",
       "</span>"
      ]
     },
     "execution_count": 11,
     "metadata": {},
     "output_type": "execute_result"
    }
   ],
   "source": [
    "⍸bool"
   ]
  },
  {
   "cell_type": "markdown",
   "id": "b29ede91",
   "metadata": {},
   "source": [
    "Now, before we take this a bit further, a quick note on implementation.\n",
    "\n",
    "Booleans in Dyalog APL are implemented as 8 bits per byte. As explained in Marshall Lochbaum's 2017 talk on [Moving Bits Faster in Dyalog 16.0](https://dyalog.tv/Dyalog17/?v=2KnrDmZov4U), bit-Booleans only really benefit arrays and are difficult to implement, so most languages use a whole byte for their Boolean data type. However, Dyalog gets a huge performance boost for certain operations - especially on modern hardware where memory bandwidth (the time taken to move data around) is the main limiting factor."
   ]
  },
  {
   "cell_type": "markdown",
   "id": "2340a917",
   "metadata": {},
   "source": [
    "## Production capacity per product per week"
   ]
  },
  {
   "cell_type": "markdown",
   "id": "6d576ac4",
   "metadata": {},
   "source": [
    "For this task, we want to estimate the number of products our organisation produces. We produce 7 types of products, labelled A, B, C, D, E, F and G."
   ]
  },
  {
   "cell_type": "markdown",
   "id": "5a03d6f1",
   "metadata": {},
   "source": [
    "But we have capacity constraints - we cannot produce however many products we need whenever we need them.\n",
    "\n",
    "A capacity may be a production capacity, a logistic capacity or a market capacity.\n",
    "\n",
    "- Production capacity is estimated from things like how quickly a machine can produce something, or how many hours somebody can work in a day.\n",
    "- Logistic capacity might be how often and how much is the supply of parts.\n",
    "- A market capacity is some kind of restriction on delivery of products - a market quota or transportation capacity."
   ]
  },
  {
   "cell_type": "markdown",
   "id": "893d5827",
   "metadata": {},
   "source": [
    "Capacities are expressed as *remaining capacity per week*. In our organisation we have capacities labelled 1 to 5.\n",
    "\n",
    "|Capacity\\Week|2021w46|2021w47|2021w48|2021w49|2021w50|2021w51|2021w52|\n",
    "|---|---|---|---|---|---|---|---|\n",
    "| **1**  | 0  | 100  | 150  | 150  | 150  | 150  | 150 |\n",
    "| **2**  | 0  | 150  | 200  | 200  | 300  | 300  | 300 |\n",
    "| **3**  | 5  | 0    | 30   | 40   | 90   | 90   | 90  |\n",
    "| **4**  | 0  | 50   | 0    | 60   | 30   | 0    | 45  |\n",
    "| **5**  | 0  | 30   | 40   | 30   | 0    | 101  | 99  |"
   ]
  },
  {
   "cell_type": "markdown",
   "id": "e4a9808a",
   "metadata": {},
   "source": [
    "Let us define these availabile capacities as a numeric matrix called `avail`.\n",
    "\n",
    "Although here we use a long APL expression to define `avail`, in practise this kind of data might be imported from somewhere like a spreadsheet application such as Microsoft Excel. "
   ]
  },
  {
   "cell_type": "code",
   "execution_count": 12,
   "id": "aceb3beb",
   "metadata": {},
   "outputs": [
    {
     "data": {
      "text/html": [
       "<span style=\"white-space:pre; font-family: monospace\">0 100 150 150 150 150 150\n",
       "0 150 200 200 300 300 300\n",
       "5   0  30  40  90  90  90\n",
       "0  50   0  60  30   0  45\n",
       "0  30  40  30   0 101  99\n",
       "</span>"
      ]
     },
     "execution_count": 12,
     "metadata": {},
     "output_type": "execute_result"
    }
   ],
   "source": [
    "⎕ ← avail ← 5 7⍴0 100,(5/150),0 150 200 200,(3/300),5 0 30 40,(3/90),0 50 0 60 30 0 45 0 30 40 30 0 101 99"
   ]
  },
  {
   "cell_type": "markdown",
   "id": "69173df5",
   "metadata": {},
   "source": [
    "We also know which capacities are utilised for supplying, manufacturing and delivering each product.\n",
    "\n",
    "Product A uses capacities 1 and 2.  \n",
    "Product B uses capacities 2 and 4.  \n",
    "Product C uses capacity 1.  \n",
    "etc.\n",
    "\n",
    "These relationships can be mapped out in a table:\n",
    "\n",
    "|| 1  | 2  | 3  | 4  | 5 |\n",
    "|---|---|---|---|---|---|\n",
    "| A  |  1  |  1  |  0  |  0  |  0 |\n",
    "| B  |  0  |  1  |  0  |  1  |  0 |\n",
    "| C  |  1  |  0  |  0  |  0  |  0 |\n",
    "| D  |  0  |  0  |  1  |  0  |  1 |\n",
    "| E  |  0  |  1  |  0  |  0  |  1 |\n",
    "| F  |  0  |  0  |  1  |  1  |  0 |\n",
    "| G  |  0  |  1  |  1  |  1  |  0 |"
   ]
  },
  {
   "cell_type": "markdown",
   "id": "1315112f",
   "metadata": {},
   "source": [
    "Let's call this the product-capacity cross matrix:"
   ]
  },
  {
   "cell_type": "code",
   "execution_count": 13,
   "id": "5d524adb",
   "metadata": {},
   "outputs": [
    {
     "data": {
      "text/html": [
       "<span style=\"white-space:pre; font-family: monospace\">1 1 0 0 0\n",
       "0 1 0 1 0\n",
       "1 0 0 0 0\n",
       "0 0 1 0 1\n",
       "0 1 0 0 1\n",
       "0 0 1 1 0\n",
       "0 1 1 1 0\n",
       "</span>"
      ]
     },
     "execution_count": 13,
     "metadata": {},
     "output_type": "execute_result"
    }
   ],
   "source": [
    "⎕ ← cross ← 7 5⍴1 1,(4/0),1 0 1 0 1,(6/0),1 0 1 0 1 0 0 1 0 0 1 1 0 0,(3/1),0"
   ]
  },
  {
   "cell_type": "markdown",
   "id": "306dcf29",
   "metadata": {},
   "source": [
    "We will now investigate two solutions to finding the available production capacities for all five products A-G, across each of our seven weeks.\n",
    "\n",
    "For clarity, here is the expected result:\n",
    "\n",
    "|Product\\Week|2021w46|2021w47|2021w48|2021w49|2021w50|2021w51|2021w52|\n",
    "|---|---|---|---|---|---|---|---|\n",
    "|**A**|0  |100  |150  |150  |150  |150  |150 |\n",
    "|**B**|0  |50   |0    |60   |30   |0    |45  |\n",
    "|**C**|0  |100  |150  |150  |150  |150  |150 |\n",
    "|**D**|0  |0    |30   |30   |0    |90   |90  |\n",
    "|**E**|0  |30   |40   |30   |0    |101  |99  |\n",
    "|**F**|0  |0    |0    |40   |30   |0    |45  |\n",
    "|**G**|0  |0    |0    |40   |30   |0    |45  |\n"
   ]
  },
  {
   "cell_type": "markdown",
   "id": "2b72a993",
   "metadata": {},
   "source": [
    "We can see that, for example, the first available slot to produce **product G** is **2021w49**, and in that week we expect to produce **40 units**.\n",
    "\n",
    "Now, here are the two APL solutions:"
   ]
  },
  {
   "cell_type": "code",
   "execution_count": 14,
   "id": "13ca8266",
   "metadata": {},
   "outputs": [
    {
     "data": {
      "text/html": [
       "<span style=\"white-space:pre; font-family: monospace\">0 100 150 150 150 150 150\n",
       "0  50   0  60  30   0  45\n",
       "0 100 150 150 150 150 150\n",
       "0   0  30  30   0  90  90\n",
       "0  30  40  30   0 101  99\n",
       "0   0   0  40  30   0  45\n",
       "0   0   0  40  30   0  45\n",
       "</span>"
      ]
     },
     "execution_count": 14,
     "metadata": {},
     "output_type": "execute_result"
    }
   ],
   "source": [
    "↑⌊⌿¨(↓cross)⌿¨⊂avail   ⍝ Solution 1"
   ]
  },
  {
   "cell_type": "code",
   "execution_count": 15,
   "id": "1099e8ec",
   "metadata": {},
   "outputs": [
    {
     "data": {
      "text/html": [
       "<span style=\"white-space:pre; font-family: monospace\">0 100 150 150 150 150 150\n",
       "0  50   0  60  30   0  45\n",
       "0 100 150 150 150 150 150\n",
       "0   0  30  30   0  90  90\n",
       "0  30  40  30   0 101  99\n",
       "0   0   0  40  30   0  45\n",
       "0   0   0  40  30   0  45\n",
       "</span>"
      ]
     },
     "execution_count": 15,
     "metadata": {},
     "output_type": "execute_result"
    }
   ],
   "source": [
    "cross(⌊⌿⍤⌿⍤1 2)avail   ⍝ Solution 2"
   ]
  },
  {
   "cell_type": "markdown",
   "id": "995d6a9e",
   "metadata": {},
   "source": [
    "### Solution 1\n",
    "`↑⌊⌿¨(↓cross)⌿¨⊂avail`\n",
    "\n",
    "Both solutions do the same two essential computations:\n",
    "1. Select rows from `avail` corresponding to each product, as provided in `cross`\n",
    "2. Find the lowest availability in each week from those selected"
   ]
  },
  {
   "cell_type": "markdown",
   "id": "9f2ce938",
   "metadata": {},
   "source": [
    "Solution 1 does this as two data transformation steps and uses the [**each**](https://mastering.dyalog.com/Nested-Arrays-Continued.html#each) operator (`F¨`) to apply functions for each product.\n",
    "\n",
    "First, split the `cross` matrix into a [nested vector of Boolean vectors](https://mastering.dyalog.com/Data-and-Variables.html#mixed-and-nested-arrays):"
   ]
  },
  {
   "cell_type": "code",
   "execution_count": 16,
   "id": "0b40ddc5",
   "metadata": {},
   "outputs": [
    {
     "data": {
      "text/html": [
       "<span style=\"white-space:pre; font-family: monospace\">┌─────────┬─────────┬─────────┬─────────┬─────────┬─────────┬─────────┐\n",
       "│1 1 0 0 0│0 1 0 1 0│1 0 0 0 0│0 0 1 0 1│0 1 0 0 1│0 0 1 1 0│0 1 1 1 0│\n",
       "└─────────┴─────────┴─────────┴─────────┴─────────┴─────────┴─────────┘\n",
       "</span>"
      ]
     },
     "execution_count": 16,
     "metadata": {},
     "output_type": "execute_result"
    }
   ],
   "source": [
    "↓cross"
   ]
  },
  {
   "cell_type": "markdown",
   "id": "96e54d9e",
   "metadata": {},
   "source": [
    "In order to compress rows from *the whole of* `avail` using each Boolean vector in `cross`, we must [enclose](https://mastering.dyalog.com/Nested-Arrays-Continued.html?highlight=enclose#enclose-disclose) (`⊂⍵`) it. \n",
    "\n",
    "<details>\n",
    "    <summary>\n",
    "        Why does <code>avail</code> need enclosing? [click for more information]</summary>\n",
    "    </summary>\n",
    "    The Each <code>F¨</code> operator either loops through two arrays of the same shape, applying its operand function <code>F</code> to corresponding elements in each array, or <em>if one of the arrays is a scalar (rank-0 array)</em>, then it loops over the non-scalar array, applying between the scalar argument and each element in the non-scalar argument. \n",
    "    <br><br>\n",
    "In this case, we want to apply the <strong>compress</strong> function <code>⍺⌿⍵</code> between each Boolean vector in <code>cross</code> and the whole table. We use the <strong>enclose</strong> function <code>⊂⍵</code> to wrap the <code>avail</code> matrix as a nested scalar. `⊂avail` (<em>enclose avail</em>) is a nested scalar which contains a numeric matrix.\n",
    "    <br><br>\n",
    "Another example of this same idea is shown in <a target=\"_blank\" rel=\"noopener noreferrer\" href=\"https://mastering.dyalog.com/Nested-Arrays-Continued.html#scalar-dyadic-functions\">section 10.5.1 of Mastering Dyalog APL</a>.\n",
    "</details>"
   ]
  },
  {
   "cell_type": "code",
   "execution_count": 17,
   "id": "c2237861",
   "metadata": {},
   "outputs": [
    {
     "data": {
      "text/html": [
       "<span style=\"white-space:pre; font-family: monospace\">┌─────────────────────────┬─────────────────────────┬─────────────────────────┬────────────────────┬─────────────────────────┬───────────────────┬─────────────────────────┐\n",
       "│0 100 150 150 150 150 150│0 150 200 200 300 300 300│0 100 150 150 150 150 150│5  0 30 40 90  90 90│0 150 200 200 300 300 300│5  0 30 40 90 90 90│0 150 200 200 300 300 300│\n",
       "│0 150 200 200 300 300 300│0  50   0  60  30   0  45│                         │0 30 40 30  0 101 99│0  30  40  30   0 101  99│0 50  0 60 30  0 45│5   0  30  40  90  90  90│\n",
       "│                         │                         │                         │                    │                         │                   │0  50   0  60  30   0  45│\n",
       "└─────────────────────────┴─────────────────────────┴─────────────────────────┴────────────────────┴─────────────────────────┴───────────────────┴─────────────────────────┘\n",
       "</span>"
      ]
     },
     "execution_count": 17,
     "metadata": {},
     "output_type": "execute_result"
    }
   ],
   "source": [
    "(↓cross)⌿¨⊂avail"
   ]
  },
  {
   "cell_type": "markdown",
   "id": "d6e82a8b",
   "metadata": {},
   "source": [
    "So now we have the available capacities required for each product:"
   ]
  },
  {
   "cell_type": "code",
   "execution_count": 18,
   "id": "85f659f0",
   "metadata": {},
   "outputs": [
    {
     "data": {
      "text/html": [
       "<span style=\"white-space:pre; font-family: monospace\">┌─┬─────────────────────────┐\n",
       "│A│0 100 150 150 150 150 150│\n",
       "│ │0 150 200 200 300 300 300│\n",
       "├─┼─────────────────────────┤\n",
       "│B│0 150 200 200 300 300 300│\n",
       "│ │0  50   0  60  30   0  45│\n",
       "├─┼─────────────────────────┤\n",
       "│C│0 100 150 150 150 150 150│\n",
       "├─┼─────────────────────────┤\n",
       "│D│5  0 30 40 90  90 90     │\n",
       "│ │0 30 40 30  0 101 99     │\n",
       "├─┼─────────────────────────┤\n",
       "│E│0 150 200 200 300 300 300│\n",
       "│ │0  30  40  30   0 101  99│\n",
       "├─┼─────────────────────────┤\n",
       "│F│5  0 30 40 90 90 90      │\n",
       "│ │0 50  0 60 30  0 45      │\n",
       "├─┼─────────────────────────┤\n",
       "│G│0 150 200 200 300 300 300│\n",
       "│ │5   0  30  40  90  90  90│\n",
       "│ │0  50   0  60  30   0  45│\n",
       "└─┴─────────────────────────┘\n",
       "</span>"
      ]
     },
     "execution_count": 18,
     "metadata": {},
     "output_type": "execute_result"
    }
   ],
   "source": [
    "prod ← 'ABCDEFG'\n",
    "prod,⍪(↓cross)⌿¨⊂avail"
   ]
  },
  {
   "cell_type": "markdown",
   "id": "98105fe8",
   "metadata": {},
   "source": [
    "We find the least of these for each week (that is, column-wise):"
   ]
  },
  {
   "cell_type": "code",
   "execution_count": 19,
   "id": "479e01e0",
   "metadata": {},
   "outputs": [
    {
     "data": {
      "text/html": [
       "<span style=\"white-space:pre; font-family: monospace\">┌─────────────────────────┬─────────────────┬─────────────────────────┬─────────────────┬───────────────────┬────────────────┬────────────────┐\n",
       "│0 100 150 150 150 150 150│0 50 0 60 30 0 45│0 100 150 150 150 150 150│0 0 30 30 0 90 90│0 30 40 30 0 101 99│0 0 0 40 30 0 45│0 0 0 40 30 0 45│\n",
       "└─────────────────────────┴─────────────────┴─────────────────────────┴─────────────────┴───────────────────┴────────────────┴────────────────┘\n",
       "</span>"
      ]
     },
     "execution_count": 19,
     "metadata": {},
     "output_type": "execute_result"
    }
   ],
   "source": [
    "⌊⌿¨(↓cross)⌿¨⊂avail"
   ]
  },
  {
   "cell_type": "markdown",
   "id": "574ae8a7",
   "metadata": {},
   "source": [
    "And finally [**Mix**](https://mastering.dyalog.com/Nested-Arrays-Continued.html#split-and-mix) this nested vector into a matrix. We prefer a simple matrix over a nested vector because it takes less memory to store and is generally easier to use for further calculations."
   ]
  },
  {
   "cell_type": "markdown",
   "id": "4dfafc75",
   "metadata": {},
   "source": [
    "### Solution 2\n",
    "`cross(⌊⌿⍤⌿⍤1 2)avail`\n",
    "\n",
    "As a reminder, here are the two essential computations:\n",
    "1. Select rows from `avail` corresponding to each product, as provided in `cross`\n",
    "2. Find the lowest availability in each week from those selected"
   ]
  },
  {
   "cell_type": "markdown",
   "id": "cec7b057",
   "metadata": {},
   "source": [
    "Solution 2 uses a function composition operator, called [**atop**]() (`F⍤G`) to package these two steps into a single function. Our combined function applys `⍺⌿⍵` between our two arguments, and `⌊⌿⍵` to the result. For a single row of `cross`, this work as-is."
   ]
  },
  {
   "cell_type": "code",
   "execution_count": 20,
   "id": "c2fac4c2",
   "metadata": {},
   "outputs": [
    {
     "data": {
      "text/html": [
       "<span style=\"white-space:pre; font-family: monospace\">0 50 0 60 30 0 45\n",
       "</span>"
      ]
     },
     "execution_count": 20,
     "metadata": {},
     "output_type": "execute_result"
    }
   ],
   "source": [
    "cross[2;] ⌊⌿⍤⌿ avail   ⍝ Minimum reduction atop compress"
   ]
  },
  {
   "cell_type": "markdown",
   "id": "15782ad5",
   "metadata": {},
   "source": [
    "However, we want to apply this function between each **row** (rank-1 array) of `cross` and the **whole** (rank-2 array) of `avail`. The [**rank operator**](https://xpqz.github.io/learnapl/rank.html) lets us put \"[blinders](https://en.wikipedia.org/wiki/Blinkers_(horse_tack))\" on our function so that it can only see parts of our arrays that we tell it to."
   ]
  },
  {
   "cell_type": "markdown",
   "id": "6a3ba5b5",
   "metadata": {},
   "source": [
    "Let's start with a smaller example. Here `{⍺⍵}` is a function which returns its arguments:"
   ]
  },
  {
   "cell_type": "code",
   "execution_count": 21,
   "id": "ab13520c",
   "metadata": {},
   "outputs": [
    {
     "data": {
      "text/html": [
       "<span style=\"white-space:pre; font-family: monospace\">┌─────┬──┐\n",
       "│1 2 3│AB│\n",
       "│     │CD│\n",
       "│     │AB│\n",
       "└─────┴──┘\n",
       "</span>"
      ]
     },
     "execution_count": 21,
     "metadata": {},
     "output_type": "execute_result"
    }
   ],
   "source": [
    "1 2 3 {⍺⍵} 3 2⍴'ABCD'"
   ]
  },
  {
   "cell_type": "markdown",
   "id": "6282e56a",
   "metadata": {},
   "source": [
    "Let's use this function `{⍺⍵}` to pair up each number (rank 0 scalar) of `⍺` and each row (rank 1 vector) of `⍵`.\n",
    "\n",
    "<details>\n",
    "<summary>Why is <code>({⍺⍵}⍤0 1)</code> parenthesised? [click for more information]</summary>\n",
    "Parentheses are required here to prevent our array right operand <code>0 1</code> from being confused with our right argument <code>3 2⍴⎕A</code>.\n",
    "        \n",
    "<pre><code>\n",
    "      1 2 3 {⍺⍵}⍤0 1 3 2⍴⎕A\n",
    "LENGTH ERROR\n",
    "      1 2 3{⍺ ⍵}⍤0 1 3 2⍴⎕A\n",
    "                ∧\n",
    "</code></pre>\n",
    "    \n",
    "You might also see the right-tack `⊢` used for the same effect:\n",
    "    \n",
    "<pre><code>\n",
    "1 2 3{⍺⍵}⍤0 1⊢3 2⍴⎕A\n",
    "</code></pre>\n",
    "    \n",
    "</details>"
   ]
  },
  {
   "cell_type": "code",
   "execution_count": 22,
   "id": "a176a26b",
   "metadata": {},
   "outputs": [
    {
     "data": {
      "text/html": [
       "<span style=\"white-space:pre; font-family: monospace\">┌─┬──┐\n",
       "│1│AB│\n",
       "├─┼──┤\n",
       "│2│CD│\n",
       "├─┼──┤\n",
       "│3│EF│\n",
       "└─┴──┘\n",
       "</span>"
      ]
     },
     "execution_count": 22,
     "metadata": {},
     "output_type": "execute_result"
    }
   ],
   "source": [
    "1 2 3 ({⍺⍵}⍤0 1) 3 2⍴⎕A "
   ]
  },
  {
   "cell_type": "markdown",
   "id": "9a3c0eb0",
   "metadata": {},
   "source": [
    "Or we can pair each scalar with each matrix (rank 2) of our right argument. Since our right argument *is* a matrix, the entire array is used repeatedly."
   ]
  },
  {
   "cell_type": "code",
   "execution_count": 23,
   "id": "e3eee631",
   "metadata": {},
   "outputs": [
    {
     "data": {
      "text/html": [
       "<span style=\"white-space:pre; font-family: monospace\">┌─┬──┐\n",
       "│1│AB│\n",
       "│ │CD│\n",
       "│ │EF│\n",
       "├─┼──┤\n",
       "│2│AB│\n",
       "│ │CD│\n",
       "│ │EF│\n",
       "├─┼──┤\n",
       "│3│AB│\n",
       "│ │CD│\n",
       "│ │EF│\n",
       "└─┴──┘\n",
       "</span>"
      ]
     },
     "execution_count": 23,
     "metadata": {},
     "output_type": "execute_result"
    }
   ],
   "source": [
    "1 2 3 ({⍺⍵}⍤0 2) 3 2⍴⎕A"
   ]
  },
  {
   "cell_type": "markdown",
   "id": "b6708e84",
   "metadata": {},
   "source": [
    "Now back to our manufacturing problem. We want rows (rank 1) of `cross` used with the whole (rank 2) of `avail`."
   ]
  },
  {
   "cell_type": "code",
   "execution_count": 24,
   "id": "fe289eb0",
   "metadata": {},
   "outputs": [
    {
     "data": {
      "text/html": [
       "<span style=\"white-space:pre; font-family: monospace\">┌─────────┬─────────────────────────┐\n",
       "│1 1 0 0 0│0 100 150 150 150 150 150│\n",
       "│         │0 150 200 200 300 300 300│\n",
       "│         │5   0  30  40  90  90  90│\n",
       "│         │0  50   0  60  30   0  45│\n",
       "│         │0  30  40  30   0 101  99│\n",
       "├─────────┼─────────────────────────┤\n",
       "│0 1 0 1 0│0 100 150 150 150 150 150│\n",
       "│         │0 150 200 200 300 300 300│\n",
       "│         │5   0  30  40  90  90  90│\n",
       "│         │0  50   0  60  30   0  45│\n",
       "│         │0  30  40  30   0 101  99│\n",
       "├─────────┼─────────────────────────┤\n",
       "│1 0 0 0 0│0 100 150 150 150 150 150│\n",
       "│         │0 150 200 200 300 300 300│\n",
       "│         │5   0  30  40  90  90  90│\n",
       "│         │0  50   0  60  30   0  45│\n",
       "│         │0  30  40  30   0 101  99│\n",
       "├─────────┼─────────────────────────┤\n",
       "│0 0 1 0 1│0 100 150 150 150 150 150│\n",
       "│         │0 150 200 200 300 300 300│\n",
       "│         │5   0  30  40  90  90  90│\n",
       "│         │0  50   0  60  30   0  45│\n",
       "│         │0  30  40  30   0 101  99│\n",
       "├─────────┼─────────────────────────┤\n",
       "│0 1 0 0 1│0 100 150 150 150 150 150│\n",
       "│         │0 150 200 200 300 300 300│\n",
       "│         │5   0  30  40  90  90  90│\n",
       "│         │0  50   0  60  30   0  45│\n",
       "│         │0  30  40  30   0 101  99│\n",
       "├─────────┼─────────────────────────┤\n",
       "│0 0 1 1 0│0 100 150 150 150 150 150│\n",
       "│         │0 150 200 200 300 300 300│\n",
       "│         │5   0  30  40  90  90  90│\n",
       "│         │0  50   0  60  30   0  45│\n",
       "│         │0  30  40  30   0 101  99│\n",
       "├─────────┼─────────────────────────┤\n",
       "│0 1 1 1 0│0 100 150 150 150 150 150│\n",
       "│         │0 150 200 200 300 300 300│\n",
       "│         │5   0  30  40  90  90  90│\n",
       "│         │0  50   0  60  30   0  45│\n",
       "│         │0  30  40  30   0 101  99│\n",
       "└─────────┴─────────────────────────┘\n",
       "</span>"
      ]
     },
     "execution_count": 24,
     "metadata": {},
     "output_type": "execute_result"
    }
   ],
   "source": [
    "cross ({⍺⍵}⍤1 2) avail"
   ]
  },
  {
   "cell_type": "markdown",
   "id": "b0fbb4a1",
   "metadata": {},
   "source": [
    "Essentially, the rank operator controls what its operand function \"sees\" as its arguments. Conceptually we are looping over our arguments, although the implementation of some functions applied with rank could be parallel instead."
   ]
  },
  {
   "cell_type": "markdown",
   "id": "48654ad5",
   "metadata": {},
   "source": [
    "Now that our arguments are correctly paired up, we simply put our function `⌊⌿⍤⌿` in place of `{⍺⍵}` and we are done:"
   ]
  },
  {
   "cell_type": "code",
   "execution_count": 25,
   "id": "9663205f",
   "metadata": {},
   "outputs": [
    {
     "data": {
      "text/html": [
       "<span style=\"white-space:pre; font-family: monospace\">0 100 150 150 150 150 150\n",
       "0  50   0  60  30   0  45\n",
       "0 100 150 150 150 150 150\n",
       "0   0  30  30   0  90  90\n",
       "0  30  40  30   0 101  99\n",
       "0   0   0  40  30   0  45\n",
       "0   0   0  40  30   0  45\n",
       "</span>"
      ]
     },
     "execution_count": 25,
     "metadata": {},
     "output_type": "execute_result"
    }
   ],
   "source": [
    "cross (⌊⌿⍤⌿⍤1 2) avail"
   ]
  },
  {
   "cell_type": "markdown",
   "id": "4d438206",
   "metadata": {},
   "source": [
    "## Useful array representations\n",
    "Getting other interesting information from this data is also easy:"
   ]
  },
  {
   "cell_type": "markdown",
   "id": "709dfe4e",
   "metadata": {},
   "source": [
    "The number of capacities used per product:"
   ]
  },
  {
   "cell_type": "code",
   "execution_count": 26,
   "id": "776b1acf",
   "metadata": {},
   "outputs": [
    {
     "data": {
      "text/html": [
       "<span style=\"white-space:pre; font-family: monospace\">2 2 1 2 2 2 3\n",
       "</span>"
      ]
     },
     "execution_count": 26,
     "metadata": {},
     "output_type": "execute_result"
    }
   ],
   "source": [
    "+/cross   ⍝ This is a row-wise sum"
   ]
  },
  {
   "cell_type": "markdown",
   "id": "9f02399a",
   "metadata": {},
   "source": [
    "The number of products which use each capacity:"
   ]
  },
  {
   "cell_type": "code",
   "execution_count": 27,
   "id": "24087045",
   "metadata": {},
   "outputs": [
    {
     "data": {
      "text/html": [
       "<span style=\"white-space:pre; font-family: monospace\">2 4 3 3 2\n",
       "</span>"
      ]
     },
     "execution_count": 27,
     "metadata": {},
     "output_type": "execute_result"
    }
   ],
   "source": [
    "+⌿cross"
   ]
  },
  {
   "cell_type": "markdown",
   "id": "2f2f73ea",
   "metadata": {},
   "source": [
    "The list of products which use capacity 2:"
   ]
  },
  {
   "cell_type": "code",
   "execution_count": 28,
   "id": "abc954f8",
   "metadata": {},
   "outputs": [
    {
     "data": {
      "text/html": [
       "<span style=\"white-space:pre; font-family: monospace\">ABEG\n",
       "</span>"
      ]
     },
     "execution_count": 28,
     "metadata": {},
     "output_type": "execute_result"
    }
   ],
   "source": [
    "cross[;2]⌿prod"
   ]
  },
  {
   "cell_type": "markdown",
   "id": "c746970d",
   "metadata": {},
   "source": [
    "The use of Boolean values to select from arrays, as shown here, is one of the most common patterns in APL. Boolean representations are very space efficient, and APL implementations are usually optimised for operations on Boolean arrays."
   ]
  }
 ],
 "metadata": {
  "kernelspec": {
   "display_name": "Dyalog APL",
   "language": "apl",
   "name": "dyalog-kernel"
  },
  "language_info": {
   "file_extension": ".apl",
   "mimetype": "text/apl",
   "name": "APL"
  }
 },
 "nbformat": 4,
 "nbformat_minor": 5
}
