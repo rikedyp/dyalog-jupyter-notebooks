{
 "cells": [
  {
   "cell_type": "markdown",
   "id": "ae432e8d",
   "metadata": {},
   "source": [
    "# Data-driven logic with Boolean data in Dyalog APL\n",
    "Here are some basic Boolean array techniques followed by two practical examples of their use."
   ]
  },
  {
   "cell_type": "markdown",
   "id": "793648a8",
   "metadata": {},
   "source": [
    "APL in general does not have typed data. Boolean data is not different. It is just like any other numeric data. It is just found to be Boolean if the values are only 0 or 1. Boolean data usually comes from comparisons like: "
   ]
  },
  {
   "cell_type": "code",
   "execution_count": 1,
   "id": "17aff898",
   "metadata": {},
   "outputs": [
    {
     "data": {
      "text/html": [
       "<span style=\"white-space:pre; font-family: monospace\">0 1 0 0 1\n",
       "</span>"
      ]
     },
     "execution_count": 1,
     "metadata": {},
     "output_type": "execute_result"
    }
   ],
   "source": [
    "'abcde'∊'be'"
   ]
  },
  {
   "cell_type": "markdown",
   "id": "2a4022ac",
   "metadata": {},
   "source": [
    "or"
   ]
  },
  {
   "cell_type": "code",
   "execution_count": 2,
   "id": "af152868",
   "metadata": {},
   "outputs": [
    {
     "data": {
      "text/html": [
       "<span style=\"white-space:pre; font-family: monospace\">1 1 0 0 0\n",
       "</span>"
      ]
     },
     "execution_count": 2,
     "metadata": {},
     "output_type": "execute_result"
    }
   ],
   "source": [
    "5>3 4 5 6 7"
   ]
  },
  {
   "cell_type": "markdown",
   "id": "5866329f",
   "metadata": {},
   "source": [
    "It can, of course, be used in Boolean logical operations:"
   ]
  },
  {
   "cell_type": "code",
   "execution_count": 3,
   "id": "87d8072c",
   "metadata": {},
   "outputs": [
    {
     "data": {
      "text/html": [
       "<span style=\"white-space:pre; font-family: monospace\">1 0 0\n",
       "</span>"
      ]
     },
     "execution_count": 3,
     "metadata": {},
     "output_type": "execute_result"
    }
   ],
   "source": [
    "1 0 1 ∧ 1 1 0   ⍝ Logical AND"
   ]
  },
  {
   "cell_type": "code",
   "execution_count": 4,
   "id": "64fec0bd",
   "metadata": {},
   "outputs": [
    {
     "data": {
      "text/html": [
       "<span style=\"white-space:pre; font-family: monospace\">1 1 1\n",
       "</span>"
      ]
     },
     "execution_count": 4,
     "metadata": {},
     "output_type": "execute_result"
    }
   ],
   "source": [
    "1 0 1 ∨ 1 1 0   ⍝ Logical OR"
   ]
  },
  {
   "cell_type": "markdown",
   "id": "03538c00",
   "metadata": {},
   "source": [
    "But then it is also useful for counting occurances of a true statement:"
   ]
  },
  {
   "cell_type": "code",
   "execution_count": 5,
   "id": "9303d764",
   "metadata": {},
   "outputs": [
    {
     "data": {
      "text/html": [
       "<span style=\"white-space:pre; font-family: monospace\">7\n",
       "</span>"
      ]
     },
     "execution_count": 5,
     "metadata": {},
     "output_type": "execute_result"
    }
   ],
   "source": [
    "+⌿'happy array programming'∊'apl'   ⍝ How many occurances of a, p or l?"
   ]
  },
  {
   "cell_type": "markdown",
   "id": "8d2a7bc8",
   "metadata": {},
   "source": [
    "or selecting pieces of an array corrensponding to the 1s:"
   ]
  },
  {
   "cell_type": "code",
   "execution_count": 6,
   "id": "2a011a5c",
   "metadata": {},
   "outputs": [
    {
     "data": {
      "text/html": [
       "<span style=\"white-space:pre; font-family: monospace\">0 0 1 1 0 0 1 0 1\n",
       "A B C D E F G H I\n",
       "</span>"
      ]
     },
     "execution_count": 6,
     "metadata": {},
     "output_type": "execute_result"
    }
   ],
   "source": [
    "bool ← 0 0 1 1 0 0 1 0 1\n",
    "↑bool'ABCDEFGHI'"
   ]
  },
  {
   "cell_type": "code",
   "execution_count": 7,
   "id": "6f9d3273",
   "metadata": {},
   "outputs": [
    {
     "data": {
      "text/html": [
       "<span style=\"white-space:pre; font-family: monospace\">CDGI\n",
       "</span>"
      ]
     },
     "execution_count": 7,
     "metadata": {},
     "output_type": "execute_result"
    }
   ],
   "source": [
    "bool⌿'ABCDEFGHI'   ⍝ Select letters corresponding to 1s in bool"
   ]
  },
  {
   "cell_type": "markdown",
   "id": "121a3306",
   "metadata": {},
   "source": [
    "For a 2-dimensional array, or **matrix**, a Boolean vector (list) can be used to select **rows** of the matrix:"
   ]
  },
  {
   "cell_type": "code",
   "execution_count": 8,
   "id": "747ef1a1",
   "metadata": {},
   "outputs": [
    {
     "data": {
      "text/html": [
       "<span style=\"white-space:pre; font-family: monospace\">Adam  \n",
       "Bertil\n",
       "Cesar \n",
       "David \n",
       "Erik  \n",
       "Filip \n",
       "Gustav\n",
       "Helge \n",
       "Ivar  \n",
       "</span>"
      ]
     },
     "execution_count": 8,
     "metadata": {},
     "output_type": "execute_result"
    }
   ],
   "source": [
    "⎕ ← names ← 9 6⍴'Adam  BertilCesar David Erik  Filip GustavHelge Ivar  '"
   ]
  },
  {
   "cell_type": "code",
   "execution_count": 9,
   "id": "adbac841",
   "metadata": {},
   "outputs": [
    {
     "data": {
      "text/html": [
       "<span style=\"white-space:pre; font-family: monospace\">Cesar \n",
       "David \n",
       "Gustav\n",
       "Ivar  \n",
       "</span>"
      ]
     },
     "execution_count": 9,
     "metadata": {},
     "output_type": "execute_result"
    }
   ],
   "source": [
    "bool⌿names"
   ]
  },
  {
   "cell_type": "markdown",
   "id": "2dca04ef",
   "metadata": {},
   "source": [
    "Indices, or locations of `1`s in the vector can be easily found:"
   ]
  },
  {
   "cell_type": "code",
   "execution_count": 10,
   "id": "5139dc9f",
   "metadata": {},
   "outputs": [
    {
     "data": {
      "text/html": [
       "<span style=\"white-space:pre; font-family: monospace\">3 4 7 9\n",
       "</span>"
      ]
     },
     "execution_count": 10,
     "metadata": {},
     "output_type": "execute_result"
    }
   ],
   "source": [
    "bool⌿⍳≢bool"
   ]
  },
  {
   "cell_type": "markdown",
   "id": "a210b5ce",
   "metadata": {},
   "source": [
    "This pattern is so common that it is the monadic form of *iota-underbar*, called **where**:"
   ]
  },
  {
   "cell_type": "code",
   "execution_count": 11,
   "id": "4a710aa0",
   "metadata": {},
   "outputs": [
    {
     "data": {
      "text/html": [
       "<span style=\"white-space:pre; font-family: monospace\">3 4 7 9\n",
       "</span>"
      ]
     },
     "execution_count": 11,
     "metadata": {},
     "output_type": "execute_result"
    }
   ],
   "source": [
    "⍸bool"
   ]
  },
  {
   "cell_type": "markdown",
   "id": "76691568",
   "metadata": {},
   "source": [
    "Now, before we take this a bit further, a quick note on implementation.\n",
    "\n",
    "Booleans in Dyalog APL are implemented as 8 bits per byte. As explained in Marshall Lochbaum's 2017 talk on [Moving Bits Faster in Dyalog 16.0](https://dyalog.tv/Dyalog17/?v=2KnrDmZov4U), bit-Booleans only really benefit arrays and are difficult to implement, so most languages use a whole byte for their Boolean data type. However, Dyalog gets a huge performance boost for certain operations - especially on modern hardware where memory bandwidth (the time taken to move data around) is the main limiting factor."
   ]
  },
  {
   "cell_type": "markdown",
   "id": "391e7f92",
   "metadata": {},
   "source": [
    "## Production capacity per product per week"
   ]
  },
  {
   "cell_type": "markdown",
   "id": "f729edd7",
   "metadata": {},
   "source": [
    "For this task, we want to estimate the number of products our organisation produces. We produce 7 types of products, labelled A, B, C, D, E, F and G."
   ]
  },
  {
   "cell_type": "markdown",
   "id": "6a90e676",
   "metadata": {},
   "source": [
    "But we have capacity constraints - we cannot produce however many products we need whenever we need them.\n",
    "\n",
    "A capacity may be a production capacity, a logistic capacity or a market capacity.\n",
    "\n",
    "- Production capacity is estimated from things like how quickly a machine can produce something, or how many hours somebody can work in a day.\n",
    "- Logistic capacity might be how often and how much is the supply of parts.\n",
    "- A market capacity is some kind of restriction on delivery of products - a market quota or transportation capacity."
   ]
  },
  {
   "cell_type": "markdown",
   "id": "cdb05947",
   "metadata": {},
   "source": [
    "Capacities are expressed as *remaining capacity per week*. In our organisation we have capacities labelled 1 to 5.\n",
    "\n",
    "|Capacity\\Week|2021w46|2021w47|2021w48|2021w49|2021w50|2021w51|2021w52|\n",
    "|---|---|---|---|---|---|---|---|\n",
    "| **1**  | 0  | 100  | 150  | 150  | 150  | 150  | 150 |\n",
    "| **2**  | 0  | 150  | 200  | 200  | 300  | 300  | 300 |\n",
    "| **3**  | 5  | 0    | 30   | 40   | 90   | 90   | 90  |\n",
    "| **4**  | 0  | 50   | 0    | 60   | 30   | 0    | 45  |\n",
    "| **5**  | 0  | 30   | 40   | 30   | 0    | 101  | 99  |"
   ]
  },
  {
   "cell_type": "markdown",
   "id": "e519367f",
   "metadata": {},
   "source": [
    "Let us define these availabile capacities as a numeric matrix called `avail`.\n",
    "\n",
    "Although here we use a long APL expression to define `avail`, in practise this kind of data might be imported from somewhere like a spreadsheet application such as Microsoft Excel. "
   ]
  },
  {
   "cell_type": "code",
   "execution_count": 12,
   "id": "3e464cf3",
   "metadata": {},
   "outputs": [
    {
     "data": {
      "text/html": [
       "<span style=\"white-space:pre; font-family: monospace\">0 100 150 150 150 150 150\n",
       "0 150 200 200 300 300 300\n",
       "5   0  30  40  90  90  90\n",
       "0  50   0  60  30   0  45\n",
       "0  30  40  30   0 101  99\n",
       "</span>"
      ]
     },
     "execution_count": 12,
     "metadata": {},
     "output_type": "execute_result"
    }
   ],
   "source": [
    "⎕ ← avail ← 5 7⍴0 100,(5/150),0 150 200 200,(3/300),5 0 30 40,(3/90),0 50 0 60 30 0 45 0 30 40 30 0 101 99"
   ]
  },
  {
   "cell_type": "markdown",
   "id": "58982d18",
   "metadata": {},
   "source": [
    "We also know which capacities are utilised for supplying, manufacturing and delivering each product.\n",
    "\n",
    "Product A uses capacities 1 and 2.  \n",
    "Product B uses capacities 2 and 4.  \n",
    "Product C uses capacity 1.  \n",
    "etc.\n",
    "\n",
    "These relationships can be mapped out in a table:\n",
    "\n",
    "|| 1  | 2  | 3  | 4  | 5 |\n",
    "|---|---|---|---|---|---|\n",
    "| A  |  1  |  1  |  0  |  0  |  0 |\n",
    "| B  |  0  |  1  |  0  |  1  |  0 |\n",
    "| C  |  1  |  0  |  0  |  0  |  0 |\n",
    "| D  |  0  |  0  |  1  |  0  |  1 |\n",
    "| E  |  0  |  1  |  0  |  0  |  1 |\n",
    "| F  |  0  |  0  |  1  |  1  |  0 |\n",
    "| G  |  0  |  1  |  1  |  1  |  0 |"
   ]
  },
  {
   "cell_type": "markdown",
   "id": "1643fda2",
   "metadata": {},
   "source": [
    "Let's call this the product-capacity cross matrix:"
   ]
  },
  {
   "cell_type": "code",
   "execution_count": 13,
   "id": "739aada8",
   "metadata": {},
   "outputs": [
    {
     "data": {
      "text/html": [
       "<span style=\"white-space:pre; font-family: monospace\">1 1 0 0 0\n",
       "0 1 0 1 0\n",
       "1 0 0 0 0\n",
       "0 0 1 0 1\n",
       "0 1 0 0 1\n",
       "0 0 1 1 0\n",
       "0 1 1 1 0\n",
       "</span>"
      ]
     },
     "execution_count": 13,
     "metadata": {},
     "output_type": "execute_result"
    }
   ],
   "source": [
    "⎕ ← cross ← 7 5⍴1 1,(4/0),1 0 1 0 1,(6/0),1 0 1 0 1 0 0 1 0 0 1 1 0 0,(3/1),0"
   ]
  },
  {
   "cell_type": "markdown",
   "id": "f1c8e943",
   "metadata": {},
   "source": [
    "We will now investigate two solutions to finding the available production capacities for all five products A-G, across each of our seven weeks.\n",
    "\n",
    "For clarity, here is the expected result:\n",
    "\n",
    "|Product\\Week|2021w46|2021w47|2021w48|2021w49|2021w50|2021w51|2021w52|\n",
    "|---|---|---|---|---|---|---|---|\n",
    "|**A**|0  |100  |150  |150  |150  |150  |150 |\n",
    "|**B**|0  |50   |0    |60   |30   |0    |45  |\n",
    "|**C**|0  |100  |150  |150  |150  |150  |150 |\n",
    "|**D**|0  |0    |30   |30   |0    |90   |90  |\n",
    "|**E**|0  |30   |40   |30   |0    |101  |99  |\n",
    "|**F**|0  |0    |0    |40   |30   |0    |45  |\n",
    "|**G**|0  |0    |0    |40   |30   |0    |45  |\n"
   ]
  },
  {
   "cell_type": "markdown",
   "id": "0cdee5e4",
   "metadata": {},
   "source": [
    "We can see that, for example, the first available slot to produce **product G** is **2021w49**, and in that week we expect to produce **40 units**.\n",
    "\n",
    "Now, here are the two APL solutions:"
   ]
  },
  {
   "cell_type": "code",
   "execution_count": 14,
   "id": "389f56e5",
   "metadata": {},
   "outputs": [
    {
     "data": {
      "text/html": [
       "<span style=\"white-space:pre; font-family: monospace\">0 100 150 150 150 150 150\n",
       "0  50   0  60  30   0  45\n",
       "0 100 150 150 150 150 150\n",
       "0   0  30  30   0  90  90\n",
       "0  30  40  30   0 101  99\n",
       "0   0   0  40  30   0  45\n",
       "0   0   0  40  30   0  45\n",
       "</span>"
      ]
     },
     "execution_count": 14,
     "metadata": {},
     "output_type": "execute_result"
    }
   ],
   "source": [
    "↑⌊⌿¨(↓cross)⌿¨⊂avail   ⍝ Solution 1"
   ]
  },
  {
   "cell_type": "code",
   "execution_count": 15,
   "id": "6f999d40",
   "metadata": {},
   "outputs": [
    {
     "data": {
      "text/html": [
       "<span style=\"white-space:pre; font-family: monospace\">0 100 150 150 150 150 150\n",
       "0  50   0  60  30   0  45\n",
       "0 100 150 150 150 150 150\n",
       "0   0  30  30   0  90  90\n",
       "0  30  40  30   0 101  99\n",
       "0   0   0  40  30   0  45\n",
       "0   0   0  40  30   0  45\n",
       "</span>"
      ]
     },
     "execution_count": 15,
     "metadata": {},
     "output_type": "execute_result"
    }
   ],
   "source": [
    "cross(⌊⌿⍤⌿⍤1 2)avail   ⍝ Solution 2"
   ]
  },
  {
   "cell_type": "markdown",
   "id": "d0d7245b",
   "metadata": {},
   "source": [
    "### Solution 1\n",
    "`↑⌊⌿¨(↓cross)⌿¨⊂avail`\n",
    "\n",
    "Both solutions do the same two essential computations:\n",
    "1. Select rows from `avail` corresponding to each product, as provided in `cross`\n",
    "2. Find the lowest availability in each week from those selected"
   ]
  },
  {
   "cell_type": "markdown",
   "id": "bd64e2ce",
   "metadata": {},
   "source": [
    "Solution 1 does this as two data transformation steps and uses the [**each**](https://mastering.dyalog.com/Nested-Arrays-Continued.html#each) operator (`F¨`) to apply functions for each product.\n",
    "\n",
    "First, split the `cross` matrix into a [nested vector of Boolean vectors](https://mastering.dyalog.com/Data-and-Variables.html#mixed-and-nested-arrays):"
   ]
  },
  {
   "cell_type": "code",
   "execution_count": 16,
   "id": "f94e0f0f",
   "metadata": {},
   "outputs": [
    {
     "data": {
      "text/html": [
       "<span style=\"white-space:pre; font-family: monospace\">┌─────────┬─────────┬─────────┬─────────┬─────────┬─────────┬─────────┐\n",
       "│1 1 0 0 0│0 1 0 1 0│1 0 0 0 0│0 0 1 0 1│0 1 0 0 1│0 0 1 1 0│0 1 1 1 0│\n",
       "└─────────┴─────────┴─────────┴─────────┴─────────┴─────────┴─────────┘\n",
       "</span>"
      ]
     },
     "execution_count": 16,
     "metadata": {},
     "output_type": "execute_result"
    }
   ],
   "source": [
    "↓cross"
   ]
  },
  {
   "cell_type": "markdown",
   "id": "e5ccdc7c",
   "metadata": {},
   "source": [
    "In order to compress rows from *the whole of* `avail` using each Boolean vector in `cross`, we must [enclose](https://mastering.dyalog.com/Nested-Arrays-Continued.html?highlight=enclose#enclose-disclose) (`⊂⍵`) it. \n",
    "\n",
    "<details>\n",
    "    <summary>\n",
    "        Why does <code>avail</code> need enclosing? [click for more information]</summary>\n",
    "    </summary>\n",
    "    The Each <code>F¨</code> operator either loops through two arrays of the same shape, applying its operand function <code>F</code> to corresponding elements in each array, or <em>if one of the arrays is a scalar (rank-0 array)</em>, then it loops over the non-scalar array, applying between the scalar argument and each element in the non-scalar argument. \n",
    "    <br><br>\n",
    "In this case, we want to apply the <strong>compress</strong> function <code>⍺⌿⍵</code> between each Boolean vector in <code>cross</code> and the whole table. We use the <strong>enclose</strong> function <code>⊂⍵</code> to wrap the <code>avail</code> matrix as a nested scalar. `⊂avail` (<em>enclose avail</em>) is a nested scalar which contains a numeric matrix.\n",
    "    <br><br>\n",
    "Another example of this same idea is shown in <a target=\"_blank\" rel=\"noopener noreferrer\" href=\"https://mastering.dyalog.com/Nested-Arrays-Continued.html#scalar-dyadic-functions\">section 10.5.1 of Mastering Dyalog APL</a>.\n",
    "</details>"
   ]
  },
  {
   "cell_type": "code",
   "execution_count": 17,
   "id": "0070c9af",
   "metadata": {},
   "outputs": [
    {
     "data": {
      "text/html": [
       "<span style=\"white-space:pre; font-family: monospace\">┌─────────────────────────┬─────────────────────────┬─────────────────────────┬────────────────────┬─────────────────────────┬───────────────────┬─────────────────────────┐\n",
       "│0 100 150 150 150 150 150│0 150 200 200 300 300 300│0 100 150 150 150 150 150│5  0 30 40 90  90 90│0 150 200 200 300 300 300│5  0 30 40 90 90 90│0 150 200 200 300 300 300│\n",
       "│0 150 200 200 300 300 300│0  50   0  60  30   0  45│                         │0 30 40 30  0 101 99│0  30  40  30   0 101  99│0 50  0 60 30  0 45│5   0  30  40  90  90  90│\n",
       "│                         │                         │                         │                    │                         │                   │0  50   0  60  30   0  45│\n",
       "└─────────────────────────┴─────────────────────────┴─────────────────────────┴────────────────────┴─────────────────────────┴───────────────────┴─────────────────────────┘\n",
       "</span>"
      ]
     },
     "execution_count": 17,
     "metadata": {},
     "output_type": "execute_result"
    }
   ],
   "source": [
    "(↓cross)⌿¨⊂avail"
   ]
  },
  {
   "cell_type": "markdown",
   "id": "9d3ff76f",
   "metadata": {},
   "source": [
    "So now we have the available capacities required for each product:"
   ]
  },
  {
   "cell_type": "code",
   "execution_count": 18,
   "id": "973194d3",
   "metadata": {},
   "outputs": [
    {
     "data": {
      "text/html": [
       "<span style=\"white-space:pre; font-family: monospace\">┌─┬─────────────────────────┐\n",
       "│A│0 100 150 150 150 150 150│\n",
       "│ │0 150 200 200 300 300 300│\n",
       "├─┼─────────────────────────┤\n",
       "│B│0 150 200 200 300 300 300│\n",
       "│ │0  50   0  60  30   0  45│\n",
       "├─┼─────────────────────────┤\n",
       "│C│0 100 150 150 150 150 150│\n",
       "├─┼─────────────────────────┤\n",
       "│D│5  0 30 40 90  90 90     │\n",
       "│ │0 30 40 30  0 101 99     │\n",
       "├─┼─────────────────────────┤\n",
       "│E│0 150 200 200 300 300 300│\n",
       "│ │0  30  40  30   0 101  99│\n",
       "├─┼─────────────────────────┤\n",
       "│F│5  0 30 40 90 90 90      │\n",
       "│ │0 50  0 60 30  0 45      │\n",
       "├─┼─────────────────────────┤\n",
       "│G│0 150 200 200 300 300 300│\n",
       "│ │5   0  30  40  90  90  90│\n",
       "│ │0  50   0  60  30   0  45│\n",
       "└─┴─────────────────────────┘\n",
       "</span>"
      ]
     },
     "execution_count": 18,
     "metadata": {},
     "output_type": "execute_result"
    }
   ],
   "source": [
    "prod ← 'ABCDEFG'\n",
    "prod,⍪(↓cross)⌿¨⊂avail"
   ]
  },
  {
   "cell_type": "markdown",
   "id": "6308789d",
   "metadata": {},
   "source": [
    "We find the least of these for each week (that is, column-wise):"
   ]
  },
  {
   "cell_type": "code",
   "execution_count": 19,
   "id": "736a54c0",
   "metadata": {},
   "outputs": [
    {
     "data": {
      "text/html": [
       "<span style=\"white-space:pre; font-family: monospace\">┌─────────────────────────┬─────────────────┬─────────────────────────┬─────────────────┬───────────────────┬────────────────┬────────────────┐\n",
       "│0 100 150 150 150 150 150│0 50 0 60 30 0 45│0 100 150 150 150 150 150│0 0 30 30 0 90 90│0 30 40 30 0 101 99│0 0 0 40 30 0 45│0 0 0 40 30 0 45│\n",
       "└─────────────────────────┴─────────────────┴─────────────────────────┴─────────────────┴───────────────────┴────────────────┴────────────────┘\n",
       "</span>"
      ]
     },
     "execution_count": 19,
     "metadata": {},
     "output_type": "execute_result"
    }
   ],
   "source": [
    "⌊⌿¨(↓cross)⌿¨⊂avail"
   ]
  },
  {
   "cell_type": "markdown",
   "id": "d05093d1",
   "metadata": {},
   "source": [
    "And finally [**Mix**](https://mastering.dyalog.com/Nested-Arrays-Continued.html#split-and-mix) this nested vector into a matrix. We prefer a simple matrix over a nested vector because it takes less memory to store and is generally easier to use for further calculations."
   ]
  },
  {
   "cell_type": "markdown",
   "id": "40d44c86",
   "metadata": {},
   "source": [
    "### Solution 2\n",
    "`cross(⌊⌿⍤⌿⍤1 2)avail`\n",
    "\n",
    "As a reminder, here are the two essential computations:\n",
    "1. Select rows from `avail` corresponding to each product, as provided in `cross`\n",
    "2. Find the lowest availability in each week from those selected"
   ]
  },
  {
   "cell_type": "markdown",
   "id": "4771866e",
   "metadata": {},
   "source": [
    "Solution 2 uses a function composition operator, called [**atop**]() (`F⍤G`) to package these two steps into a single function. Our combined function applys `⍺⌿⍵` between our two arguments, and `⌊⌿⍵` to the result. For a single row of `cross`, this work as-is."
   ]
  },
  {
   "cell_type": "code",
   "execution_count": 20,
   "id": "bc4006b0",
   "metadata": {},
   "outputs": [
    {
     "data": {
      "text/html": [
       "<span style=\"white-space:pre; font-family: monospace\">0 50 0 60 30 0 45\n",
       "</span>"
      ]
     },
     "execution_count": 20,
     "metadata": {},
     "output_type": "execute_result"
    }
   ],
   "source": [
    "cross[2;] ⌊⌿⍤⌿ avail   ⍝ Minimum reduction atop compress"
   ]
  },
  {
   "cell_type": "markdown",
   "id": "0a2d9e57",
   "metadata": {},
   "source": [
    "However, we want to apply this function between each **row** (rank-1 array) of `cross` and the **whole** (rank-2 array) of `avail`. The [**rank operator**](https://xpqz.github.io/learnapl/rank.html) lets us put \"[blinders](https://en.wikipedia.org/wiki/Blinkers_(horse_tack))\" on our function so that it can only see parts of our arrays that we tell it to."
   ]
  },
  {
   "cell_type": "markdown",
   "id": "e52eab97",
   "metadata": {},
   "source": [
    "Let's start with a smaller example. Here `{⍺⍵}` is a function which returns its arguments:"
   ]
  },
  {
   "cell_type": "code",
   "execution_count": 21,
   "id": "1beae145",
   "metadata": {},
   "outputs": [
    {
     "data": {
      "text/html": [
       "<span style=\"white-space:pre; font-family: monospace\">┌─────┬──┐\n",
       "│1 2 3│AB│\n",
       "│     │CD│\n",
       "│     │AB│\n",
       "└─────┴──┘\n",
       "</span>"
      ]
     },
     "execution_count": 21,
     "metadata": {},
     "output_type": "execute_result"
    }
   ],
   "source": [
    "1 2 3 {⍺⍵} 3 2⍴'ABCD'"
   ]
  },
  {
   "cell_type": "markdown",
   "id": "dd9c24cc",
   "metadata": {},
   "source": [
    "Let's use this function `{⍺⍵}` to pair up each number (rank 0 scalar) of `⍺` and each row (rank 1 vector) of `⍵`.\n",
    "\n",
    "<details>\n",
    "<summary>Why is <code>({⍺⍵}⍤0 1)</code> parenthesised? [click for more information]</summary>\n",
    "Parentheses are required here to prevent our array right operand <code>0 1</code> from being confused with our right argument <code>3 2⍴⎕A</code>.\n",
    "        \n",
    "<pre><code>\n",
    "      1 2 3 {⍺⍵}⍤0 1 3 2⍴⎕A\n",
    "LENGTH ERROR\n",
    "      1 2 3{⍺ ⍵}⍤0 1 3 2⍴⎕A\n",
    "                ∧\n",
    "</code></pre>\n",
    "    \n",
    "You might also see the right-tack `⊢` used for the same effect:\n",
    "    \n",
    "<pre><code>\n",
    "1 2 3{⍺⍵}⍤0 1⊢3 2⍴⎕A\n",
    "</code></pre>\n",
    "    \n",
    "</details>"
   ]
  },
  {
   "cell_type": "code",
   "execution_count": 22,
   "id": "e96e1764",
   "metadata": {},
   "outputs": [
    {
     "data": {
      "text/html": [
       "<span style=\"white-space:pre; font-family: monospace\">┌─┬──┐\n",
       "│1│AB│\n",
       "├─┼──┤\n",
       "│2│CD│\n",
       "├─┼──┤\n",
       "│3│EF│\n",
       "└─┴──┘\n",
       "</span>"
      ]
     },
     "execution_count": 22,
     "metadata": {},
     "output_type": "execute_result"
    }
   ],
   "source": [
    "1 2 3 ({⍺⍵}⍤0 1) 3 2⍴⎕A "
   ]
  },
  {
   "cell_type": "markdown",
   "id": "3ea55588",
   "metadata": {},
   "source": [
    "Or we can pair each scalar with each matrix (rank 2) of our right argument. Since our right argument *is* a matrix, the entire array is used repeatedly."
   ]
  },
  {
   "cell_type": "code",
   "execution_count": 23,
   "id": "a8bbcaa2",
   "metadata": {},
   "outputs": [
    {
     "data": {
      "text/html": [
       "<span style=\"white-space:pre; font-family: monospace\">┌─┬──┐\n",
       "│1│AB│\n",
       "│ │CD│\n",
       "│ │EF│\n",
       "├─┼──┤\n",
       "│2│AB│\n",
       "│ │CD│\n",
       "│ │EF│\n",
       "├─┼──┤\n",
       "│3│AB│\n",
       "│ │CD│\n",
       "│ │EF│\n",
       "└─┴──┘\n",
       "</span>"
      ]
     },
     "execution_count": 23,
     "metadata": {},
     "output_type": "execute_result"
    }
   ],
   "source": [
    "1 2 3 ({⍺⍵}⍤0 2) 3 2⍴⎕A"
   ]
  },
  {
   "cell_type": "markdown",
   "id": "b914a596",
   "metadata": {},
   "source": [
    "Now back to our manufacturing problem. We want rows (rank 1) of `cross` used with the whole (rank 2) of `avail`."
   ]
  },
  {
   "cell_type": "code",
   "execution_count": 24,
   "id": "c7e503f7",
   "metadata": {},
   "outputs": [
    {
     "data": {
      "text/html": [
       "<span style=\"white-space:pre; font-family: monospace\">┌─────────┬─────────────────────────┐\n",
       "│1 1 0 0 0│0 100 150 150 150 150 150│\n",
       "│         │0 150 200 200 300 300 300│\n",
       "│         │5   0  30  40  90  90  90│\n",
       "│         │0  50   0  60  30   0  45│\n",
       "│         │0  30  40  30   0 101  99│\n",
       "├─────────┼─────────────────────────┤\n",
       "│0 1 0 1 0│0 100 150 150 150 150 150│\n",
       "│         │0 150 200 200 300 300 300│\n",
       "│         │5   0  30  40  90  90  90│\n",
       "│         │0  50   0  60  30   0  45│\n",
       "│         │0  30  40  30   0 101  99│\n",
       "├─────────┼─────────────────────────┤\n",
       "│1 0 0 0 0│0 100 150 150 150 150 150│\n",
       "│         │0 150 200 200 300 300 300│\n",
       "│         │5   0  30  40  90  90  90│\n",
       "│         │0  50   0  60  30   0  45│\n",
       "│         │0  30  40  30   0 101  99│\n",
       "├─────────┼─────────────────────────┤\n",
       "│0 0 1 0 1│0 100 150 150 150 150 150│\n",
       "│         │0 150 200 200 300 300 300│\n",
       "│         │5   0  30  40  90  90  90│\n",
       "│         │0  50   0  60  30   0  45│\n",
       "│         │0  30  40  30   0 101  99│\n",
       "├─────────┼─────────────────────────┤\n",
       "│0 1 0 0 1│0 100 150 150 150 150 150│\n",
       "│         │0 150 200 200 300 300 300│\n",
       "│         │5   0  30  40  90  90  90│\n",
       "│         │0  50   0  60  30   0  45│\n",
       "│         │0  30  40  30   0 101  99│\n",
       "├─────────┼─────────────────────────┤\n",
       "│0 0 1 1 0│0 100 150 150 150 150 150│\n",
       "│         │0 150 200 200 300 300 300│\n",
       "│         │5   0  30  40  90  90  90│\n",
       "│         │0  50   0  60  30   0  45│\n",
       "│         │0  30  40  30   0 101  99│\n",
       "├─────────┼─────────────────────────┤\n",
       "│0 1 1 1 0│0 100 150 150 150 150 150│\n",
       "│         │0 150 200 200 300 300 300│\n",
       "│         │5   0  30  40  90  90  90│\n",
       "│         │0  50   0  60  30   0  45│\n",
       "│         │0  30  40  30   0 101  99│\n",
       "└─────────┴─────────────────────────┘\n",
       "</span>"
      ]
     },
     "execution_count": 24,
     "metadata": {},
     "output_type": "execute_result"
    }
   ],
   "source": [
    "cross ({⍺⍵}⍤1 2) avail"
   ]
  },
  {
   "cell_type": "markdown",
   "id": "e3d34dba",
   "metadata": {},
   "source": [
    "Essentially, the rank operator controls what its operand function \"sees\" as its arguments. Conceptually we are looping over our arguments, although the implementation of some functions applied with rank could be parallel instead."
   ]
  },
  {
   "cell_type": "markdown",
   "id": "37dadbba",
   "metadata": {},
   "source": [
    "Now that our arguments are correctly paired up, we simply put our function `⌊⌿⍤⌿` in place of `{⍺⍵}` and we are done:"
   ]
  },
  {
   "cell_type": "code",
   "execution_count": 25,
   "id": "2bc0416b",
   "metadata": {},
   "outputs": [
    {
     "data": {
      "text/html": [
       "<span style=\"white-space:pre; font-family: monospace\">0 100 150 150 150 150 150\n",
       "0  50   0  60  30   0  45\n",
       "0 100 150 150 150 150 150\n",
       "0   0  30  30   0  90  90\n",
       "0  30  40  30   0 101  99\n",
       "0   0   0  40  30   0  45\n",
       "0   0   0  40  30   0  45\n",
       "</span>"
      ]
     },
     "execution_count": 25,
     "metadata": {},
     "output_type": "execute_result"
    }
   ],
   "source": [
    "cross (⌊⌿⍤⌿⍤1 2) avail"
   ]
  },
  {
   "cell_type": "markdown",
   "id": "14f44364",
   "metadata": {},
   "source": [
    "## Useful array representations\n",
    "Getting other interesting information from this data is also easy:"
   ]
  },
  {
   "cell_type": "markdown",
   "id": "cca26783",
   "metadata": {},
   "source": [
    "The number of capacities used per product:"
   ]
  },
  {
   "cell_type": "code",
   "execution_count": 26,
   "id": "c18608bd",
   "metadata": {},
   "outputs": [
    {
     "data": {
      "text/html": [
       "<span style=\"white-space:pre; font-family: monospace\">2 2 1 2 2 2 3\n",
       "</span>"
      ]
     },
     "execution_count": 26,
     "metadata": {},
     "output_type": "execute_result"
    }
   ],
   "source": [
    "+/cross   ⍝ This is a row-wise sum"
   ]
  },
  {
   "cell_type": "markdown",
   "id": "312e3a49",
   "metadata": {},
   "source": [
    "The number of products which use each capacity:"
   ]
  },
  {
   "cell_type": "code",
   "execution_count": 27,
   "id": "57bcfe64",
   "metadata": {},
   "outputs": [
    {
     "data": {
      "text/html": [
       "<span style=\"white-space:pre; font-family: monospace\">2 4 3 3 2\n",
       "</span>"
      ]
     },
     "execution_count": 27,
     "metadata": {},
     "output_type": "execute_result"
    }
   ],
   "source": [
    "+⌿cross"
   ]
  },
  {
   "cell_type": "markdown",
   "id": "6ed7d547",
   "metadata": {},
   "source": [
    "The list of products which use capacity 2:"
   ]
  },
  {
   "cell_type": "code",
   "execution_count": 28,
   "id": "e70fb117",
   "metadata": {},
   "outputs": [
    {
     "data": {
      "text/html": [
       "<span style=\"white-space:pre; font-family: monospace\">ABEG\n",
       "</span>"
      ]
     },
     "execution_count": 28,
     "metadata": {},
     "output_type": "execute_result"
    }
   ],
   "source": [
    "cross[;2]⌿prod"
   ]
  },
  {
   "cell_type": "markdown",
   "id": "123d27be",
   "metadata": {},
   "source": [
    "## Orders vs. Bill Of Materials\n",
    "Now for our 2nd example.\n",
    "\n",
    "A complicated configurable product might have an almost unique Bill of Material (BOM) for each order. There are around $2,000$ parts in each product and the total number of possible parts is $5,000$. This means that there is a high degree of re-use. That is, the configured products have a lot of common parts. Actually, one part could exist in more than one place in a product and there could be more than one part in each location."
   ]
  },
  {
   "cell_type": "markdown",
   "id": "7c8c78d1",
   "metadata": {},
   "source": [
    "In our example, we have $6,000$ rules which govern the use of these $5,000$ parts. We have $100,000$ orders of these products. So we have a cross matrix of $100,000 \\times 6,000$. This is a fairly dense Boolean matrix with a size of $75$ MB. This is very space-efficient to store and handle. If you handle it as combinations of orders and BOM-rules it would require $100,000 \\times 2,000$ records of $8$ bytes each. This would be around $1.6$ GB."
   ]
  },
  {
   "cell_type": "markdown",
   "id": "c0379aba",
   "metadata": {},
   "source": [
    "As a small example, let us have $4$ BOM rules...\n",
    "\n",
    "|ID|part|place|quantity\n",
    "|---|---|---|---|\n",
    "|1|A531|abc|1|\n",
    "|2|A531|ukt|2|\n",
    "|3|B810|ukt|1|\n",
    "|4|A830|avb|3|"
   ]
  },
  {
   "cell_type": "code",
   "execution_count": 29,
   "id": "eebb475a",
   "metadata": {},
   "outputs": [],
   "source": [
    "bom ← 0 4⍴''\n",
    "bom⍪← 1 'A531' 'abc' 1\n",
    "bom⍪← 2 'A531' 'ukt' 2\n",
    "bom⍪← 3 'B810' 'ukt' 1\n",
    "bom⍪← 4 'B830' 'ukt' 3"
   ]
  },
  {
   "cell_type": "markdown",
   "id": "ba85aba4",
   "metadata": {},
   "source": [
    "... and $5$ orders:\n",
    "\n",
    "```\n",
    "X001\n",
    "X002\n",
    "Y003\n",
    "Y856\n",
    "Z125\n",
    "```"
   ]
  },
  {
   "cell_type": "markdown",
   "id": "9bd39f34",
   "metadata": {},
   "source": [
    "Our cross matrix says which rules apply to which orders:\n",
    "\n",
    "|Order\\Rule|1|2|3|4|\n",
    "|---|----|---|---|---|\n",
    "| X001 |1|0|0|1|\n",
    "| X002 |1|1|0|1|\n",
    "| Y003 |0|1|1|0|\n",
    "| Y856 |0|1|1|1|\n",
    "| Z125 |1|0|0|1|\n"
   ]
  },
  {
   "cell_type": "code",
   "execution_count": 30,
   "id": "d9a24150",
   "metadata": {},
   "outputs": [
    {
     "data": {
      "text/html": [
       "<span style=\"white-space:pre; font-family: monospace\">1 0 0 1\n",
       "1 1 0 1\n",
       "0 1 1 0\n",
       "0 1 1 1\n",
       "1 0 0 1\n",
       "</span>"
      ]
     },
     "execution_count": 30,
     "metadata": {},
     "output_type": "execute_result"
    }
   ],
   "source": [
    "⎕ ← ord_bom ← 5 4⍴1 0 0,(3/1),0 1 0 1 1 0 0,(4/1),0 0"
   ]
  },
  {
   "cell_type": "markdown",
   "id": "ea527ab3",
   "metadata": {},
   "source": [
    "From the Boolean cross matrix we can pick the BOM list for some orders:"
   ]
  },
  {
   "cell_type": "code",
   "execution_count": 31,
   "id": "683e895a",
   "metadata": {},
   "outputs": [
    {
     "data": {
      "text/html": [
       "<span style=\"white-space:pre; font-family: monospace\">┌────┬────┬────┐\n",
       "│A531│B830│    │\n",
       "├────┼────┼────┤\n",
       "│A531│A531│B830│\n",
       "├────┼────┼────┤\n",
       "│A531│B810│    │\n",
       "├────┼────┼────┤\n",
       "│A531│B810│B830│\n",
       "├────┼────┼────┤\n",
       "│A531│B830│    │\n",
       "└────┴────┴────┘\n",
       "</span>"
      ]
     },
     "execution_count": 31,
     "metadata": {},
     "output_type": "execute_result"
    }
   ],
   "source": [
    "ord_bom⌿⍤1 2⊢bom[;2]"
   ]
  },
  {
   "cell_type": "markdown",
   "id": "dd124d8b",
   "metadata": {},
   "source": [
    "... and the quantity of each."
   ]
  },
  {
   "cell_type": "code",
   "execution_count": 91,
   "id": "1871e7e3",
   "metadata": {},
   "outputs": [
    {
     "data": {
      "text/html": [
       "<span style=\"white-space:pre; font-family: monospace\">1 3 0\n",
       "1 2 3\n",
       "2 1 0\n",
       "2 1 3\n",
       "1 3 0\n",
       "</span>"
      ]
     },
     "execution_count": 91,
     "metadata": {},
     "output_type": "execute_result"
    }
   ],
   "source": [
    "ord_bom(⌿⍤1 2)bom[;4]"
   ]
  },
  {
   "cell_type": "markdown",
   "id": "390309d5",
   "metadata": {},
   "source": [
    "We might be confident that no order IDs will ever be blank, or that numbers will ever have an amount of $0$ orders. In that case, empty cells and $0$s in our results are due to the different quantity of rules used for each order. However, if we cannot be sure, then we might want to enclose the result of each selection."
   ]
  },
  {
   "cell_type": "code",
   "execution_count": 65,
   "id": "c974af25",
   "metadata": {},
   "outputs": [
    {
     "data": {
      "text/html": [
       "<span style=\"white-space:pre; font-family: monospace\">┌───────────┬────────────────┬───────────┬────────────────┬───────────┐\n",
       "│┌────┬────┐│┌────┬────┬────┐│┌────┬────┐│┌────┬────┬────┐│┌────┬────┐│\n",
       "││A531│B830│││A531│A531│B830│││A531│B810│││A531│B810│B830│││A531│B830││\n",
       "│└────┴────┘│└────┴────┴────┘│└────┴────┘│└────┴────┴────┘│└────┴────┘│\n",
       "└───────────┴────────────────┴───────────┴────────────────┴───────────┘\n",
       "</span>"
      ]
     },
     "execution_count": 65,
     "metadata": {},
     "output_type": "execute_result"
    }
   ],
   "source": [
    "ord_bom(⊂⍤⌿⍤1)bom[;2]"
   ]
  },
  {
   "cell_type": "code",
   "execution_count": 58,
   "id": "7f81344c",
   "metadata": {},
   "outputs": [
    {
     "data": {
      "text/html": [
       "<span style=\"white-space:pre; font-family: monospace\">┌───┬─────┬───┬─────┬───┐\n",
       "│1 3│1 2 3│2 1│2 1 3│1 3│\n",
       "└───┴─────┴───┴─────┴───┘\n",
       "</span>"
      ]
     },
     "execution_count": 58,
     "metadata": {},
     "output_type": "execute_result"
    }
   ],
   "source": [
    "ord_bom(⊂⍤⌿⍤1)bom[;4]"
   ]
  },
  {
   "cell_type": "markdown",
   "id": "82dbeea0",
   "metadata": {},
   "source": [
    "Or we could split `ord_bom` into nested arrays first and use Each:"
   ]
  },
  {
   "cell_type": "code",
   "execution_count": 60,
   "id": "3bd4fa10",
   "metadata": {},
   "outputs": [
    {
     "data": {
      "text/html": [
       "<span style=\"white-space:pre; font-family: monospace\">┌───┬─────┬───┬─────┬───┐\n",
       "│1 3│1 2 3│2 1│2 1 3│1 3│\n",
       "└───┴─────┴───┴─────┴───┘\n",
       "</span>"
      ]
     },
     "execution_count": 60,
     "metadata": {},
     "output_type": "execute_result"
    }
   ],
   "source": [
    "(↓ord_bom)⌿¨⊂bom[;4]"
   ]
  },
  {
   "cell_type": "markdown",
   "id": "8c8197d5",
   "metadata": {},
   "source": [
    "We may have some goal in mind when we write a piece of code - or rather, when we decide to stop writing some code:\n",
    "\n",
    "- Solving the problem as quickly as possible  \n",
    "  The method which we can code now using the tools we have available.\n",
    "- Expressing the solution as clearly as possible  \n",
    "  For our future selves and others to be able to quickly debug, refactor or extend.\n",
    "- Using the most efficient encoding possible  \n",
    "  This code is going to be run many times, unchanged, on large amounts of data.  \n",
    "  We may sometimes want the fastest code, or the code which uses least memory, or both."
   ]
  },
  {
   "cell_type": "markdown",
   "id": "3f1817f5",
   "metadata": {},
   "source": [
    "Right now, `bom` is a nested matrix of data of different types in each cell. It is more efficient to store a vector of arrays of the same type.\n",
    "\n",
    "Here, `bom_inv` is what is known as an \"**inverted table**\". Each of its elements is a flat, simple array of the same datatype. In this case, a numeric vector, two character matrices and another numeric vector."
   ]
  },
  {
   "cell_type": "code",
   "execution_count": 106,
   "id": "e6973daf",
   "metadata": {},
   "outputs": [
    {
     "data": {
      "text/html": [
       "<span style=\"white-space:pre; font-family: monospace\">┌───────┬────┬───┬───────┐\n",
       "│4      │4 4 │4 3│4      │\n",
       "├───────┼────┼───┼───────┤\n",
       "│1 2 3 4│A531│abc│1 2 1 3│\n",
       "│       │A531│ukt│       │\n",
       "│       │B810│ukt│       │\n",
       "│       │B830│ukt│       │\n",
       "└───────┴────┴───┴───────┘\n",
       "</span>"
      ]
     },
     "execution_count": 106,
     "metadata": {},
     "output_type": "execute_result"
    }
   ],
   "source": [
    "bom_inv ← ↑¨↓⍉bom\n",
    "↑(⍴¨bom_inv)bom_inv"
   ]
  },
  {
   "cell_type": "code",
   "execution_count": 145,
   "id": "9fce6ab4",
   "metadata": {},
   "outputs": [
    {
     "data": {
      "text/html": [
       "<span style=\"white-space:pre; font-family: monospace\">744\n",
       "</span>"
      ]
     },
     "execution_count": 145,
     "metadata": {},
     "output_type": "execute_result"
    },
    {
     "data": {
      "text/html": [
       "<span style=\"white-space:pre; font-family: monospace\">256\n",
       "</span>"
      ]
     },
     "execution_count": 145,
     "metadata": {},
     "output_type": "execute_result"
    },
    {
     "data": {
      "text/html": [
       "<span style=\"white-space:pre; font-family: monospace\">2.90625\n",
       "</span>"
      ]
     },
     "execution_count": 145,
     "metadata": {},
     "output_type": "execute_result"
    }
   ],
   "source": [
    "⎕←sb←⎕SIZE'bom'\n",
    "⎕←sbi←⎕SIZE'bom_inv'\n",
    "sb÷sbi"
   ]
  },
  {
   "cell_type": "code",
   "execution_count": 1,
   "id": "1c7d9d6f",
   "metadata": {},
   "outputs": [
    {
     "data": {
      "text/html": [
       "<span style=\"white-space:pre; font-family: monospace\">0\n",
       "</span>"
      ]
     },
     "execution_count": 1,
     "metadata": {},
     "output_type": "execute_result"
    }
   ],
   "source": [
    "parts ← {(⎕A[?⍵ 1⍴26]),⍤1⍕⍪99+?⍵⍴900}5000\n",
    "(⊢≡∪)parts   ⍝ Are our parts unique?"
   ]
  },
  {
   "cell_type": "code",
   "execution_count": 133,
   "id": "4ac927b7",
   "metadata": {},
   "outputs": [
    {
     "data": {
      "text/html": [
       "<span style=\"white-space:pre; font-family: monospace\">┌────┬──────┬──────┬────┐\n",
       "│5000│5000 4│5000 3│5000│\n",
       "└────┴──────┴──────┴────┘\n",
       "</span>"
      ]
     },
     "execution_count": 133,
     "metadata": {},
     "output_type": "execute_result"
    }
   ],
   "source": [
    "big_bom ← {(⍳⍵)(('ABC'[?⍵⍴3]),⎕D[?⍵ 3⍴10])(¯1⎕C⎕A[?⍵ 3⍴6])(?⍵⍴6)}5000\n",
    "⍴¨big_bom"
   ]
  },
  {
   "cell_type": "code",
   "execution_count": 33,
   "id": "0d9d1f68",
   "metadata": {},
   "outputs": [
    {
     "data": {
      "text/html": [
       "<span style=\"white-space:pre; font-family: monospace\">                                                                                \n",
       "  ord_bom(⊂⍤⌿⍤1)bom[;2] → 1.6E¯6 |  0% ⎕⎕⎕⎕⎕⎕⎕⎕⎕⎕⎕⎕⎕⎕⎕⎕⎕⎕⎕⎕⎕⎕⎕⎕⎕⎕⎕⎕⎕⎕⎕⎕⎕⎕⎕⎕⎕⎕⎕⎕ \n",
       "  (↓ord_bom)⌿¨⊂bom[;2]  → 1.6E¯6 | -1% ⎕⎕⎕⎕⎕⎕⎕⎕⎕⎕⎕⎕⎕⎕⎕⎕⎕⎕⎕⎕⎕⎕⎕⎕⎕⎕⎕⎕⎕⎕⎕⎕⎕⎕⎕⎕⎕⎕⎕⎕ \n",
       "</span>"
      ]
     },
     "execution_count": 33,
     "metadata": {},
     "output_type": "execute_result"
    }
   ],
   "source": [
    "]runtime -c \"ord_bom(⊂⍤⌿⍤1)bom[;2]\" \"(↓ord_bom)⌿¨⊂bom[;2]\""
   ]
  },
  {
   "cell_type": "code",
   "execution_count": 110,
   "id": "d8f6b92a",
   "metadata": {},
   "outputs": [
    {
     "data": {
      "text/html": [
       "<span style=\"white-space:pre; font-family: monospace\">30208\n",
       "</span>"
      ]
     },
     "execution_count": 110,
     "metadata": {},
     "output_type": "execute_result"
    }
   ],
   "source": [
    "⎕SIZE'big_bom'"
   ]
  },
  {
   "cell_type": "code",
   "execution_count": 123,
   "id": "146e9253",
   "metadata": {},
   "outputs": [
    {
     "data": {
      "text/html": [
       "<span style=\"white-space:pre; font-family: monospace\">3000 4\n",
       "</span>"
      ]
     },
     "execution_count": 123,
     "metadata": {},
     "output_type": "execute_result"
    },
    {
     "data": {
      "text/html": [
       "<span style=\"white-space:pre; font-family: monospace\">576040\n",
       "</span>"
      ]
     },
     "execution_count": 123,
     "metadata": {},
     "output_type": "execute_result"
    }
   ],
   "source": [
    "⍴bb←⍉↑↓∘⍪¨big_bom\n",
    "⎕SIZE'bb'"
   ]
  },
  {
   "cell_type": "code",
   "execution_count": 134,
   "id": "ba1427c1",
   "metadata": {},
   "outputs": [],
   "source": [
    "big_ord_bom ← 1=?10000 5000⍴2"
   ]
  },
  {
   "cell_type": "code",
   "execution_count": 136,
   "id": "1fe118e3",
   "metadata": {},
   "outputs": [
    {
     "data": {
      "text/html": [
       "<span style=\"white-space:pre; font-family: monospace\">5000 4\n",
       "</span>"
      ]
     },
     "execution_count": 136,
     "metadata": {},
     "output_type": "execute_result"
    },
    {
     "data": {
      "text/html": [
       "<span style=\"white-space:pre; font-family: monospace\">10000 5000\n",
       "</span>"
      ]
     },
     "execution_count": 136,
     "metadata": {},
     "output_type": "execute_result"
    },
    {
     "data": {
      "text/html": [
       "<span style=\"white-space:pre; font-family: monospace\">10000\n",
       "</span>"
      ]
     },
     "execution_count": 136,
     "metadata": {},
     "output_type": "execute_result"
    }
   ],
   "source": [
    "⍴2⊃big_bom\n",
    "⍴big_ord_bom\n",
    "⍴r1←big_ord_bom(⊂⍤⌿⍤1 2)2⊃big_bom"
   ]
  },
  {
   "cell_type": "code",
   "execution_count": 137,
   "id": "709ce2ee",
   "metadata": {},
   "outputs": [
    {
     "data": {
      "text/html": [
       "<span style=\"white-space:pre; font-family: monospace\">10000\n",
       "</span>"
      ]
     },
     "execution_count": 137,
     "metadata": {},
     "output_type": "execute_result"
    }
   ],
   "source": [
    "⍴r2←(↓big_ord_bom)⌿¨big_bom[2]"
   ]
  },
  {
   "cell_type": "code",
   "execution_count": 140,
   "id": "8c635a5e",
   "metadata": {},
   "outputs": [],
   "source": [
    "⎕EX'r1' 'r2'"
   ]
  },
  {
   "cell_type": "code",
   "execution_count": 143,
   "id": "9b8f5c7d",
   "metadata": {},
   "outputs": [
    {
     "data": {
      "text/html": [
       "<span style=\"white-space:pre; font-family: monospace\">                                                                                        \n",
       "  big_ord_bom(⊂⍤⌿⍤1 2)2⊃big_bom → 3.7E¯2 |  0% ⎕⎕⎕⎕⎕⎕⎕⎕⎕⎕⎕⎕⎕⎕⎕⎕⎕⎕⎕⎕⎕⎕⎕⎕⎕⎕⎕⎕⎕⎕⎕⎕⎕⎕⎕⎕⎕⎕⎕  \n",
       "  (↓big_ord_bom)⌿¨big_bom[2]    → 3.8E¯2 | +1% ⎕⎕⎕⎕⎕⎕⎕⎕⎕⎕⎕⎕⎕⎕⎕⎕⎕⎕⎕⎕⎕⎕⎕⎕⎕⎕⎕⎕⎕⎕⎕⎕⎕⎕⎕⎕⎕⎕⎕⎕ \n",
       "</span>"
      ]
     },
     "execution_count": 143,
     "metadata": {},
     "output_type": "execute_result"
    }
   ],
   "source": [
    "]runtime -c \"big_ord_bom(⊂⍤⌿⍤1 2)2⊃big_bom\" \"(↓big_ord_bom)⌿¨big_bom[2]\""
   ]
  },
  {
   "cell_type": "markdown",
   "id": "29622064",
   "metadata": {},
   "source": [
    "A difference of a few percent or less is not due to real APL runtime differences, but can be attributed to whatever the operating system may be doing.\n",
    "\n",
    "As of writing, in Dyalog version 18.2, the rank operator is only aware of special cases of particular primitive functions, such as `+⌿`. In general, `F⍤j k` will split its arguments into nested arrays and apply its operand function using each: `↑(⊂⍤j⊢⍺)F¨(⊂⍤k⊢⍵)`. In other words, our two approaches are equivalent in the current implementation.\n",
    "\n",
    "However, the concept of the rank operator and its general applicability make it a worthwhile subject of study for any prospective APLer."
   ]
  },
  {
   "cell_type": "markdown",
   "id": "c2a5dbc6",
   "metadata": {},
   "source": [
    "The use of Boolean values to select from arrays, as shown here, is one of the most common patterns in APL. Boolean representations are very space efficient, and APL implementations are usually optimised for operations on Boolean arrays."
   ]
  }
 ],
 "metadata": {
  "kernelspec": {
   "display_name": "Dyalog APL",
   "language": "apl",
   "name": "dyalog-kernel"
  },
  "language_info": {
   "file_extension": ".apl",
   "mimetype": "text/apl",
   "name": "APL"
  }
 },
 "nbformat": 4,
 "nbformat_minor": 5
}
